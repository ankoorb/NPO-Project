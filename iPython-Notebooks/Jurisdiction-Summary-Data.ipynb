{
 "cells": [
  {
   "cell_type": "markdown",
   "metadata": {
    "slideshow": {
     "slide_type": "slide"
    }
   },
   "source": [
    "**[Jurisdiction Waste Diversion Program Summary](http://www.calrecycle.ca.gov/LGCentral/Reports/DiversionProgram/JurisdictionDiversionPrograms.aspx)** - Extract Location ID and Name"
   ]
  },
  {
   "cell_type": "code",
   "execution_count": 1,
   "metadata": {
    "collapsed": true,
    "slideshow": {
     "slide_type": "slide"
    }
   },
   "outputs": [],
   "source": [
    "from bs4 import BeautifulSoup\n",
    "import urllib2\n",
    "import pandas as pd"
   ]
  },
  {
   "cell_type": "code",
   "execution_count": 2,
   "metadata": {
    "collapsed": false
   },
   "outputs": [
    {
     "data": {
      "text/html": [
       "<select id=\"ctl00_cphBody_ddlJurisdiction\" name=\"ctl00$cphBody$ddlJurisdiction\">\n",
       "            <option value=\"\">\n",
       "            </option>\n",
       "            <option value=\"1\">\n",
       "             Adelanto\n",
       "            </option>\n",
       "            <option value=\"2\">\n",
       "             Agoura Hills\n",
       "            </option>\n",
       "            <option value=\"3\">\n",
       "             Alameda\n",
       "            </option>\n",
       "            <option value=\"5\">\n",
       "             Alameda-Unincorporated\n",
       "            </option>\n",
       "</select>   "
      ],
      "text/plain": [
       "<IPython.core.display.HTML object>"
      ]
     },
     "metadata": {},
     "output_type": "display_data"
    }
   ],
   "source": [
    "%%html # Renders HTML\n",
    "<select id=\"ctl00_cphBody_ddlJurisdiction\" name=\"ctl00$cphBody$ddlJurisdiction\">\n",
    "            <option value=\"\">\n",
    "            </option>\n",
    "            <option value=\"1\">\n",
    "             Adelanto\n",
    "            </option>\n",
    "            <option value=\"2\">\n",
    "             Agoura Hills\n",
    "            </option>\n",
    "            <option value=\"3\">\n",
    "             Alameda\n",
    "            </option>\n",
    "            <option value=\"5\">\n",
    "             Alameda-Unincorporated\n",
    "            </option>\n",
    "</select>   "
   ]
  },
  {
   "cell_type": "code",
   "execution_count": 3,
   "metadata": {
    "collapsed": false
   },
   "outputs": [
    {
     "name": "stdout",
     "output_type": "stream",
     "text": [
      "Type:  <class 'bs4.element.Tag'>\n",
      "Tag:  <option value=\"1\">\n",
      "             Adelanto\n",
      "            </option>\n",
      "Value:  1\n",
      "Contents:  \n",
      "             Adelanto\n",
      "            \n"
     ]
    }
   ],
   "source": [
    "html = '''<select id=\"ctl00_cphBody_ddlJurisdiction\" name=\"ctl00$cphBody$ddlJurisdiction\">\n",
    "            <option value=\"\">\n",
    "            </option>\n",
    "            <option value=\"1\">\n",
    "             Adelanto\n",
    "            </option>\n",
    "            <option value=\"2\">\n",
    "             Agoura Hills\n",
    "            </option>\n",
    "            <option value=\"3\">\n",
    "             Alameda\n",
    "            </option>\n",
    "            <option value=\"5\">\n",
    "             Alameda-Unincorporated\n",
    "            </option>\n",
    "</select>'''\n",
    "\n",
    "bsObj = BeautifulSoup(html, 'html.parser')\n",
    "temp = bsObj.find('select', {'id':'ctl00_cphBody_ddlJurisdiction', 'name':'ctl00$cphBody$ddlJurisdiction'}).findAll('option')\n",
    "for t in temp[1:2]:\n",
    "    print 'Type: ', type(t) \n",
    "    print 'Tag: ', t\n",
    "    print 'Value: ', t.attrs['value']\n",
    "    print 'Contents: ', t.text"
   ]
  },
  {
   "cell_type": "code",
   "execution_count": 4,
   "metadata": {
    "collapsed": false
   },
   "outputs": [
    {
     "name": "stdout",
     "output_type": "stream",
     "text": [
      "570 570\n"
     ]
    },
    {
     "name": "stderr",
     "output_type": "stream",
     "text": [
      "/Applications/anaconda/lib/python2.7/site-packages/bs4/__init__.py:166: UserWarning: No parser was explicitly specified, so I'm using the best available HTML parser for this system (\"lxml\"). This usually isn't a problem, but if you run this code on another system, or in a different virtual environment, it may use a different parser and behave differently.\n",
      "\n",
      "To get rid of this warning, change this:\n",
      "\n",
      " BeautifulSoup([your markup])\n",
      "\n",
      "to this:\n",
      "\n",
      " BeautifulSoup([your markup], \"lxml\")\n",
      "\n",
      "  markup_type=markup_type))\n"
     ]
    },
    {
     "data": {
      "text/html": [
       "<div style=\"max-height:1000px;max-width:1500px;overflow:auto;\">\n",
       "<table border=\"1\" class=\"dataframe\">\n",
       "  <thead>\n",
       "    <tr style=\"text-align: right;\">\n",
       "      <th></th>\n",
       "      <th>id</th>\n",
       "      <th>jurisdiction</th>\n",
       "    </tr>\n",
       "  </thead>\n",
       "  <tbody>\n",
       "    <tr>\n",
       "      <th>0</th>\n",
       "      <td> 1</td>\n",
       "      <td>     Adelanto</td>\n",
       "    </tr>\n",
       "    <tr>\n",
       "      <th>1</th>\n",
       "      <td> 2</td>\n",
       "      <td> Agoura Hills</td>\n",
       "    </tr>\n",
       "    <tr>\n",
       "      <th>2</th>\n",
       "      <td> 3</td>\n",
       "      <td>      Alameda</td>\n",
       "    </tr>\n",
       "  </tbody>\n",
       "</table>\n",
       "</div>"
      ],
      "text/plain": [
       "  id  jurisdiction\n",
       "0  1      Adelanto\n",
       "1  2  Agoura Hills\n",
       "2  3       Alameda"
      ]
     },
     "execution_count": 4,
     "metadata": {},
     "output_type": "execute_result"
    }
   ],
   "source": [
    "summary_url = 'http://www.calrecycle.ca.gov/LGCentral/Reports/DiversionProgram/JurisdictionDiversionPrograms.aspx'\n",
    "html = urllib2.urlopen(summary_url)\n",
    "bsObj = BeautifulSoup(html)\n",
    "\n",
    "temp = bsObj.find('select', {'id':'ctl00_cphBody_ddlJurisdiction', 'name':'ctl00$cphBody$ddlJurisdiction'}).findAll('option')\n",
    "\n",
    "value = []\n",
    "content = []\n",
    "for t in temp:\n",
    "    value.append(t.attrs['value'])\n",
    "    content.append(t.text)\n",
    "\n",
    "    \n",
    "print len(value), len(content)\n",
    "\n",
    "data = {'id': pd.Series(value), 'jurisdiction': pd.Series(content)}\n",
    "df = pd.DataFrame(data)\n",
    "df = df.ix[1:].reset_index() # remove 1st row and reset index\n",
    "del df['index'] # delete old-index column\n",
    "df.to_csv('ca_jurisdictions.csv') # write csv\n",
    "df.head(3)"
   ]
  },
  {
   "cell_type": "code",
   "execution_count": 5,
   "metadata": {
    "collapsed": true
   },
   "outputs": [],
   "source": [
    "base_url = 'http://www.calrecycle.ca.gov/LGCentral/Reports/DiversionProgram/JurisdictionDiversionPrograms.aspx?JurisdictionID=1&Year=2007'"
   ]
  },
  {
   "cell_type": "markdown",
   "metadata": {},
   "source": [
    "**[Program Counts by Status, Year and Jurisdiction](http://www.calrecycle.ca.gov/LGCentral/Reports/Viewer.aspx?P=ReportName%3dDPProgramCountsByStatusYearJuris%26GeoAreaType%3dJurisdiction%26ProgramSearchType%3dProgram%26JurisdictionIDs%3d%26ProgramIDs%3d%26ReportYears%3d%26ProgramStatusIDs%3d%26GeoAreaDisplay%3dAll%26ProgramSearchDisplay%3dAll%26ReportYearDisplay%3dAll%26ProgramStatusDisplay%3dAll%26CountyIDs%3d%26ComponentIDs%3d)** - Size: 33 mb, Need to format this data properly!\n"
   ]
  },
  {
   "cell_type": "code",
   "execution_count": null,
   "metadata": {
    "collapsed": true
   },
   "outputs": [],
   "source": []
  }
 ],
 "metadata": {
  "kernelspec": {
   "display_name": "Python 2",
   "language": "python",
   "name": "python2"
  },
  "language_info": {
   "codemirror_mode": {
    "name": "ipython",
    "version": 2
   },
   "file_extension": ".py",
   "mimetype": "text/x-python",
   "name": "python",
   "nbconvert_exporter": "python",
   "pygments_lexer": "ipython2",
   "version": "2.7.10"
  }
 },
 "nbformat": 4,
 "nbformat_minor": 0
}
