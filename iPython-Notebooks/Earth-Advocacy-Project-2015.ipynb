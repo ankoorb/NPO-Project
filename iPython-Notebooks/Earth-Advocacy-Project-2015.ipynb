{
 "cells": [
  {
   "cell_type": "markdown",
   "metadata": {},
   "source": [
    "# Notes\n",
    "---\n",
    "- Crime rate an indicator of less recycling?\n",
    "- Geotagged tweets about recycling in LA\n",
    "- Neighborhoods using solar energy involved in recycling?\n",
    "- People with Prius, Tesla, other hybrid involved in recycling?\n",
    "- Homeless people dumpster dive to recycle?\n",
    "- Education - Schools promoting recycling?\n",
    "- Political affiliation\n",
    "---"
   ]
  },
  {
   "cell_type": "markdown",
   "metadata": {},
   "source": [
    "Table of Contents\n",
    "---\n",
    "* [Objective](#Objective)\n",
    "    * [Definitions](#Definitions)\n",
    "* [Data Sources](#Data-Sources)\n",
    "* [Web Scraping](#Web-Scraping)\n",
    "    * [Diversion Rates](#Diversion-Rates)\n",
    "    * [Jurisdiction Waste Diversion Program Summary](#Jurisdiction-Waste-Diversion-Program-Summary)\n",
    "    \n",
    "* [Data Wrangling](#Data-Wrangling)\n",
    "    * [Jurisdiction Waste Diversion Program Summary Data](#Jurisdiction-Waste-Diversion-Program-Summary-Data)\n",
    "    * [Mapping location of Solid Waste Facilities](#Mapping-location-of-Solid-Waste-Facilities)\n",
    "    * [California Crime Data](#California-Crime-Data)\n",
    "    * [California Solar Energy Data By City & County](#California-Solar-Energy-Data)\n",
    "    * [Residential Building Permit Data](#Residential-Building-Permit-Data)\n",
    "    * [Voter Registration Data](#Voter-Registration-Data)\n",
    "    * [Business Type By County Data](#Business-Type-By-County-Data)\n",
    "* [Exploratory Data Analysis](#Exploratory-Data-Analysis)"
   ]
  },
  {
   "cell_type": "markdown",
   "metadata": {},
   "source": [
    "<div class='alert alert-danger'>\n",
    "<h2>Objective</h2>\n",
    "<ol>\n",
    "<li>Identify key factors affecting garbage production rate (lbs/person) in <font color='red'>California</font></li>\n",
    "<li>Develop a model describing features effecting waste management</li>\n",
    "<li>Make targeting recommendations for client</li>\n",
    "</ol>\n",
    "</div>"
   ]
  },
  {
   "cell_type": "markdown",
   "metadata": {},
   "source": [
    "<div class='alert alert-info'>\n",
    "\n",
    "<h2>Definitions</h2>\n",
    "\n",
    "<ul>\n",
    "\n",
    "<li>**Diversion Rate** is used to express how much waste is <font color='red'>diverted</font> from the landfill.</li>\n",
    "$$Diversion \\; Rate = \\frac{total \\; amount\\; of \\; waste \\; recycled \\; per \\; unit \\; time}{total \\; amount\\; of \\; waste \\; generated \\; per \\; unit \\; time}$$\n",
    "\n",
    "<li>**Disposal** means all waste created by all sources within each jurisdiction (including businesses, government agencies and residents) which is disposed at CalRecycle-permitted landfills or CalRecycle-permitted transformation facilities, or is exported from the state. </li>\n",
    "\n",
    "<li>**Population Disposal** - For residents</li>\n",
    "\n",
    "<li>**Employment Disposal** - For persons in commercial setting</li>\n",
    "\n",
    "<li>**PPD** is pounds per person per day</li>\n",
    "\n",
    "<li>**[More definitions and additional resources](http://www.calrecycle.ca.gov/LGCentral/Basics/PerCapitaDsp.htm#UsingPerCapita)**</li>\n",
    "\n",
    "</ul>\n",
    "</div>"
   ]
  },
  {
   "cell_type": "markdown",
   "metadata": {},
   "source": [
    "<div class='alert alert-success'>\n",
    "<h3>Data Sources</h3>\n",
    "\n",
    "- [Diversion Rates](http://www.calrecycle.ca.gov/LGCentral/Reports/jurisdiction/diversiondisposal.aspx) and [Step-by-step Instructions](http://www.calrecycle.ca.gov/LGCentral/DivMeasure/StepByStep.htm) - Need form based (*.aspx) web-scraping to extract data. Get data for 2007 through 2013 (Note: 2014 and 2015 data not available yet!)\n",
    "- [LA County Landfill Locations](http://www.laalmanac.com/environment/ev04.htm) - No lat/long info, just addresses\n",
    "- [LA County Tipping rates](http://lacsd.org/solidwaste/swfacilities/solid_waste_disposal_and_recyclables_rates.asp)\n",
    "- [Criminal Justice Statistics Center (CJSC) STATISTICS: CRIMES AND CLEARANCES](https://oag.ca.gov/crime/cjsc/stats/crimes-clearances) - Link to [Crimes Data File 2005-2014](https://oag.ca.gov/sites/all/files/agweb/pdfs/cjsc/stats/crimes_data_2005-2014.zip)\n",
    "- [Report of Registration (Political)](http://www.sos.ca.gov/elections/report-registration/) - Data available for 1999 through 2014. Registration data by county, political subdivision by county (cities), etc.\n",
    "- [Caltrans GIS Data](http://www.dot.ca.gov/hq/tsip/gis/datalibrary/) - Transportation related shapefiles, [California Cities](http://www.dot.ca.gov/hq/tsip/gis/datalibrary/Metadata/cities.html) - CA cities boundary shapefiles\n",
    "- [Solid Waste Facilities GIS Data](http://www.calrecycle.ca.gov/Files/SWFacilities/Directory/SwisGis.txt) and [more information](http://www.calrecycle.ca.gov/swfacilities/directory/Search.aspx)\n",
    "- [Program Counts by Status, Year and Jurisdiction](http://www.calrecycle.ca.gov/LGCentral/Reports/Viewer.aspx?P=ReportName%3dDPProgramCountsByStatusYearJuris%26GeoAreaType%3dJurisdiction%26ProgramSearchType%3dProgram%26JurisdictionIDs%3d%26ProgramIDs%3d%26ReportYears%3d%26ProgramStatusIDs%3d%26GeoAreaDisplay%3dAll%26ProgramSearchDisplay%3dAll%26ReportYearDisplay%3dAll%26ProgramStatusDisplay%3dAll%26CountyIDs%3d%26ComponentIDs%3d) - 1995 through 2013 data. Size: 33 mb, Need to format this data properly!\n",
    "- [California Counties Water Use Data (2010) by County](http://ca.water.usgs.gov/water_use/2010-california-water-use.html)\n",
    "- [California Solar Energy Data (CSI Working Data Set)](https://www.californiasolarstatistics.ca.gov/data_downloads/)\n",
    "- [Building Permit California](http://censtats.census.gov/bldg/bldgprmt.shtml) - Needs lot of web scraping!, [Building Permit California Data (County & County Jurisdiction)](http://socds.huduser.org/permits/) - Collected 2007 to 2013 county as well as county jurisdiction data manually\n",
    "- [CA County Area (Sq Mile) data](http://www.indexmundi.com/facts/united-states/quick-facts/california/land-area#table)  \n",
    "- [CA City Area data](https://en.wikipedia.org/wiki/List_of_cities_and_towns_in_California)\n",
    "- [CA Monthly Water Data (2014 and 2015 only!](http://www.waterboards.ca.gov/water_issues/programs/conservation_portal/conservation_reporting.shtml#monthly_archive)\n",
    "</div>\n",
    "---\n",
    "- [CA Water Use Data-Viz](http://projects.scpr.org/applications/monthly-water-use/)\n",
    "- [NYT CA Water Use Data-Viz](http://www.nytimes.com/interactive/2015/04/01/us/water-use-in-california.html?_r=0)\n"
   ]
  },
  {
   "cell_type": "code",
   "execution_count": 1,
   "metadata": {
    "collapsed": true
   },
   "outputs": [],
   "source": [
    "import mechanize\n",
    "#! pip install --upgrade beautifulsoup4\n",
    "from bs4 import BeautifulSoup\n",
    "import urllib2\n",
    "import pandas as pd\n",
    "import numpy as np\n",
    "import requests\n",
    "\n",
    "# String manipulation\n",
    "import string \n",
    "\n",
    "# For viewing files in a specified directory\n",
    "import glob"
   ]
  },
  {
   "cell_type": "markdown",
   "metadata": {},
   "source": [
    "<div class='alert alert-warning'>\n",
    "<h2><font color='blue'>Web Scraping</font></h2>\n",
    "\n",
    "- [Scraping ASP.NET Pages with AJAX Pagination](http://toddhayton.com/2015/05/04/scraping-aspnet-pages-with-ajax-pagination/)  \n",
    "- [How to get along with an ASP webpage](https://blog.scraperwiki.com/2011/11/how-to-get-along-with-an-asp-webpage/)  \n",
    "- [Form Handling With Mechanize and BeautifulSoup](http://toddhayton.com/2014/12/08/form-handling-with-mechanize-and-beautifulsoup/)  \n",
    "- [Scraping with Mechanize and BeautifulSoup](http://swizec.com/blog/scraping-with-mechanize-and-beautifulsoup/swizec/5039)\n",
    "\n",
    "</div>"
   ]
  },
  {
   "cell_type": "markdown",
   "metadata": {},
   "source": [
    "### Diversion Rates"
   ]
  },
  {
   "cell_type": "code",
   "execution_count": null,
   "metadata": {
    "collapsed": false
   },
   "outputs": [],
   "source": [
    "url = 'http://www.calrecycle.ca.gov/LGCentral/Reports/jurisdiction/diversiondisposal.aspx'\n",
    "html = urllib2.urlopen(url)\n",
    "bsObj = BeautifulSoup(html)\n",
    "table = bsObj.find('table', {'class': 'SearchForm'})\n",
    "print html"
   ]
  },
  {
   "cell_type": "code",
   "execution_count": null,
   "metadata": {
    "collapsed": false,
    "scrolled": true
   },
   "outputs": [],
   "source": [
    "browser = mechanize.Browser()\n",
    "browser.addheaders = [('User-agent', 'Mozilla/5.0 (Macintosh; Intel Mac OS X 10_6_8) AppleWebKit/535.7 (KHTML, like Gecko) Chrome/16.0.912.63 Safari/535.7')]\n",
    "browser.open(url)\n",
    "browser.select_form('aspnetForm')\n",
    "#browser.set_all_readonly(False)\n",
    "print browser.form\n",
    "#browser.submit()"
   ]
  },
  {
   "cell_type": "code",
   "execution_count": null,
   "metadata": {
    "collapsed": false
   },
   "outputs": [],
   "source": [
    "temp = BeautifulSoup(browser.response())\n",
    "print temp.prettify()"
   ]
  },
  {
   "cell_type": "code",
   "execution_count": null,
   "metadata": {
    "collapsed": false
   },
   "outputs": [],
   "source": [
    "#browser.form.new_control('hidden', '__VIEWSTATE', {'value':'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'})\n",
    "#browser.form.new_control('hidden', '__VIEWSTATEGENERATOR', {'value':'99EF0FC5'})\n",
    "#browser.form.new_control('hidden', '__EVENTVALIDATION', {'value':'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'})                                                   \n",
    "#browser.form.fixup()"
   ]
  },
  {
   "cell_type": "code",
   "execution_count": null,
   "metadata": {
    "collapsed": false,
    "scrolled": true
   },
   "outputs": [],
   "source": [
    "print browser.form"
   ]
  },
  {
   "cell_type": "code",
   "execution_count": null,
   "metadata": {
    "collapsed": false
   },
   "outputs": [],
   "source": [
    "print browser.form['ctl00$cphBody$ddlYear']\n",
    "print browser.form['ctl00$cphBody$Geog']\n",
    "print browser.form['ctl00$cphBody$lstCounties']"
   ]
  },
  {
   "cell_type": "code",
   "execution_count": null,
   "metadata": {
    "collapsed": false
   },
   "outputs": [],
   "source": [
    "url = 'http://www.calrecycle.ca.gov/LGCentral/Reports/jurisdiction/diversiondisposal.aspx'\n",
    "browser = mechanize.Browser()\n",
    "browser.open(url)\n",
    "browser.select_form('aspnetForm')\n",
    "browser.form['ctl00$cphBody$ddlYear'] = ['2007'] # 2007 to 2013 (2014 and 2015 data is not available)\n",
    "browser.form['ctl00$cphBody$Geog'] = ['rdoGeoGeo']\n",
    "browser.form['ctl00$cphBody$newReport'] = ['rdoDisposal']\n",
    "browser.submit()"
   ]
  },
  {
   "cell_type": "code",
   "execution_count": null,
   "metadata": {
    "collapsed": false
   },
   "outputs": [],
   "source": [
    "response = browser.response()\n",
    "print response\n",
    "print '--------------------------------------------------------------------'\n",
    "print response.read()"
   ]
  },
  {
   "cell_type": "code",
   "execution_count": null,
   "metadata": {
    "collapsed": false
   },
   "outputs": [],
   "source": [
    "print type(response)\n",
    "print type(response.read())"
   ]
  },
  {
   "cell_type": "code",
   "execution_count": null,
   "metadata": {
    "collapsed": true
   },
   "outputs": [],
   "source": [
    "bsObj = BeautifulSoup(browser.response().read())"
   ]
  },
  {
   "cell_type": "code",
   "execution_count": null,
   "metadata": {
    "collapsed": false
   },
   "outputs": [],
   "source": [
    "print type(bsObj)"
   ]
  },
  {
   "cell_type": "code",
   "execution_count": null,
   "metadata": {
    "collapsed": false
   },
   "outputs": [],
   "source": [
    "print bsObj"
   ]
  },
  {
   "cell_type": "code",
   "execution_count": null,
   "metadata": {
    "collapsed": false
   },
   "outputs": [],
   "source": [
    "# Head to the section of interest\n",
    "summary = bsObj.find(\"div\",{'id':'ctl00_cphBody_pnlResultsNew'})\n",
    "\n",
    "# Search for tables in the HTML\n",
    "tables = summary.find_all('table')"
   ]
  },
  {
   "cell_type": "markdown",
   "metadata": {},
   "source": [
    "### Jurisdiction Waste Diversion Program Summary"
   ]
  },
  {
   "cell_type": "code",
   "execution_count": null,
   "metadata": {
    "collapsed": false
   },
   "outputs": [],
   "source": [
    "%%html # Renders HTML\n",
    "<select id=\"ctl00_cphBody_ddlJurisdiction\" name=\"ctl00$cphBody$ddlJurisdiction\">\n",
    "            <option value=\"\">\n",
    "            </option>\n",
    "            <option value=\"1\">\n",
    "             Adelanto\n",
    "            </option>\n",
    "            <option value=\"2\">\n",
    "             Agoura Hills\n",
    "            </option>\n",
    "            <option value=\"3\">\n",
    "             Alameda\n",
    "            </option>\n",
    "            <option value=\"5\">\n",
    "             Alameda-Unincorporated\n",
    "            </option>\n",
    "</select>"
   ]
  },
  {
   "cell_type": "code",
   "execution_count": null,
   "metadata": {
    "collapsed": false
   },
   "outputs": [],
   "source": [
    "html = '''<select id=\"ctl00_cphBody_ddlJurisdiction\" name=\"ctl00$cphBody$ddlJurisdiction\">\n",
    "            <option value=\"\">\n",
    "            </option>\n",
    "            <option value=\"1\">\n",
    "             Adelanto\n",
    "            </option>\n",
    "            <option value=\"2\">\n",
    "             Agoura Hills\n",
    "            </option>\n",
    "            <option value=\"3\">\n",
    "             Alameda\n",
    "            </option>\n",
    "            <option value=\"5\">\n",
    "             Alameda-Unincorporated\n",
    "            </option>\n",
    "</select>'''\n",
    "\n",
    "bsObj = BeautifulSoup(html, 'html.parser')\n",
    "temp = bsObj.find('select', {'id':'ctl00_cphBody_ddlJurisdiction', 'name':'ctl00$cphBody$ddlJurisdiction'}).findAll('option')\n",
    "for t in temp[1:2]:\n",
    "    print 'Type: ', type(t) \n",
    "    print 'Tag: ', t\n",
    "    print 'Value: ', t.attrs['value']\n",
    "    print 'Contents: ', t.text"
   ]
  },
  {
   "cell_type": "code",
   "execution_count": null,
   "metadata": {
    "collapsed": false
   },
   "outputs": [],
   "source": [
    "summary_url = 'http://www.calrecycle.ca.gov/LGCentral/Reports/DiversionProgram/JurisdictionDiversionPrograms.aspx'\n",
    "html = urllib2.urlopen(summary_url)\n",
    "bsObj = BeautifulSoup(html)\n",
    "\n",
    "temp = bsObj.find('select', {'id':'ctl00_cphBody_ddlJurisdiction', 'name':'ctl00$cphBody$ddlJurisdiction'}).findAll('option')\n",
    "\n",
    "value = []\n",
    "content = []\n",
    "for t in temp:\n",
    "    value.append(t.attrs['value'])\n",
    "    content.append(t.text)\n",
    "\n",
    "    \n",
    "print len(value), len(content)\n",
    "\n",
    "data = {'id': pd.Series(value), 'jurisdiction': pd.Series(content)}\n",
    "df = pd.DataFrame(data)\n",
    "df = df.ix[1:].reset_index() # remove 1st row and reset index\n",
    "del df['index'] # delete old-index column\n",
    "df.to_csv('ca_jurisdictions.csv') # write csv\n",
    "df.head(3)"
   ]
  },
  {
   "cell_type": "code",
   "execution_count": null,
   "metadata": {
    "collapsed": true
   },
   "outputs": [],
   "source": [
    "base_url = 'http://www.calrecycle.ca.gov/LGCentral/Reports/DiversionProgram/JurisdictionDiversionPrograms.aspx?JurisdictionID=1&Year=2007'"
   ]
  },
  {
   "cell_type": "markdown",
   "metadata": {},
   "source": [
    "**No need to scrape program summary data** - Found downloadable data"
   ]
  },
  {
   "cell_type": "markdown",
   "metadata": {},
   "source": [
    "# Data Wrangling\n",
    "\n",
    "**iPython Notebook Tips**\n",
    "```python\n",
    "![](*.png)  # Embedding image in iPython notebook\n",
    "<img src='*.png' style='width:800px;'> # Embedding image in iPython notebook\n",
    "%quickref # iPython quick reference\n",
    "```\n",
    "\n",
    "```html\n",
    "<div class='alert alert-info'> Alert: **Info**</div>\n",
    "<div class='alert alert-success'> Alert: **Success**</div>\n",
    "<div class='alert alert-warning'> Alert: **Warning**</div>\n",
    "<div class='alert alert-danger'> Alert: **Danger**</div>\n",
    "```"
   ]
  },
  {
   "cell_type": "markdown",
   "metadata": {},
   "source": [
    "## Jurisdiction Waste Diversion Program Summary Data"
   ]
  },
  {
   "cell_type": "code",
   "execution_count": 45,
   "metadata": {
    "collapsed": false
   },
   "outputs": [
    {
     "name": "stdout",
     "output_type": "stream",
     "text": [
      "['./raw_data/ca-city-county.csv', './raw_data/ca-county-area.csv', './raw_data/ca_jurisdictions.csv', './raw_data/crimes_data_2005-2014.csv', './raw_data/DPProgramCountsByStatusYearJuris.csv', './raw_data/open_sites.csv', './raw_data/ppddisposal2007_2013_demogracehh_final.csv', './raw_data/WorkingDataSet.csv']\n"
     ]
    }
   ],
   "source": [
    "# Ref: https://docs.python.org/2/library/glob.html\n",
    "#data_path = '/Users/Ankoor/Desktop/NewMet Data Science/Notebooks/raw_data/'\n",
    "data_path = './raw_data/'\n",
    "data_files = glob.glob(data_path + '*.csv') # List of all *.csv files\n",
    "print data_files"
   ]
  },
  {
   "cell_type": "code",
   "execution_count": 46,
   "metadata": {
    "collapsed": false
   },
   "outputs": [
    {
     "data": {
      "text/html": [
       "<div style=\"max-height:1000px;max-width:1500px;overflow:auto;\">\n",
       "<table border=\"1\" class=\"dataframe\">\n",
       "  <thead>\n",
       "    <tr style=\"text-align: right;\">\n",
       "      <th></th>\n",
       "      <th>CountyID</th>\n",
       "      <th>ReportYear_2</th>\n",
       "      <th>JurisdictionName</th>\n",
       "      <th>ProgramCount</th>\n",
       "      <th>ProgramStatusName</th>\n",
       "      <th>ProgramName</th>\n",
       "    </tr>\n",
       "  </thead>\n",
       "  <tbody>\n",
       "    <tr>\n",
       "      <th>0</th>\n",
       "      <td> Alameda</td>\n",
       "      <td> 1995</td>\n",
       "      <td> Alameda</td>\n",
       "      <td> Total Program Count: 36</td>\n",
       "      <td> Alternative and Implemented</td>\n",
       "      <td>                      * Transfer Station</td>\n",
       "    </tr>\n",
       "    <tr>\n",
       "      <th>1</th>\n",
       "      <td> Alameda</td>\n",
       "      <td> 1995</td>\n",
       "      <td> Alameda</td>\n",
       "      <td> Total Program Count: 36</td>\n",
       "      <td>     Alternative and Ongoing</td>\n",
       "      <td>         * Mobile or Periodic Collection</td>\n",
       "    </tr>\n",
       "    <tr>\n",
       "      <th>2</th>\n",
       "      <td> Alameda</td>\n",
       "      <td> 1995</td>\n",
       "      <td> Alameda</td>\n",
       "      <td> Total Program Count: 36</td>\n",
       "      <td>     Alternative and Ongoing</td>\n",
       "      <td> * Special Collection Seasonal (regular)</td>\n",
       "    </tr>\n",
       "  </tbody>\n",
       "</table>\n",
       "</div>"
      ],
      "text/plain": [
       "  CountyID  ReportYear_2 JurisdictionName             ProgramCount  \\\n",
       "0  Alameda          1995          Alameda  Total Program Count: 36   \n",
       "1  Alameda          1995          Alameda  Total Program Count: 36   \n",
       "2  Alameda          1995          Alameda  Total Program Count: 36   \n",
       "\n",
       "             ProgramStatusName                              ProgramName  \n",
       "0  Alternative and Implemented                       * Transfer Station  \n",
       "1      Alternative and Ongoing          * Mobile or Periodic Collection  \n",
       "2      Alternative and Ongoing  * Special Collection Seasonal (regular)  "
      ]
     },
     "execution_count": 46,
     "metadata": {},
     "output_type": "execute_result"
    }
   ],
   "source": [
    "df = pd.read_csv('./raw_data/DPProgramCountsByStatusYearJuris.csv')\n",
    "df.head(3)"
   ]
  },
  {
   "cell_type": "code",
   "execution_count": 48,
   "metadata": {
    "collapsed": false,
    "scrolled": true
   },
   "outputs": [
    {
     "name": "stdout",
     "output_type": "stream",
     "text": [
      "List of CA Counties:  ['Alameda', 'Alpine', 'Amador', 'Butte', 'Calaveras', 'Colusa', 'Contra Costa', 'Del Norte', 'El Dorado', 'Fresno', 'Glenn', 'Humboldt', 'Imperial', 'Inyo', 'Kern', 'Kings', 'Lake', 'Lassen', 'Los Angeles', 'Madera', 'Marin', 'Mariposa', 'Mendocino', 'Merced', 'Modoc', 'Mono', 'Monterey', 'Napa', 'Nevada', 'Orange', 'Placer', 'Plumas', 'Riverside', 'Sacramento', 'San Benito', 'San Bernardino', 'San Diego', 'San Francisco', 'San Joaquin', 'San Luis Obispo', 'San Mateo', 'Santa Barbara', 'Santa Clara', 'Santa Cruz', 'Shasta', 'Sierra', 'Siskiyou', 'Solano', 'Sonoma', 'Stanislaus', 'Tehama', 'Trinity', 'Tulare', 'Tuolumne', 'Ventura', 'Yolo', 'Yuba']\n",
      "---------------------------------------------------------------------------------------\n",
      "Number of Counties in CA:  57\n",
      "---------------------------------------------------------------------------------------\n",
      "Years:  [1995, 1996, 1997, 1998, 1999, 2000, 2001, 2002, 2003, 2004, 2005, 2006, 2007, 2008, 2009, 2010, 2011, 2012, 2013, 2014, 2015]\n",
      "---------------------------------------------------------------------------------------\n",
      "Unique Program Status:  ['Alternative and Implemented', 'Alternative and Ongoing', 'Planned in Future', 'Selected and Implemented', 'Selected and Ongoing', 'Dropped (after implemented)', 'Dropped in an earlier year', 'Selected and Not Implemented', 'Multiple (Pre-Regional Agency)']\n",
      "---------------------------------------------------------------------------------------\n",
      "Number of unique Program Status:  9\n",
      "---------------------------------------------------------------------------------------\n",
      "Unique Programs:  ['* Transfer Station', '* Mobile or Periodic Collection', '* Special Collection Seasonal (regular)', '* Waste Exchange', '* Composting Facility', '* Disaster Debris', '* Other HHW', '* Residential Curbside', '* Commercial Self-Haul Greenwaste', '* Electronic (radio ,TV, web, hotlines)', '* Backyard and On-Site Composting/Mulching', '* Business Waste Reduction Program', '* Commercial On-Site Pickup', '* Concrete/Asphalt/Rubble', '* Curbside Collection', '* Economic Incentives', '* Education Programs', '* Government Recycling Programs', '* Material Exchange, Thrift Shops', '* Ordinances', '* Other Special Waste', '* Outreach (tech assistance, presentations, awards, fairs, field trips)', '* Permanent Facility', '* Print (brochures, flyers, guides, news articles)', '* Procurement', '* Rendering', '* Residential Buy-Back', '* Residential Curbside Greenwaste Collection', '* Residential Drop-Off', '* Residential Self-haul Greenwaste', '* School Recycling Programs', '* Schools (education and curriculum)', '* Scrap Metal', '* Tires', '* White Goods', '* Alternative Daily Cover', '* Government Source Reduction Programs', '* MRF', '* Sludge (sewage/industrial)', '* Wood Waste', '* Special Collection Events', '* Food Waste Composting', '* Xeriscaping/Grasscycling', '* Commercial Self-Haul', '* Product and Landfill Bans', '* School Composting Programs', '* Commercial On-Site Greenwaste Pick-up', '* Landfill', '* School Source Reduction Programs', '* Government Composting Programs', '* Other Policy Incentive', '* Electronic Waste', '* Other Recycling', '* Biomass', '* Other Composting', '* Other Source Reduction', '* Other Transformation', '* Ash', '* Other Facility Recovery', '* Waste To Energy', '* Shingles', '* Other Public Education']\n",
      "---------------------------------------------------------------------------------------\n",
      "Number of Unique Programs:  62\n"
     ]
    }
   ],
   "source": [
    "print 'List of CA Counties: ', list(pd.unique(df['CountyID'].ravel()))\n",
    "print '---------------------------------------------------------------------------------------'\n",
    "print 'Number of Counties in CA: ', len(list(pd.unique(df['CountyID'].ravel())))\n",
    "print '---------------------------------------------------------------------------------------'\n",
    "print 'Years: ', list(pd.unique(df['ReportYear_2'].ravel()))\n",
    "print '---------------------------------------------------------------------------------------'\n",
    "print 'Unique Program Status: ', list(pd.unique(df['ProgramStatusName'].ravel()))\n",
    "print '---------------------------------------------------------------------------------------'\n",
    "print 'Number of unique Program Status: ', len(list(pd.unique(df['ProgramStatusName'].ravel())))\n",
    "print '---------------------------------------------------------------------------------------'\n",
    "print 'Unique Programs: ', list(pd.unique(df['ProgramName'].ravel()))\n",
    "print '---------------------------------------------------------------------------------------'\n",
    "print 'Number of Unique Programs: ', len(list(pd.unique(df['ProgramName'].ravel())))"
   ]
  },
  {
   "cell_type": "code",
   "execution_count": 41,
   "metadata": {
    "collapsed": false,
    "scrolled": true
   },
   "outputs": [
    {
     "name": "stdout",
     "output_type": "stream",
     "text": [
      "Number of CA Jurisdictions in CalRecycle:  490\n",
      "---------------------------------------------------------------------------------------\n",
      "List of CA Jurisdictions in CalRecycle:  ['Alameda', 'Alameda-Unincorporated', 'Albany', 'Berkeley', 'Dublin', 'Emeryville', 'Fremont', 'Hayward', 'Livermore', 'Newark', 'Oakland', 'Piedmont', 'Pleasanton', 'San Leandro', 'Union City', 'Alpine-Unincorporated', 'Amador City', 'Amador County Integrated Solid Waste Management Agency', 'Amador-Unincorporated', 'Ione', 'Jackson', 'Plymouth', 'Sutter Creek', 'Biggs', 'Butte County Regional Waste Management Authority', 'Butte-Unincorporated', 'Chico', 'Gridley', 'Oroville', 'Paradise', 'Angels Camp', 'Calaveras County Regional Agency', 'Calaveras-Unincorporated', 'Colusa County Regional Agency', 'Antioch', 'Brentwood', 'Clayton', 'Concord', 'Contra Costa/Ironhouse/Oakley Regional Agency', 'Contra Costa-Unincorporated', 'Danville', 'Lafayette', 'Martinez', 'Moraga', 'Oakley', 'Orinda', 'Pittsburg', 'Pleasant Hill', 'San Ramon', 'Walnut Creek', 'West Contra Costa Integrated Waste Management Authority', 'Central Contra Costa Solid Waste Authority (CCCSWA)', 'Del Norte Solid Waste Management Authority', 'El Dorado-Unincorporated', 'Placerville', 'South Lake Tahoe', 'Clovis', 'Coalinga', 'Firebaugh', 'Fowler', 'Fresno', 'Fresno-Unincorporated', 'Huron', 'Kerman', 'Kingsburg', 'Mendota', 'Orange Cove', 'Parlier', 'Reedley', 'San Joaquin', 'Sanger', 'Selma', 'Glenn County Waste Management Regional Agency', 'Arcata', 'Blue Lake', 'Eureka', 'Ferndale', 'Fortuna', 'Humboldt-Unincorporated', 'Rio Dell', 'Trinidad', 'Brawley', 'Calexico', 'Calipatria', 'El Centro', 'Holtville', 'Imperial', 'Imperial-Unincorporated', 'Westmorland', 'Imperial Valley Resource Management Agency', 'Inyo Regional Waste Management Agency', 'Arvin', 'Bakersfield', 'California City', 'Delano', 'Kern-Unincorporated', 'Maricopa', 'McFarland', 'Ridgecrest', 'Shafter', 'Taft', 'Tehachapi', 'Wasco', 'Avenal', 'Kings Waste and Recycling Authority', 'Clearlake', 'Lakeport', 'Lake-Unincorporated', 'Lassen Regional Solid Waste Management Authority', 'Agoura Hills', 'Alhambra', 'Arcadia', 'Artesia', 'Avalon', 'Azusa', 'Baldwin Park', 'Bell', 'Bell Gardens', 'Bellflower', 'Beverly Hills', 'Bradbury', 'Burbank', 'Calabasas', 'Carson', 'Cerritos', 'Claremont', 'Commerce', 'Compton', 'Covina', 'Cudahy', 'Culver City', 'Diamond Bar', 'Downey', 'Duarte', 'El Monte', 'El Segundo', 'Gardena', 'Glendale', 'Glendora', 'Hawaiian Gardens', 'Hawthorne', 'Hermosa Beach', 'Hidden Hills', 'Huntington Park', 'Industry', 'Inglewood', 'Irwindale', 'La Canada Flintridge', 'La Habra Heights', 'La Mirada', 'La Puente', 'La Verne', 'Lakewood', 'Lancaster', 'Lawndale', 'Lomita', 'Long Beach', 'Los Angeles', 'Los Angeles Area Integrated Waste Management Authority', 'Los Angeles-Unincorporated', 'Lynwood', 'Malibu', 'Manhattan Beach', 'Maywood', 'Monrovia', 'Montebello', 'Monterey Park', 'Norwalk', 'Palmdale', 'Palos Verdes Estates', 'Paramount', 'Pasadena', 'Pico Rivera', 'Pomona', 'Rancho Palos Verdes', 'Redondo Beach', 'Rolling Hills', 'Rolling Hills Estates', 'Rosemead', 'San Dimas', 'San Fernando', 'San Gabriel', 'San Marino', 'Santa Clarita', 'Santa Fe Springs', 'Santa Monica', 'Sierra Madre', 'Signal Hill', 'South El Monte', 'South Gate', 'South Pasadena', 'Temple City', 'Torrance', 'Vernon', 'Walnut', 'West Covina', 'West Hollywood', 'Westlake Village', 'Whittier', 'Chowchilla', 'Madera', 'Madera-Unincorporated', 'Marin County Hazardous and Solid Waste Management Authority', 'Mariposa-Unincorporated', 'Fort Bragg', 'Mendocino-Unincorporated', 'Point Arena', 'Ukiah', 'Willits', 'Merced County Solid Waste Regional Agency', 'Alturas', 'Modoc-Unincorporated', 'Mammoth Lakes', 'Mono-Unincorporated', 'Carmel-by-the-Sea', 'Del Rey Oaks', 'Gonzales', 'Greenfield', 'King City', 'Marina', 'Monterey', 'Monterey-Unincorporated', 'Pacific Grove', 'Salinas', 'Sand City', 'Seaside', 'Soledad', 'Salinas Valley Solid Waste Authority', 'American Canyon', 'Napa', 'Napa-Unincorporated', 'Upper Valley Waste Management Agency', 'Grass Valley', 'Nevada City', 'Nevada-Unincorporated', 'Truckee', 'Anaheim', 'Brea', 'Buena Park', 'Costa Mesa', 'Cypress', 'Dana Point', 'Fountain Valley', 'Fullerton', 'Garden Grove', 'Huntington Beach', 'Irvine', 'La Habra', 'La Palma', 'Laguna Beach', 'Laguna Hills', 'Laguna Niguel', 'Laguna Woods', 'Lake Forest', 'Los Alamitos', 'Mission Viejo', 'Newport Beach', 'Orange', 'Orange-Unincorporated', 'Placentia', 'San Clemente', 'San Juan Capistrano', 'Santa Ana', 'Seal Beach', 'Stanton', 'Tustin', 'Villa Park', 'Westminster', 'Yorba Linda', 'Rancho Santa Margarita', 'Aliso Viejo', 'Auburn', 'Colfax', 'Lincoln', 'Loomis', 'Placer-Unincorporated', 'Rocklin', 'Roseville', 'Plumas-Unincorporated', 'Portola', 'Banning', 'Beaumont', 'Blythe', 'Calimesa', 'Canyon Lake', 'Cathedral City', 'Coachella', 'Corona', 'Desert Hot Springs', 'Hemet', 'Indian Wells', 'Indio', 'La Quinta', 'Lake Elsinore', 'Moreno Valley', 'Murrieta', 'Norco', 'Palm Desert', 'Palm Springs', 'Perris', 'Rancho Mirage', 'Riverside', 'Riverside-Unincorporated', 'San Jacinto', 'Temecula', 'Eastvale', 'Menifee', 'Wildomar', 'Jurupa Valley', 'Elk Grove', 'Folsom', 'Galt', 'Isleton', 'Rancho Cordova', 'Sacramento', 'Sacramento County/City of Citrus Heights Regional Agency', 'Sacramento-Unincorporated', 'Citrus Heights', 'San Benito County Integrated Waste Management Regional Agency', 'Adelanto', 'Apple Valley', 'Barstow', 'Big Bear Lake', 'Chino', 'Chino Hills', 'Colton', 'Fontana', 'Grand Terrace', 'Hesperia', 'Highland', 'Loma Linda', 'Montclair', 'Needles', 'Ontario', 'Rancho Cucamonga', 'Redlands', 'Rialto', 'San Bernardino', 'San Bernardino-Unincorporated', 'Twentynine Palms', 'Upland', 'Victorville', 'Yucaipa', 'Yucca Valley', 'Carlsbad', 'Chula Vista', 'Coronado', 'Del Mar', 'El Cajon', 'Encinitas', 'Escondido', 'Imperial Beach', 'La Mesa', 'Lemon Grove', 'National City', 'Oceanside', 'Poway', 'San Diego', 'San Diego-Unincorporated', 'San Marcos', 'Santee', 'Solana Beach', 'Vista', 'San Francisco', 'Escalon', 'Lathrop', 'Lodi', 'Manteca', 'Ripon', 'San Joaquin-Unincorporated', 'Stockton', 'Tracy', 'Arroyo Grande', 'Atascadero', 'El Paso De Robles', 'Grover Beach', 'Morro Bay', 'Pismo Beach', 'San Luis Obispo', 'San Luis Obispo County Integrated Waste Management Authority', 'San Luis Obispo-Unincorporated', 'Atherton', 'Belmont', 'Brisbane', 'Burlingame', 'Colma', 'Daly City', 'East Palo Alto', 'Foster City', 'Half Moon Bay', 'Hillsborough', 'Menlo Park', 'Millbrae', 'Pacifica', 'Portola Valley', 'Redwood City', 'San Bruno', 'San Carlos', 'San Mateo', 'San Mateo-Unincorporated', 'South San Francisco', 'Woodside', 'Buellton', 'Carpinteria', 'Guadalupe', 'Lompoc', 'Santa Barbara', 'Santa Barbara Regional Integrated Waste Mgmgt. Reporting Authority', 'Santa Barbara-Unincorporated', 'Santa Maria', 'Solvang', 'Campbell', 'Cupertino', 'Gilroy', 'Los Altos', 'Los Altos Hills', 'Los Gatos', 'Milpitas', 'Monte Sereno', 'Morgan Hill', 'Mountain View', 'Palo Alto', 'San Jose', 'Santa Clara', 'Santa Clara-Unincorporated', 'Saratoga', 'Sunnyvale', 'Capitola', 'Santa Cruz', 'Santa Cruz-Unincorporated', 'Scotts Valley', 'Watsonville', 'Anderson', 'Redding', 'Shasta County Waste Management Agency', 'Shasta Lake', 'Shasta-Unincorporated', 'Sierra County Regional Agency', 'Siskiyou County Integrated Solid Waste Management Regional Agency', 'Benicia', 'Dixon', 'Fairfield', 'Rio Vista', 'Solano-Unincorporated', 'Suisun City', 'Vacaville', 'Vallejo', 'Sonoma County Waste Management Agency', 'Ceres', 'Hughson', 'Modesto', 'Newman', 'Oakdale', 'Patterson', 'Riverbank', 'Stanislaus County Regional Solid Waste Planning Agency', 'Stanislaus-Unincorporated', 'Turlock', 'Waterford', 'Tehama County Sanitary Landfill Regional Agency', 'Trinity-Unincorporated', 'Consolidated Waste Management Authority', 'Dinuba', 'Exeter', 'Farmersville', 'Lindsay', 'Porterville', 'Tulare', 'Tulare-Unincorporated', 'Visalia', 'Woodlake', 'Sonora', 'Tuolumne-Unincorporated', 'Camarillo', 'Fillmore', 'Moorpark', 'Ojai', 'Oxnard', 'Port Hueneme', 'San Buenaventura', 'Santa Paula', 'Simi Valley', 'Thousand Oaks', 'Ventura-Unincorporated', 'Davis', 'West Sacramento', 'Winters', 'Woodland', 'Yolo-Unincorporated', 'Yuba/Sutter Regional Waste Management Authority']\n"
     ]
    }
   ],
   "source": [
    "print 'Number of CA Jurisdictions in CalRecycle: ', len(list(pd.unique(df['JurisdictionName'].ravel())))\n",
    "print '---------------------------------------------------------------------------------------'\n",
    "print 'List of CA Jurisdictions in CalRecycle: ', list(pd.unique(df['JurisdictionName'].ravel()))"
   ]
  },
  {
   "cell_type": "code",
   "execution_count": 49,
   "metadata": {
    "collapsed": false
   },
   "outputs": [
    {
     "name": "stdout",
     "output_type": "stream",
     "text": [
      "36\n"
     ]
    },
    {
     "data": {
      "text/html": [
       "<div style=\"max-height:1000px;max-width:1500px;overflow:auto;\">\n",
       "<table border=\"1\" class=\"dataframe\">\n",
       "  <thead>\n",
       "    <tr style=\"text-align: right;\">\n",
       "      <th></th>\n",
       "      <th>CountyID</th>\n",
       "      <th>ReportYear_2</th>\n",
       "      <th>JurisdictionName</th>\n",
       "      <th>ProgramCount</th>\n",
       "      <th>ProgramStatusName</th>\n",
       "      <th>ProgramName</th>\n",
       "    </tr>\n",
       "  </thead>\n",
       "  <tbody>\n",
       "    <tr>\n",
       "      <th>0</th>\n",
       "      <td> Alameda</td>\n",
       "      <td> 1995</td>\n",
       "      <td> Alameda</td>\n",
       "      <td> 36</td>\n",
       "      <td> Alternative and Implemented</td>\n",
       "      <td>                      * Transfer Station</td>\n",
       "    </tr>\n",
       "    <tr>\n",
       "      <th>1</th>\n",
       "      <td> Alameda</td>\n",
       "      <td> 1995</td>\n",
       "      <td> Alameda</td>\n",
       "      <td> 36</td>\n",
       "      <td>     Alternative and Ongoing</td>\n",
       "      <td>         * Mobile or Periodic Collection</td>\n",
       "    </tr>\n",
       "    <tr>\n",
       "      <th>2</th>\n",
       "      <td> Alameda</td>\n",
       "      <td> 1995</td>\n",
       "      <td> Alameda</td>\n",
       "      <td> 36</td>\n",
       "      <td>     Alternative and Ongoing</td>\n",
       "      <td> * Special Collection Seasonal (regular)</td>\n",
       "    </tr>\n",
       "  </tbody>\n",
       "</table>\n",
       "</div>"
      ],
      "text/plain": [
       "  CountyID  ReportYear_2 JurisdictionName  ProgramCount  \\\n",
       "0  Alameda          1995          Alameda            36   \n",
       "1  Alameda          1995          Alameda            36   \n",
       "2  Alameda          1995          Alameda            36   \n",
       "\n",
       "             ProgramStatusName                              ProgramName  \n",
       "0  Alternative and Implemented                       * Transfer Station  \n",
       "1      Alternative and Ongoing          * Mobile or Periodic Collection  \n",
       "2      Alternative and Ongoing  * Special Collection Seasonal (regular)  "
      ]
     },
     "execution_count": 49,
     "metadata": {},
     "output_type": "execute_result"
    }
   ],
   "source": [
    "# Testing: Extracting count from string and converting to int\n",
    "s = 'Total Program Count: 36'\n",
    "print int(s[21:])\n",
    "df['ProgramCount'] = [int(count[21:]) for count in df['ProgramCount']]\n",
    "df.head(3)"
   ]
  },
  {
   "cell_type": "code",
   "execution_count": 50,
   "metadata": {
    "collapsed": false
   },
   "outputs": [
    {
     "name": "stdout",
     "output_type": "stream",
     "text": [
      " Transfer Station\n"
     ]
    },
    {
     "data": {
      "text/html": [
       "<div style=\"max-height:1000px;max-width:1500px;overflow:auto;\">\n",
       "<table border=\"1\" class=\"dataframe\">\n",
       "  <thead>\n",
       "    <tr style=\"text-align: right;\">\n",
       "      <th></th>\n",
       "      <th>CountyID</th>\n",
       "      <th>ReportYear_2</th>\n",
       "      <th>JurisdictionName</th>\n",
       "      <th>ProgramCount</th>\n",
       "      <th>ProgramStatusName</th>\n",
       "      <th>ProgramName</th>\n",
       "    </tr>\n",
       "  </thead>\n",
       "  <tbody>\n",
       "    <tr>\n",
       "      <th>0</th>\n",
       "      <td> Alameda</td>\n",
       "      <td> 1995</td>\n",
       "      <td> Alameda</td>\n",
       "      <td> 36</td>\n",
       "      <td> Alternative and Implemented</td>\n",
       "      <td>                       Transfer Station</td>\n",
       "    </tr>\n",
       "    <tr>\n",
       "      <th>1</th>\n",
       "      <td> Alameda</td>\n",
       "      <td> 1995</td>\n",
       "      <td> Alameda</td>\n",
       "      <td> 36</td>\n",
       "      <td>     Alternative and Ongoing</td>\n",
       "      <td>          Mobile or Periodic Collection</td>\n",
       "    </tr>\n",
       "    <tr>\n",
       "      <th>2</th>\n",
       "      <td> Alameda</td>\n",
       "      <td> 1995</td>\n",
       "      <td> Alameda</td>\n",
       "      <td> 36</td>\n",
       "      <td>     Alternative and Ongoing</td>\n",
       "      <td>  Special Collection Seasonal (regular)</td>\n",
       "    </tr>\n",
       "  </tbody>\n",
       "</table>\n",
       "</div>"
      ],
      "text/plain": [
       "  CountyID  ReportYear_2 JurisdictionName  ProgramCount  \\\n",
       "0  Alameda          1995          Alameda            36   \n",
       "1  Alameda          1995          Alameda            36   \n",
       "2  Alameda          1995          Alameda            36   \n",
       "\n",
       "             ProgramStatusName                             ProgramName  \n",
       "0  Alternative and Implemented                        Transfer Station  \n",
       "1      Alternative and Ongoing           Mobile or Periodic Collection  \n",
       "2      Alternative and Ongoing   Special Collection Seasonal (regular)  "
      ]
     },
     "execution_count": 50,
     "metadata": {},
     "output_type": "execute_result"
    }
   ],
   "source": [
    "# Testing: Remove * from program name\n",
    "s = '* Transfer Station'\n",
    "print s[1:]\n",
    "df['ProgramName'] = [name[1:] for name in df['ProgramName']]\n",
    "df.head(3)"
   ]
  },
  {
   "cell_type": "code",
   "execution_count": 44,
   "metadata": {
    "collapsed": false
   },
   "outputs": [
    {
     "data": {
      "text/html": [
       "<div style=\"max-height:1000px;max-width:1500px;overflow:auto;\">\n",
       "<table border=\"1\" class=\"dataframe\">\n",
       "  <thead>\n",
       "    <tr style=\"text-align: right;\">\n",
       "      <th></th>\n",
       "      <th>County</th>\n",
       "      <th>Year</th>\n",
       "      <th>Jurisdiction</th>\n",
       "      <th>Count</th>\n",
       "      <th>Status</th>\n",
       "      <th>Program</th>\n",
       "    </tr>\n",
       "  </thead>\n",
       "  <tbody>\n",
       "    <tr>\n",
       "      <th>0</th>\n",
       "      <td> Alameda</td>\n",
       "      <td> 1995</td>\n",
       "      <td> Alameda</td>\n",
       "      <td> 36</td>\n",
       "      <td> Alternative and Implemented</td>\n",
       "      <td>                       Transfer Station</td>\n",
       "    </tr>\n",
       "    <tr>\n",
       "      <th>1</th>\n",
       "      <td> Alameda</td>\n",
       "      <td> 1995</td>\n",
       "      <td> Alameda</td>\n",
       "      <td> 36</td>\n",
       "      <td>     Alternative and Ongoing</td>\n",
       "      <td>          Mobile or Periodic Collection</td>\n",
       "    </tr>\n",
       "    <tr>\n",
       "      <th>2</th>\n",
       "      <td> Alameda</td>\n",
       "      <td> 1995</td>\n",
       "      <td> Alameda</td>\n",
       "      <td> 36</td>\n",
       "      <td>     Alternative and Ongoing</td>\n",
       "      <td>  Special Collection Seasonal (regular)</td>\n",
       "    </tr>\n",
       "  </tbody>\n",
       "</table>\n",
       "</div>"
      ],
      "text/plain": [
       "    County  Year Jurisdiction  Count                       Status  \\\n",
       "0  Alameda  1995      Alameda     36  Alternative and Implemented   \n",
       "1  Alameda  1995      Alameda     36      Alternative and Ongoing   \n",
       "2  Alameda  1995      Alameda     36      Alternative and Ongoing   \n",
       "\n",
       "                                  Program  \n",
       "0                        Transfer Station  \n",
       "1           Mobile or Periodic Collection  \n",
       "2   Special Collection Seasonal (regular)  "
      ]
     },
     "execution_count": 44,
     "metadata": {},
     "output_type": "execute_result"
    }
   ],
   "source": [
    "# Changing dataframe column names\n",
    "df.columns = ['County', 'Year', 'Jurisdiction', 'Count', 'Status', 'Program']\n",
    "df.head(3)"
   ]
  },
  {
   "cell_type": "code",
   "execution_count": 12,
   "metadata": {
    "collapsed": false
   },
   "outputs": [
    {
     "data": {
      "text/html": [
       "<div style=\"max-height:1000px;max-width:1500px;overflow:auto;\">\n",
       "<table border=\"1\" class=\"dataframe\">\n",
       "  <thead>\n",
       "    <tr style=\"text-align: right;\">\n",
       "      <th></th>\n",
       "      <th>County</th>\n",
       "      <th>Year</th>\n",
       "      <th>Jurisdiction</th>\n",
       "      <th>Count</th>\n",
       "      <th>Status</th>\n",
       "      <th>Program</th>\n",
       "    </tr>\n",
       "  </thead>\n",
       "  <tbody>\n",
       "    <tr>\n",
       "      <th>321650</th>\n",
       "      <td> Yuba</td>\n",
       "      <td> 2007</td>\n",
       "      <td> Yuba/Sutter Regional Waste Management Authority</td>\n",
       "      <td> 36</td>\n",
       "      <td> Selected and Ongoing</td>\n",
       "      <td>  Schools (education and curriculum)</td>\n",
       "    </tr>\n",
       "    <tr>\n",
       "      <th>321651</th>\n",
       "      <td> Yuba</td>\n",
       "      <td> 2007</td>\n",
       "      <td> Yuba/Sutter Regional Waste Management Authority</td>\n",
       "      <td> 36</td>\n",
       "      <td> Selected and Ongoing</td>\n",
       "      <td>                         Scrap Metal</td>\n",
       "    </tr>\n",
       "    <tr>\n",
       "      <th>321652</th>\n",
       "      <td> Yuba</td>\n",
       "      <td> 2007</td>\n",
       "      <td> Yuba/Sutter Regional Waste Management Authority</td>\n",
       "      <td> 36</td>\n",
       "      <td> Selected and Ongoing</td>\n",
       "      <td>                               Tires</td>\n",
       "    </tr>\n",
       "    <tr>\n",
       "      <th>321653</th>\n",
       "      <td> Yuba</td>\n",
       "      <td> 2007</td>\n",
       "      <td> Yuba/Sutter Regional Waste Management Authority</td>\n",
       "      <td> 36</td>\n",
       "      <td> Selected and Ongoing</td>\n",
       "      <td>                      Waste Exchange</td>\n",
       "    </tr>\n",
       "    <tr>\n",
       "      <th>321654</th>\n",
       "      <td> Yuba</td>\n",
       "      <td> 2007</td>\n",
       "      <td> Yuba/Sutter Regional Waste Management Authority</td>\n",
       "      <td> 36</td>\n",
       "      <td> Selected and Ongoing</td>\n",
       "      <td>                          Wood Waste</td>\n",
       "    </tr>\n",
       "  </tbody>\n",
       "</table>\n",
       "</div>"
      ],
      "text/plain": [
       "       County  Year                                     Jurisdiction  Count  \\\n",
       "321650   Yuba  2007  Yuba/Sutter Regional Waste Management Authority     36   \n",
       "321651   Yuba  2007  Yuba/Sutter Regional Waste Management Authority     36   \n",
       "321652   Yuba  2007  Yuba/Sutter Regional Waste Management Authority     36   \n",
       "321653   Yuba  2007  Yuba/Sutter Regional Waste Management Authority     36   \n",
       "321654   Yuba  2007  Yuba/Sutter Regional Waste Management Authority     36   \n",
       "\n",
       "                      Status                              Program  \n",
       "321650  Selected and Ongoing   Schools (education and curriculum)  \n",
       "321651  Selected and Ongoing                          Scrap Metal  \n",
       "321652  Selected and Ongoing                                Tires  \n",
       "321653  Selected and Ongoing                       Waste Exchange  \n",
       "321654  Selected and Ongoing                           Wood Waste  "
      ]
     },
     "execution_count": 12,
     "metadata": {},
     "output_type": "execute_result"
    }
   ],
   "source": [
    "# create a temp dataframe to store jurisdiction = Alameda and year = 2007\n",
    "#temp_df = df[(df['Jurisdiction'] == 'Alameda') & (df['Year'] == 2007)]\n",
    "temp_df = df[df['Year'] == 2007]\n",
    "temp_df.tail(5)"
   ]
  },
  {
   "cell_type": "code",
   "execution_count": 13,
   "metadata": {
    "collapsed": false
   },
   "outputs": [
    {
     "name": "stdout",
     "output_type": "stream",
     "text": [
      "[' Alternative Daily Cover', ' Ash', ' Backyard and On-Site Composting/Mulching', ' Biomass', ' Business Waste Reduction Program', ' Commercial On-Site Greenwaste Pick-up', ' Commercial On-Site Pickup', ' Commercial Self-Haul', ' Commercial Self-Haul Greenwaste', ' Composting Facility', ' Concrete/Asphalt/Rubble', ' Curbside Collection', ' Disaster Debris', ' Economic Incentives', ' Education Programs', ' Electronic (radio ,TV, web, hotlines)', ' Electronic Waste', ' Food Waste Composting', ' Government Composting Programs', ' Government Recycling Programs', ' Government Source Reduction Programs', ' Landfill', ' MRF', ' Material Exchange, Thrift Shops', ' Mobile or Periodic Collection', ' Ordinances', ' Other Composting', ' Other Facility Recovery', ' Other HHW', ' Other Policy Incentive', ' Other Public Education', ' Other Recycling', ' Other Source Reduction', ' Other Special Waste', ' Other Transformation', ' Outreach (tech assistance, presentations, awards, fairs, field trips)', ' Permanent Facility', ' Print (brochures, flyers, guides, news articles)', ' Procurement', ' Product and Landfill Bans', ' Rendering', ' Residential Buy-Back', ' Residential Curbside', ' Residential Curbside Greenwaste Collection', ' Residential Drop-Off', ' Residential Self-haul Greenwaste', ' School Composting Programs', ' School Recycling Programs', ' School Source Reduction Programs', ' Schools (education and curriculum)', ' Scrap Metal', ' Shingles', ' Sludge (sewage/industrial)', ' Special Collection Events', ' Special Collection Seasonal (regular)', ' Tires', ' Transfer Station', ' Waste Exchange', ' Waste To Energy', ' White Goods', ' Wood Waste', ' Xeriscaping/Grasscycling'] 62\n"
     ]
    }
   ],
   "source": [
    "# Get a list of unique programs\n",
    "programs = set(df['Program'])\n",
    "programs = sorted(programs)\n",
    "print programs, len(programs)"
   ]
  },
  {
   "cell_type": "code",
   "execution_count": 73,
   "metadata": {
    "collapsed": false
   },
   "outputs": [
    {
     "name": "stdout",
     "output_type": "stream",
     "text": [
      "  id      a      b      c      d      e\n",
      "0  A  False   True  False  False  False\n",
      "1  A  False  False  False   True  False\n",
      "2  A  False  False  False  False   True\n"
     ]
    },
    {
     "data": {
      "text/html": [
       "<div style=\"max-height:1000px;max-width:1500px;overflow:auto;\">\n",
       "<table border=\"1\" class=\"dataframe\">\n",
       "  <thead>\n",
       "    <tr style=\"text-align: right;\">\n",
       "      <th></th>\n",
       "      <th>a</th>\n",
       "      <th>b</th>\n",
       "      <th>c</th>\n",
       "      <th>d</th>\n",
       "      <th>e</th>\n",
       "    </tr>\n",
       "    <tr>\n",
       "      <th>id</th>\n",
       "      <th></th>\n",
       "      <th></th>\n",
       "      <th></th>\n",
       "      <th></th>\n",
       "      <th></th>\n",
       "    </tr>\n",
       "  </thead>\n",
       "  <tbody>\n",
       "    <tr>\n",
       "      <th>A</th>\n",
       "      <td> False</td>\n",
       "      <td> True</td>\n",
       "      <td> False</td>\n",
       "      <td> True</td>\n",
       "      <td> True</td>\n",
       "    </tr>\n",
       "  </tbody>\n",
       "</table>\n",
       "</div>"
      ],
      "text/plain": [
       "        a     b      c     d     e\n",
       "id                                \n",
       "A   False  True  False  True  True"
      ]
     },
     "execution_count": 73,
     "metadata": {},
     "output_type": "execute_result"
    }
   ],
   "source": [
    "# Trick to manipulate Pandas dataframe\n",
    "w = {'id': ['A', 'A', 'A']}\n",
    "x = ['a', 'b', 'c', 'd', 'e']\n",
    "y = ['b', 'd', 'e']\n",
    "test = pd.DataFrame(w)\n",
    "for i in x:\n",
    "    test[i] = [i in j for j in y]\n",
    "\n",
    "print test.head()\n",
    "test.groupby(test['id']).sum()"
   ]
  },
  {
   "cell_type": "code",
   "execution_count": 15,
   "metadata": {
    "collapsed": false
   },
   "outputs": [
    {
     "data": {
      "text/html": [
       "<div style=\"max-height:1000px;max-width:1500px;overflow:auto;\">\n",
       "<table border=\"1\" class=\"dataframe\">\n",
       "  <thead>\n",
       "    <tr style=\"text-align: right;\">\n",
       "      <th></th>\n",
       "      <th>County</th>\n",
       "      <th>Year</th>\n",
       "      <th>Jurisdiction</th>\n",
       "      <th>Count</th>\n",
       "      <th>Status</th>\n",
       "      <th>Program</th>\n",
       "      <th> Alternative Daily Cover</th>\n",
       "      <th> Ash</th>\n",
       "      <th> Backyard and On-Site Composting/Mulching</th>\n",
       "      <th> Biomass</th>\n",
       "      <th>...</th>\n",
       "      <th> Sludge (sewage/industrial)</th>\n",
       "      <th> Special Collection Events</th>\n",
       "      <th> Special Collection Seasonal (regular)</th>\n",
       "      <th> Tires</th>\n",
       "      <th> Transfer Station</th>\n",
       "      <th> Waste Exchange</th>\n",
       "      <th> Waste To Energy</th>\n",
       "      <th> White Goods</th>\n",
       "      <th> Wood Waste</th>\n",
       "      <th> Xeriscaping/Grasscycling</th>\n",
       "    </tr>\n",
       "  </thead>\n",
       "  <tbody>\n",
       "    <tr>\n",
       "      <th>7288</th>\n",
       "      <td> Alameda</td>\n",
       "      <td> 2007</td>\n",
       "      <td> Alameda</td>\n",
       "      <td> 45</td>\n",
       "      <td> Alternative and Ongoing</td>\n",
       "      <td>  Alternative Daily Cover</td>\n",
       "      <td>  True</td>\n",
       "      <td> False</td>\n",
       "      <td> False</td>\n",
       "      <td> False</td>\n",
       "      <td>...</td>\n",
       "      <td> False</td>\n",
       "      <td> False</td>\n",
       "      <td> False</td>\n",
       "      <td> False</td>\n",
       "      <td> False</td>\n",
       "      <td> False</td>\n",
       "      <td> False</td>\n",
       "      <td> False</td>\n",
       "      <td> False</td>\n",
       "      <td> False</td>\n",
       "    </tr>\n",
       "    <tr>\n",
       "      <th>7289</th>\n",
       "      <td> Alameda</td>\n",
       "      <td> 2007</td>\n",
       "      <td> Alameda</td>\n",
       "      <td> 45</td>\n",
       "      <td> Alternative and Ongoing</td>\n",
       "      <td>     Commercial Self-Haul</td>\n",
       "      <td> False</td>\n",
       "      <td> False</td>\n",
       "      <td> False</td>\n",
       "      <td> False</td>\n",
       "      <td>...</td>\n",
       "      <td> False</td>\n",
       "      <td> False</td>\n",
       "      <td> False</td>\n",
       "      <td> False</td>\n",
       "      <td> False</td>\n",
       "      <td> False</td>\n",
       "      <td> False</td>\n",
       "      <td> False</td>\n",
       "      <td> False</td>\n",
       "      <td> False</td>\n",
       "    </tr>\n",
       "    <tr>\n",
       "      <th>7290</th>\n",
       "      <td> Alameda</td>\n",
       "      <td> 2007</td>\n",
       "      <td> Alameda</td>\n",
       "      <td> 45</td>\n",
       "      <td> Alternative and Ongoing</td>\n",
       "      <td>          Disaster Debris</td>\n",
       "      <td> False</td>\n",
       "      <td> False</td>\n",
       "      <td> False</td>\n",
       "      <td> False</td>\n",
       "      <td>...</td>\n",
       "      <td> False</td>\n",
       "      <td> False</td>\n",
       "      <td> False</td>\n",
       "      <td> False</td>\n",
       "      <td> False</td>\n",
       "      <td> False</td>\n",
       "      <td> False</td>\n",
       "      <td> False</td>\n",
       "      <td> False</td>\n",
       "      <td> False</td>\n",
       "    </tr>\n",
       "  </tbody>\n",
       "</table>\n",
       "<p>3 rows × 68 columns</p>\n",
       "</div>"
      ],
      "text/plain": [
       "       County  Year Jurisdiction  Count                   Status  \\\n",
       "7288  Alameda  2007      Alameda     45  Alternative and Ongoing   \n",
       "7289  Alameda  2007      Alameda     45  Alternative and Ongoing   \n",
       "7290  Alameda  2007      Alameda     45  Alternative and Ongoing   \n",
       "\n",
       "                       Program  Alternative Daily Cover    Ash  \\\n",
       "7288   Alternative Daily Cover                     True  False   \n",
       "7289      Commercial Self-Haul                    False  False   \n",
       "7290           Disaster Debris                    False  False   \n",
       "\n",
       "      Backyard and On-Site Composting/Mulching  Biomass   ...     \\\n",
       "7288                                     False    False   ...      \n",
       "7289                                     False    False   ...      \n",
       "7290                                     False    False   ...      \n",
       "\n",
       "      Sludge (sewage/industrial)  Special Collection Events  \\\n",
       "7288                       False                      False   \n",
       "7289                       False                      False   \n",
       "7290                       False                      False   \n",
       "\n",
       "      Special Collection Seasonal (regular)  Tires  Transfer Station  \\\n",
       "7288                                  False  False             False   \n",
       "7289                                  False  False             False   \n",
       "7290                                  False  False             False   \n",
       "\n",
       "      Waste Exchange  Waste To Energy  White Goods  Wood Waste  \\\n",
       "7288           False            False        False       False   \n",
       "7289           False            False        False       False   \n",
       "7290           False            False        False       False   \n",
       "\n",
       "      Xeriscaping/Grasscycling  \n",
       "7288                     False  \n",
       "7289                     False  \n",
       "7290                     False  \n",
       "\n",
       "[3 rows x 68 columns]"
      ]
     },
     "execution_count": 15,
     "metadata": {},
     "output_type": "execute_result"
    }
   ],
   "source": [
    "# Converting multiple rows and one column into one row and multiple columns and filling cell with boolean\n",
    "for p in programs:\n",
    "    temp_df[p] = [p in program for program in temp_df['Program']]\n",
    "\n",
    "temp_df.head(3)"
   ]
  },
  {
   "cell_type": "code",
   "execution_count": 16,
   "metadata": {
    "collapsed": false
   },
   "outputs": [
    {
     "data": {
      "text/html": [
       "<div style=\"max-height:1000px;max-width:1500px;overflow:auto;\">\n",
       "<table border=\"1\" class=\"dataframe\">\n",
       "  <thead>\n",
       "    <tr style=\"text-align: right;\">\n",
       "      <th></th>\n",
       "      <th>County</th>\n",
       "      <th>Year</th>\n",
       "      <th>Jurisdiction</th>\n",
       "      <th>Count</th>\n",
       "      <th> Alternative Daily Cover</th>\n",
       "      <th> Ash</th>\n",
       "      <th> Backyard and On-Site Composting/Mulching</th>\n",
       "      <th> Biomass</th>\n",
       "      <th> Business Waste Reduction Program</th>\n",
       "      <th> Commercial On-Site Greenwaste Pick-up</th>\n",
       "      <th>...</th>\n",
       "      <th> Sludge (sewage/industrial)</th>\n",
       "      <th> Special Collection Events</th>\n",
       "      <th> Special Collection Seasonal (regular)</th>\n",
       "      <th> Tires</th>\n",
       "      <th> Transfer Station</th>\n",
       "      <th> Waste Exchange</th>\n",
       "      <th> Waste To Energy</th>\n",
       "      <th> White Goods</th>\n",
       "      <th> Wood Waste</th>\n",
       "      <th> Xeriscaping/Grasscycling</th>\n",
       "    </tr>\n",
       "  </thead>\n",
       "  <tbody>\n",
       "    <tr>\n",
       "      <th>412</th>\n",
       "      <td> Yolo</td>\n",
       "      <td> 2007</td>\n",
       "      <td>                                        Woodland</td>\n",
       "      <td> 39</td>\n",
       "      <td> 1</td>\n",
       "      <td> 0</td>\n",
       "      <td> 1</td>\n",
       "      <td> 1</td>\n",
       "      <td> 1</td>\n",
       "      <td> 1</td>\n",
       "      <td>...</td>\n",
       "      <td> 0</td>\n",
       "      <td> 1</td>\n",
       "      <td> 1</td>\n",
       "      <td> 1</td>\n",
       "      <td> 0</td>\n",
       "      <td> 0</td>\n",
       "      <td> 0</td>\n",
       "      <td> 1</td>\n",
       "      <td> 1</td>\n",
       "      <td> 1</td>\n",
       "    </tr>\n",
       "    <tr>\n",
       "      <th>413</th>\n",
       "      <td> Yolo</td>\n",
       "      <td> 2007</td>\n",
       "      <td>                             Yolo-Unincorporated</td>\n",
       "      <td> 45</td>\n",
       "      <td> 1</td>\n",
       "      <td> 0</td>\n",
       "      <td> 1</td>\n",
       "      <td> 1</td>\n",
       "      <td> 0</td>\n",
       "      <td> 0</td>\n",
       "      <td>...</td>\n",
       "      <td> 0</td>\n",
       "      <td> 1</td>\n",
       "      <td> 1</td>\n",
       "      <td> 2</td>\n",
       "      <td> 0</td>\n",
       "      <td> 1</td>\n",
       "      <td> 0</td>\n",
       "      <td> 1</td>\n",
       "      <td> 1</td>\n",
       "      <td> 1</td>\n",
       "    </tr>\n",
       "    <tr>\n",
       "      <th>414</th>\n",
       "      <td> Yuba</td>\n",
       "      <td> 2007</td>\n",
       "      <td> Yuba/Sutter Regional Waste Management Authority</td>\n",
       "      <td> 36</td>\n",
       "      <td> 1</td>\n",
       "      <td> 0</td>\n",
       "      <td> 1</td>\n",
       "      <td> 1</td>\n",
       "      <td> 1</td>\n",
       "      <td> 0</td>\n",
       "      <td>...</td>\n",
       "      <td> 0</td>\n",
       "      <td> 1</td>\n",
       "      <td> 1</td>\n",
       "      <td> 1</td>\n",
       "      <td> 1</td>\n",
       "      <td> 1</td>\n",
       "      <td> 0</td>\n",
       "      <td> 0</td>\n",
       "      <td> 1</td>\n",
       "      <td> 0</td>\n",
       "    </tr>\n",
       "  </tbody>\n",
       "</table>\n",
       "<p>3 rows × 66 columns</p>\n",
       "</div>"
      ],
      "text/plain": [
       "    County  Year                                     Jurisdiction  Count  \\\n",
       "412   Yolo  2007                                         Woodland     39   \n",
       "413   Yolo  2007                              Yolo-Unincorporated     45   \n",
       "414   Yuba  2007  Yuba/Sutter Regional Waste Management Authority     36   \n",
       "\n",
       "      Alternative Daily Cover   Ash  \\\n",
       "412                         1     0   \n",
       "413                         1     0   \n",
       "414                         1     0   \n",
       "\n",
       "      Backyard and On-Site Composting/Mulching   Biomass  \\\n",
       "412                                          1         1   \n",
       "413                                          1         1   \n",
       "414                                          1         1   \n",
       "\n",
       "      Business Waste Reduction Program  \\\n",
       "412                                  1   \n",
       "413                                  0   \n",
       "414                                  1   \n",
       "\n",
       "      Commercial On-Site Greenwaste Pick-up  \\\n",
       "412                                       1   \n",
       "413                                       0   \n",
       "414                                       0   \n",
       "\n",
       "                      ...                     Sludge (sewage/industrial)  \\\n",
       "412                   ...                                              0   \n",
       "413                   ...                                              0   \n",
       "414                   ...                                              0   \n",
       "\n",
       "      Special Collection Events   Special Collection Seasonal (regular)  \\\n",
       "412                           1                                       1   \n",
       "413                           1                                       1   \n",
       "414                           1                                       1   \n",
       "\n",
       "      Tires   Transfer Station   Waste Exchange   Waste To Energy  \\\n",
       "412       1                  0                0                 0   \n",
       "413       2                  0                1                 0   \n",
       "414       1                  1                1                 0   \n",
       "\n",
       "      White Goods   Wood Waste   Xeriscaping/Grasscycling  \n",
       "412             1            1                          1  \n",
       "413             1            1                          1  \n",
       "414             0            1                          0  \n",
       "\n",
       "[3 rows x 66 columns]"
      ]
     },
     "execution_count": 16,
     "metadata": {},
     "output_type": "execute_result"
    }
   ],
   "source": [
    "x = temp_df.groupby(['County', 'Year', 'Jurisdiction', 'Count']).sum()\n",
    "x = x.reset_index()\n",
    "x.tail(3)"
   ]
  },
  {
   "cell_type": "code",
   "execution_count": 57,
   "metadata": {
    "collapsed": false
   },
   "outputs": [],
   "source": [
    "df = pd.read_csv('./raw_data/DPProgramCountsByStatusYearJuris.csv')\n",
    "\n",
    "# Extracting count from string and converting to int\n",
    "df['ProgramCount'] = [int(count[21:]) for count in df['ProgramCount']]\n",
    "\n",
    "# Removing * from program name\n",
    "df['ProgramName'] = [name[1:] for name in df['ProgramName']]\n",
    "\n",
    "# Changing dataframe column names\n",
    "df.columns = ['County', 'Year', 'Jurisdiction', 'Count', 'Status', 'Program']\n",
    "\n",
    "# Get a list of unique programs\n",
    "programs = set(df['Program'])\n",
    "programs = sorted(programs)\n",
    "\n",
    "# Filter data to include years from 2007 through 2013\n",
    "df = df[(df['Year'] >= 2007) & (df['Year'] <= 2013)]\n",
    "\n",
    "# Filter data to include program status: 'Alternative and Implemented', 'Alternative and Ongoing', 'Selected and Implemented', 'Selected and Ongoing'\n",
    "df = df[(df['Status'] == 'Alternative and Implemented') | (df['Status'] == 'Alternative and Ongoing') | (df['Status'] == 'Selected and Ongoing') | (df['Status'] == 'Selected and Implemented')]"
   ]
  },
  {
   "cell_type": "code",
   "execution_count": 58,
   "metadata": {
    "collapsed": false
   },
   "outputs": [],
   "source": [
    "temp_df = df[df['Year'] == 2007]\n",
    "# Converting multiple rows and one column into one row and multiple columns and filling cell with boolean\n",
    "for p in programs:\n",
    "    temp_df[p] = [p in program for program in temp_df['Program']]\n",
    "    output = temp_df.groupby(['County', 'Year', 'Jurisdiction', 'Count']).sum()\n",
    "    output = output.reset_index()\n"
   ]
  },
  {
   "cell_type": "code",
   "execution_count": 59,
   "metadata": {
    "collapsed": false
   },
   "outputs": [
    {
     "data": {
      "text/html": [
       "<div style=\"max-height:1000px;max-width:1500px;overflow:auto;\">\n",
       "<table border=\"1\" class=\"dataframe\">\n",
       "  <thead>\n",
       "    <tr style=\"text-align: right;\">\n",
       "      <th></th>\n",
       "      <th>County</th>\n",
       "      <th>Year</th>\n",
       "      <th>Jurisdiction</th>\n",
       "      <th>Count</th>\n",
       "      <th> Alternative Daily Cover</th>\n",
       "      <th> Ash</th>\n",
       "      <th> Backyard and On-Site Composting/Mulching</th>\n",
       "      <th> Biomass</th>\n",
       "      <th> Business Waste Reduction Program</th>\n",
       "      <th> Commercial On-Site Greenwaste Pick-up</th>\n",
       "      <th>...</th>\n",
       "      <th> Sludge (sewage/industrial)</th>\n",
       "      <th> Special Collection Events</th>\n",
       "      <th> Special Collection Seasonal (regular)</th>\n",
       "      <th> Tires</th>\n",
       "      <th> Transfer Station</th>\n",
       "      <th> Waste Exchange</th>\n",
       "      <th> Waste To Energy</th>\n",
       "      <th> White Goods</th>\n",
       "      <th> Wood Waste</th>\n",
       "      <th> Xeriscaping/Grasscycling</th>\n",
       "    </tr>\n",
       "  </thead>\n",
       "  <tbody>\n",
       "    <tr>\n",
       "      <th>0</th>\n",
       "      <td> Alameda</td>\n",
       "      <td> 2007</td>\n",
       "      <td>                Alameda</td>\n",
       "      <td> 45</td>\n",
       "      <td> 1</td>\n",
       "      <td> 0</td>\n",
       "      <td> 1</td>\n",
       "      <td> 0</td>\n",
       "      <td> 1</td>\n",
       "      <td> 0</td>\n",
       "      <td>...</td>\n",
       "      <td> 1</td>\n",
       "      <td> 1</td>\n",
       "      <td> 1</td>\n",
       "      <td> 2</td>\n",
       "      <td> 1</td>\n",
       "      <td> 1</td>\n",
       "      <td> 0</td>\n",
       "      <td> 1</td>\n",
       "      <td> 0</td>\n",
       "      <td> 1</td>\n",
       "    </tr>\n",
       "    <tr>\n",
       "      <th>1</th>\n",
       "      <td> Alameda</td>\n",
       "      <td> 2007</td>\n",
       "      <td> Alameda-Unincorporated</td>\n",
       "      <td> 44</td>\n",
       "      <td> 1</td>\n",
       "      <td> 0</td>\n",
       "      <td> 1</td>\n",
       "      <td> 0</td>\n",
       "      <td> 1</td>\n",
       "      <td> 0</td>\n",
       "      <td>...</td>\n",
       "      <td> 1</td>\n",
       "      <td> 0</td>\n",
       "      <td> 1</td>\n",
       "      <td> 2</td>\n",
       "      <td> 1</td>\n",
       "      <td> 1</td>\n",
       "      <td> 0</td>\n",
       "      <td> 1</td>\n",
       "      <td> 1</td>\n",
       "      <td> 0</td>\n",
       "    </tr>\n",
       "    <tr>\n",
       "      <th>2</th>\n",
       "      <td> Alameda</td>\n",
       "      <td> 2007</td>\n",
       "      <td>                 Albany</td>\n",
       "      <td> 42</td>\n",
       "      <td> 1</td>\n",
       "      <td> 0</td>\n",
       "      <td> 1</td>\n",
       "      <td> 0</td>\n",
       "      <td> 1</td>\n",
       "      <td> 0</td>\n",
       "      <td>...</td>\n",
       "      <td> 0</td>\n",
       "      <td> 1</td>\n",
       "      <td> 1</td>\n",
       "      <td> 1</td>\n",
       "      <td> 1</td>\n",
       "      <td> 1</td>\n",
       "      <td> 0</td>\n",
       "      <td> 1</td>\n",
       "      <td> 1</td>\n",
       "      <td> 1</td>\n",
       "    </tr>\n",
       "  </tbody>\n",
       "</table>\n",
       "<p>3 rows × 66 columns</p>\n",
       "</div>"
      ],
      "text/plain": [
       "    County  Year            Jurisdiction  Count   Alternative Daily Cover  \\\n",
       "0  Alameda  2007                 Alameda     45                         1   \n",
       "1  Alameda  2007  Alameda-Unincorporated     44                         1   \n",
       "2  Alameda  2007                  Albany     42                         1   \n",
       "\n",
       "    Ash   Backyard and On-Site Composting/Mulching   Biomass  \\\n",
       "0     0                                          1         0   \n",
       "1     0                                          1         0   \n",
       "2     0                                          1         0   \n",
       "\n",
       "    Business Waste Reduction Program   Commercial On-Site Greenwaste Pick-up  \\\n",
       "0                                  1                                       0   \n",
       "1                                  1                                       0   \n",
       "2                                  1                                       0   \n",
       "\n",
       "                    ...                     Sludge (sewage/industrial)  \\\n",
       "0                   ...                                              1   \n",
       "1                   ...                                              1   \n",
       "2                   ...                                              0   \n",
       "\n",
       "    Special Collection Events   Special Collection Seasonal (regular)   Tires  \\\n",
       "0                           1                                       1       2   \n",
       "1                           0                                       1       2   \n",
       "2                           1                                       1       1   \n",
       "\n",
       "    Transfer Station   Waste Exchange   Waste To Energy   White Goods  \\\n",
       "0                  1                1                 0             1   \n",
       "1                  1                1                 0             1   \n",
       "2                  1                1                 0             1   \n",
       "\n",
       "    Wood Waste   Xeriscaping/Grasscycling  \n",
       "0            0                          1  \n",
       "1            1                          0  \n",
       "2            1                          1  \n",
       "\n",
       "[3 rows x 66 columns]"
      ]
     },
     "execution_count": 59,
     "metadata": {},
     "output_type": "execute_result"
    }
   ],
   "source": [
    "output.head(3)"
   ]
  },
  {
   "cell_type": "code",
   "execution_count": 35,
   "metadata": {
    "collapsed": false
   },
   "outputs": [
    {
     "name": "stdout",
     "output_type": "stream",
     "text": [
      "Processed year: 2007, Number of rows: 415\n",
      "Processed year: 2008, Number of rows: 416\n",
      "Processed year: 2009, Number of rows: 414\n",
      "Processed year: 2010, Number of rows: 414\n",
      "Processed year: 2011, Number of rows: 413\n",
      "Processed year: 2012, Number of rows: 416\n",
      "Processed year: 2013, Number of rows: 413\n"
     ]
    }
   ],
   "source": [
    "# Function to process data\n",
    "def process_program(df, year):\n",
    "    temp_df = df[df['Year'] == year]\n",
    "    for p in programs:\n",
    "        temp_df[p] = [p in program for program in temp_df['Program']]\n",
    "        output = temp_df.groupby(['County', 'Year', 'Jurisdiction', 'Count']).sum()\n",
    "        output = output.reset_index()\n",
    "        output.to_csv('./processed_data/implemented_and_ongoing_programs_' + str(year) + '.csv')\n",
    "    print 'Processed year: %d, Number of rows: %d' % (year, output.shape[0])\n",
    "    return output\n",
    "    \n",
    "# List of years\n",
    "years = list(np.arange(2007, 2014, 1))\n",
    "\n",
    "for year in years:\n",
    "    process_program(df, year)"
   ]
  },
  {
   "cell_type": "code",
   "execution_count": 81,
   "metadata": {
    "collapsed": false
   },
   "outputs": [
    {
     "name": "stdout",
     "output_type": "stream",
     "text": [
      "Processed year: 2007, Number of rows: 415\n",
      "Processed year: 2008, Number of rows: 416\n",
      "Processed year: 2009, Number of rows: 414\n",
      "Processed year: 2010, Number of rows: 414\n",
      "Processed year: 2011, Number of rows: 413\n",
      "Processed year: 2012, Number of rows: 416\n",
      "Processed year: 2013, Number of rows: 413\n"
     ]
    }
   ],
   "source": [
    "df = pd.read_csv('./raw_data/DPProgramCountsByStatusYearJuris.csv')\n",
    "\n",
    "# Extracting count from string and converting to int\n",
    "df['ProgramCount'] = [int(count[21:]) for count in df['ProgramCount']]\n",
    "\n",
    "# Removing * from program name\n",
    "df['ProgramName'] = [name[1:] for name in df['ProgramName']]\n",
    "\n",
    "# Changing dataframe column names\n",
    "df.columns = ['County', 'Year', 'Jurisdiction', 'Count', 'Status', 'Program']\n",
    "\n",
    "# Get a list of unique programs\n",
    "programs = set(df['Program'])\n",
    "programs = sorted(programs)\n",
    "\n",
    "\n",
    "# Filter data to include program status: 'Alternative and Implemented', 'Alternative and Ongoing', 'Selected and Implemented', 'Selected and Ongoing'\n",
    "df = df[(df['Status'] == 'Alternative and Implemented') | (df['Status'] == 'Alternative and Ongoing') | (df['Status'] == 'Selected and Ongoing') | (df['Status'] == 'Selected and Implemented')]\n",
    "\n",
    "# Function to process data\n",
    "def process_program(df, year):\n",
    "    \n",
    "    # Filter data by year\n",
    "    temp_df = df[df['Year'] == year]\n",
    "    \n",
    "    # Converting multiple rows in one column into one row and multiple columns and filling cell with boolean\n",
    "    for p in programs:\n",
    "        temp_df[p] = [p in program for program in temp_df['Program']]\n",
    "        output = temp_df.groupby(['County', 'Year', 'Jurisdiction', 'Count']).sum()\n",
    "        output = output.reset_index()\n",
    "        \n",
    "        # Change name of output columns\n",
    "        i = str(year)\n",
    "        output.rename(columns = {'Count': 'Count_' + i}, inplace = True)\n",
    "        output.rename(columns = {' Alternative Daily Cover': i + '_Prgm_1', ' Ash': i + '_Prgm_2'}, inplace = True)\n",
    "        output.rename(columns = {' Backyard and On-Site Composting/Mulching': i + '_Prgm_3', ' Biomass': i + '_Prgm_4'}, inplace = True)\n",
    "        output.rename(columns = {' Business Waste Reduction Program': i + '_Prgm_5', ' Commercial On-Site Greenwaste Pick-up': i + '_Prgm_6'}, inplace = True)\n",
    "        output.rename(columns = {' Commercial On-Site Pickup': i + '_Prgm_7', ' Commercial Self-Haul': i + '_Prgm_8'}, inplace = True)\n",
    "        output.rename(columns = {' Commercial Self-Haul Greenwaste': i + '_Prgm_9', ' Composting Facility': i + '_Prgm_10'}, inplace = True)\n",
    "        output.rename(columns = {' Concrete/Asphalt/Rubble': i + '_Prgm_11', ' Curbside Collection': i + '_Prgm_12'}, inplace = True)\n",
    "        output.rename(columns = {' Disaster Debris': i + '_Prgm_13', ' Economic Incentives': i + '_Prgm_14'}, inplace = True)\n",
    "        output.rename(columns = {' Education Programs': i + '_Prgm_15', ' Electronic (radio ,TV, web, hotlines)': i + '_Prgm_16'}, inplace = True)\n",
    "        output.rename(columns = {' Electronic Waste': i + '_Prgm_17', ' Food Waste Composting': i + '_Prgm_18'}, inplace = True)\n",
    "        output.rename(columns = {' Government Composting Programs': i + '_Prgm_19', ' Government Recycling Programs': i + '_Prgm_20'}, inplace = True)\n",
    "        output.rename(columns = {' Government Source Reduction Programs': i + '_Prgm_21', ' Landfill': i + '_Prgm_22'}, inplace = True)\n",
    "        output.rename(columns = {' MRF': i + '_Prgm_23', ' Material Exchange, Thrift Shops': i + '_Prgm_24'}, inplace = True)\n",
    "        output.rename(columns = {' Mobile or Periodic Collection': i + '_Prgm_25', ' Ordinances': i + '_Prgm_26'}, inplace = True)\n",
    "        output.rename(columns = {' Other Composting': i + '_Prgm_27', ' Other Facility Recovery': i + '_Prgm_28'}, inplace = True)\n",
    "        output.rename(columns = {' Other HHW': i + '_Prgm_29', ' Other Policy Incentive': i + '_Prgm_30'}, inplace = True)\n",
    "        output.rename(columns = {' Other Public Education': i + '_Prgm_31', ' Other Recycling': i + '_Prgm_32'}, inplace = True)\n",
    "        output.rename(columns = {' Other Source Reduction': i + '_Prgm_33', ' Other Special Waste': i + '_Prgm_34'}, inplace = True)\n",
    "        output.rename(columns = {' Other Transformation': i + '_Prgm_35', ' Outreach (tech assistance, presentations, awards, fairs, field trips)': i + '_Prgm_36'}, inplace = True)\n",
    "        output.rename(columns = {' Permanent Facility': i + '_Prgm_37', ' Print (brochures, flyers, guides, news articles)': i + '_Prgm_38'}, inplace = True)\n",
    "        output.rename(columns = {' Procurement': i + '_Prgm_39', ' Product and Landfill Bans': i + '_Prgm_40'}, inplace = True)\n",
    "        output.rename(columns = {' Rendering': i + '_Prgm_41', ' Residential Buy-Back': i + '_Prgm_42'}, inplace = True)\n",
    "        output.rename(columns = {' Residential Curbside': i + '_Prgm_43', ' Residential Curbside Greenwaste Collection': i + '_Prgm_44'}, inplace = True)\n",
    "        output.rename(columns = {' Residential Drop-Off': i + '_Prgm_45', ' Residential Self-haul Greenwaste': i + '_Prgm_46'}, inplace = True)\n",
    "        output.rename(columns = {' School Composting Programs': i + '_Prgm_47', ' School Recycling Programs': i + '_Prgm_48'}, inplace = True)\n",
    "        output.rename(columns = {' School Source Reduction Programs': i + '_Prgm_49', ' Schools (education and curriculum)': i + '_Prgm_50'}, inplace = True)\n",
    "        output.rename(columns = {' Scrap Metal': i + '_Prgm_51', ' Shingles': i + '_Prgm_52'}, inplace = True)\n",
    "        output.rename(columns = {' Sludge (sewage/industrial)': i + '_Prgm_53', ' Special Collection Events': i + '_Prgm_54'}, inplace = True)\n",
    "        output.rename(columns = {' Special Collection Seasonal (regular)': i + '_Prgm_55', ' Tires': i + '_Prgm_56'}, inplace = True)\n",
    "        output.rename(columns = {' Transfer Station': i + '_Prgm_57', ' Waste Exchange': i + '_Prgm_58'}, inplace = True)\n",
    "        output.rename(columns = {' Waste To Energy': i + '_Prgm_59', ' White Goods': i + '_Prgm_60'}, inplace = True)\n",
    "        output.rename(columns = {' Wood Waste': i + '_Prgm_61', ' Xeriscaping/Grasscycling': i + '_Prgm_62'}, inplace = True)\n",
    "        del output['Year']\n",
    "        \n",
    "        # Save output as *.csv\n",
    "        output.to_csv('./processed_data/clean_programs_' + str(year) + '.csv')\n",
    "        \n",
    "    print 'Processed year: %d, Number of rows: %d' % (year, output.shape[0])\n",
    "    \n",
    "    return output\n",
    "\n",
    "# List of years\n",
    "#years = list(np.arange(1995, 2014, 1))\n",
    "years = list(np.arange(2007, 2014, 1))\n",
    "\n",
    "# Get unique values of 2 columns\n",
    "two_col_unique = df.drop_duplicates(['County', 'Jurisdiction'])\n",
    "\n",
    "# Create a dataframe with NCICCode and county\n",
    "program_temp = pd.DataFrame({'County': two_col_unique['County'], 'Jurisdiction': two_col_unique['Jurisdiction']})\n",
    "\n",
    "# Loop over years and merge data\n",
    "for year in years:\n",
    "    program_temp = pd.merge(program_temp, process_program(df, year), left_on = ['Jurisdiction', 'County'], right_on = ['Jurisdiction', 'County'], how = 'left')\n",
    "\n",
    "# Fill NaN with 0\n",
    "col_list = program_temp.columns.tolist()\n",
    "col_list = col_list[2:] # First 2 columns are object dtype\n",
    "for col in col_list:\n",
    "    program_temp[col] = program_temp[col].fillna(0).astype(float)\n",
    "\n",
    "# Save clean data\n",
    "#program_temp.to_csv('./processed_data/clean_implemented_and_ongoing_programs_1995-2013.csv')\n",
    "program_temp.to_csv('./processed_data/clean_implemented_and_ongoing_programs_2007-2013.csv')"
   ]
  },
  {
   "cell_type": "code",
   "execution_count": 80,
   "metadata": {
    "collapsed": false
   },
   "outputs": [
    {
     "data": {
      "text/plain": [
       "County           object\n",
       "Jurisdiction     object\n",
       "Count_1995      float64\n",
       "1995_Prgm_1     float64\n",
       "1995_Prgm_2     float64\n",
       "1995_Prgm_3     float64\n",
       "1995_Prgm_4     float64\n",
       "1995_Prgm_5     float64\n",
       "1995_Prgm_6     float64\n",
       "1995_Prgm_7     float64\n",
       "1995_Prgm_8     float64\n",
       "1995_Prgm_9     float64\n",
       "1995_Prgm_10    float64\n",
       "1995_Prgm_11    float64\n",
       "1995_Prgm_12    float64\n",
       "...\n",
       "2013_Prgm_48    float64\n",
       "2013_Prgm_49    float64\n",
       "2013_Prgm_50    float64\n",
       "2013_Prgm_51    float64\n",
       "2013_Prgm_52    float64\n",
       "2013_Prgm_53    float64\n",
       "2013_Prgm_54    float64\n",
       "2013_Prgm_55    float64\n",
       "2013_Prgm_56    float64\n",
       "2013_Prgm_57    float64\n",
       "2013_Prgm_58    float64\n",
       "2013_Prgm_59    float64\n",
       "2013_Prgm_60    float64\n",
       "2013_Prgm_61    float64\n",
       "2013_Prgm_62    float64\n",
       "Length: 1199, dtype: object"
      ]
     },
     "execution_count": 80,
     "metadata": {},
     "output_type": "execute_result"
    }
   ],
   "source": [
    "program_temp.dtypes"
   ]
  },
  {
   "cell_type": "markdown",
   "metadata": {},
   "source": [
    "## Mapping location of Solid Waste Facilities"
   ]
  },
  {
   "cell_type": "code",
   "execution_count": null,
   "metadata": {
    "collapsed": false
   },
   "outputs": [],
   "source": [
    "sites = pd.read_csv('https://raw.githubusercontent.com/ankoorb/NPO-Project/master/Data/SWIS.csv')\n",
    "sites.head(3)"
   ]
  },
  {
   "cell_type": "code",
   "execution_count": null,
   "metadata": {
    "collapsed": false
   },
   "outputs": [],
   "source": [
    "print list(pd.unique(sites['OpStatus'].ravel()))"
   ]
  },
  {
   "cell_type": "code",
   "execution_count": null,
   "metadata": {
    "collapsed": false
   },
   "outputs": [],
   "source": [
    "# Removing extra white space from string\n",
    "sites['OpStatus'] = sites['OpStatus'].map(str.strip)\n",
    "print list(pd.unique(sites['OpStatus'].ravel()))"
   ]
  },
  {
   "cell_type": "code",
   "execution_count": null,
   "metadata": {
    "collapsed": false
   },
   "outputs": [],
   "source": [
    "open_sites = sites[sites['OpStatus'] == 'Active']\n",
    "open_sites['Category'] = open_sites['Category'].map(str.strip)\n",
    "print open_sites.shape\n",
    "open_sites.head(3)"
   ]
  },
  {
   "cell_type": "code",
   "execution_count": null,
   "metadata": {
    "collapsed": false
   },
   "outputs": [],
   "source": [
    "print pd.unique(open_sites['Category'].ravel())"
   ]
  },
  {
   "cell_type": "code",
   "execution_count": null,
   "metadata": {
    "collapsed": true
   },
   "outputs": [],
   "source": [
    "open_sites.to_csv('./processed_data/open_sites.csv')"
   ]
  },
  {
   "cell_type": "markdown",
   "metadata": {},
   "source": [
    "<img src='images/ca-sw-sites.png' style='width:800px;'>"
   ]
  },
  {
   "cell_type": "markdown",
   "metadata": {},
   "source": [
    "California Crime Data\n",
    "---"
   ]
  },
  {
   "cell_type": "code",
   "execution_count": null,
   "metadata": {
    "collapsed": false
   },
   "outputs": [],
   "source": [
    "!ls"
   ]
  },
  {
   "cell_type": "code",
   "execution_count": null,
   "metadata": {
    "collapsed": false
   },
   "outputs": [],
   "source": [
    "crimes = pd.read_csv('./raw_data/crimes_data_2005-2014.csv')\n",
    "crimes.head(3)"
   ]
  },
  {
   "cell_type": "code",
   "execution_count": null,
   "metadata": {
    "collapsed": false
   },
   "outputs": [],
   "source": [
    "# Filter data to include years from 2007 through 2013\n",
    "crimes = crimes[(crimes['Year'] >= 2007) & (crimes['Year'] <= 2013)]\n",
    "# Reset index\n",
    "crimes.reset_index(inplace = True)\n",
    "crimes.head(3)"
   ]
  },
  {
   "cell_type": "code",
   "execution_count": null,
   "metadata": {
    "collapsed": false
   },
   "outputs": [],
   "source": [
    "print crimes.columns.values"
   ]
  },
  {
   "cell_type": "code",
   "execution_count": null,
   "metadata": {
    "collapsed": false
   },
   "outputs": [],
   "source": [
    "# Select relevant columns\n",
    "crimes =  crimes[['Year', 'County', 'NCICCode', 'Violent_sum', 'Homicide_sum', 'ForRape_sum', 'Robbery_sum', 'AggAssault_sum', 'Property_sum', 'Burglary_sum', 'VehicleTheft_sum', 'LTtotal_sum', 'GrandTotal_sum']]\n",
    "crimes.head(3)"
   ]
  },
  {
   "cell_type": "code",
   "execution_count": null,
   "metadata": {
    "collapsed": false
   },
   "outputs": [],
   "source": [
    "# Rename columns\n",
    "crimes.rename(columns={'Violent_sum': 'Violent', 'Homicide_sum': 'Homicide', 'ForRape_sum': 'Rape', 'Robbery_sum': 'Robbery', 'LTtotal_sum': 'Larceny' }, inplace = True)\n",
    "crimes.rename(columns={'AggAssault_sum': 'Assault', 'Property_sum': 'Property', 'Burglary_sum': 'Burglary', 'VehicleTheft_sum': 'VehicleTheft', 'GrandTotal_sum': 'Arson' }, inplace = True)\n",
    "crimes.head(3)"
   ]
  },
  {
   "cell_type": "code",
   "execution_count": null,
   "metadata": {
    "collapsed": false
   },
   "outputs": [],
   "source": [
    "# Add total crime column\n",
    "crimes['TotCrimes'] = crimes.sum(axis=1)\n",
    "crimes.head(3)"
   ]
  },
  {
   "cell_type": "code",
   "execution_count": null,
   "metadata": {
    "collapsed": true
   },
   "outputs": [],
   "source": [
    "crimes.to_csv('./processed_data/crimes_data_2007-2013.csv')"
   ]
  },
  {
   "cell_type": "code",
   "execution_count": null,
   "metadata": {
    "collapsed": false
   },
   "outputs": [],
   "source": [
    "# List of years\n",
    "years = list(np.arange(2007, 2014, 1))\n",
    "\n",
    "# Function to take subset of dataframe by year, rename columns to reflect year and save dataframe as csv\n",
    "def crime_df(df, year):\n",
    "    i = str(year)\n",
    "    temp = df[df['Year'] == year]\n",
    "    temp = temp[['NCICCode', 'Violent', 'Homicide', 'Rape', 'Robbery', 'Assault', 'Property', 'Burglary', 'VehicleTheft', 'Larceny', 'Arson', 'TotCrimes']]\n",
    "    temp.rename(columns = {'Violent':'Violent_' + i, 'Homicide': 'Homicide_' + i, 'Rape': 'Rape_' + i, 'Robbery': 'Robbery_' + i, 'Assault': 'Assault_' + i, 'Property': 'Property_' + i}, inplace = True)\n",
    "    temp.rename(columns = {'Burglary': 'Burglary_' + i, 'VehicleTheft': 'VehicleTheft_' + i, 'Larceny': 'Larceny_' + i, 'Arson': 'Arson_' + i, 'TotCrimes': 'TotCrimes_' + i}, inplace = True)\n",
    "    temp.to_csv('./processed_data/crimes_data_' + i + '.csv')\n",
    "    print 'Processed year: %d, Number of rows: %d' % (year, temp.shape[0])\n",
    "    return temp\n",
    "\n",
    "# Get unique values of 2 columns\n",
    "two_col_unique = crimes.drop_duplicates(['NCICCode', 'County'])\n",
    "\n",
    "# Create a dataframe with NCICCode and county\n",
    "crime_temp = pd.DataFrame({'NCICCode': two_col_unique['NCICCode'], 'County': two_col_unique['County']})\n",
    "\n",
    "\n",
    "# Loop over years and merge data\n",
    "for year in years:\n",
    "    crime_temp = pd.merge(crime_temp, crime_df(crimes, year), left_on = 'NCICCode', right_on = 'NCICCode', how = 'left')\n",
    "\n",
    "crime_temp.tail(3)"
   ]
  },
  {
   "cell_type": "code",
   "execution_count": null,
   "metadata": {
    "collapsed": false
   },
   "outputs": [],
   "source": [
    "# Replace NaN with 0 iteratively for columns with float dtype\n",
    "col_list = crime_temp.columns.tolist()\n",
    "col_list = col_list[2:] # First 2 columns are object dtype\n",
    "for col in col_list:\n",
    "    crime_temp[col] = crime_temp[col].fillna(0).astype(float)\n",
    "    \n",
    "#for col in df.columns[pd.isnull(df).all()]:\n",
    "    #df[col] = df[col].astype(object).fillna(\"UNKNOWN\")\n",
    "\n",
    "# Remove NCICCode that is not a string\n",
    "crime_temp = crime_temp.ix[:741] \n",
    "\n",
    "# Save the processed crime data\n",
    "crime_temp.to_csv('./processed_data/crimes_data_clean.csv')\n",
    "\n",
    "crime_temp.tail(3)"
   ]
  },
  {
   "cell_type": "code",
   "execution_count": null,
   "metadata": {
    "collapsed": false
   },
   "outputs": [],
   "source": [
    "print 'No of unique NCIC Codes: ', len(list(pd.unique(crimes['NCICCode'].ravel())))\n",
    "print '-------------------------------------------------------------------------------------------------'\n",
    "print 'List of unique NCIC Codes: ', list(pd.unique(crimes['NCICCode'].ravel()))"
   ]
  },
  {
   "cell_type": "code",
   "execution_count": null,
   "metadata": {
    "collapsed": false
   },
   "outputs": [],
   "source": [
    "temp_juris = list(pd.unique(df['jurisdiction'].ravel()))\n",
    "temp_ncic = list(pd.unique(crimes['NCICCode'].ravel()))"
   ]
  },
  {
   "cell_type": "code",
   "execution_count": null,
   "metadata": {
    "collapsed": false
   },
   "outputs": [],
   "source": [
    "# Comparing 2 lists\n",
    "a = sorted(set(temp_juris).intersection(temp_ncic)) # set and intersection\n",
    "b = [i for i, j in zip(temp_juris, temp_ncic) if i == j] # seems to not work well\n",
    "c = [i for i in temp_juris if i in temp_ncic]\n",
    "print len(a), len(b), len(c)"
   ]
  },
  {
   "cell_type": "code",
   "execution_count": null,
   "metadata": {
    "collapsed": false
   },
   "outputs": [],
   "source": [
    "print a"
   ]
  },
  {
   "cell_type": "code",
   "execution_count": null,
   "metadata": {
    "collapsed": false
   },
   "outputs": [],
   "source": [
    "# Not common\n",
    "d = [x for x in temp_juris if x not in temp_ncic]\n",
    "e = [x for x in temp_ncic if x not in temp_juris]\n",
    "print len(d), len(e)"
   ]
  },
  {
   "cell_type": "code",
   "execution_count": null,
   "metadata": {
    "collapsed": false,
    "scrolled": true
   },
   "outputs": [],
   "source": [
    "# Jurisdictions not found in Crime Data\n",
    "print sorted(d) "
   ]
  },
  {
   "cell_type": "code",
   "execution_count": null,
   "metadata": {
    "collapsed": false
   },
   "outputs": [],
   "source": [
    "# NCIC Codes (Jurisdictions) not found in Jurisdiction Program Summary Data - Not important\n",
    "print sorted(e)"
   ]
  },
  {
   "cell_type": "markdown",
   "metadata": {
    "collapsed": true
   },
   "source": [
    "## California Solar Energy Data"
   ]
  },
  {
   "cell_type": "code",
   "execution_count": null,
   "metadata": {
    "collapsed": false
   },
   "outputs": [],
   "source": [
    "# Read data\n",
    "solar = pd.read_csv('./raw_data/WorkingDataSet.csv')\n",
    "solar.head(3)"
   ]
  },
  {
   "cell_type": "code",
   "execution_count": null,
   "metadata": {
    "collapsed": false
   },
   "outputs": [],
   "source": [
    "# Drop duplicate 'Application Number'\n",
    "solar = solar.drop_duplicates(['Application Number'])\n",
    "print solar.shape"
   ]
  },
  {
   "cell_type": "code",
   "execution_count": null,
   "metadata": {
    "collapsed": false
   },
   "outputs": [],
   "source": [
    "# Create new dataframe \n",
    "solar = pd.DataFrame({'City': solar['Host Customer Physical Address City'], 'County': solar['Host Customer Physical Address County']})"
   ]
  },
  {
   "cell_type": "code",
   "execution_count": null,
   "metadata": {
    "collapsed": true
   },
   "outputs": [],
   "source": [
    "#solar = pd.DataFrame({'city': solar['Host Customer Physical Address City'], 'county': solar['Host Customer Physical Address County'], 'rating': solar['CSI Rating Fixed']})\n",
    "#temp = solar.groupby(['city', 'county']).count()\n",
    "#temp = temp.reset_index()\n",
    "#temp.to_csv('./processed_data/solar.csv')\n",
    "#temp.head(10)\n",
    "# Printing groupby object as string\n",
    "#print solar.groupby(['city', 'county']).count().to_string()"
   ]
  },
  {
   "cell_type": "code",
   "execution_count": null,
   "metadata": {
    "collapsed": false
   },
   "outputs": [],
   "source": [
    "temp = solar.groupby(['City']).count()\n",
    "temp = temp.reset_index()\n",
    "print temp.head(3)\n",
    "\n",
    "# Change '29 Palms' to 'Twentynine Palms'\n",
    "temp['City'][0] = 'Twentynine Palms'\n",
    "print temp.head(3)\n",
    "temp.rename(columns={'County': 'SolarUnitCount'}, inplace = True)\n",
    "temp.head(5)"
   ]
  },
  {
   "cell_type": "code",
   "execution_count": null,
   "metadata": {
    "collapsed": false
   },
   "outputs": [],
   "source": [
    "# Get index of a value\n",
    "idx = temp[temp['City'] == 'Twentynine Palms'].index.tolist()\n",
    "print idx\n",
    "# Add SolarUnitCount for the city 'Twentynine Palms'\n",
    "temp.iloc[idx[0], 1] = temp.iloc[idx[0], 1] + temp.iloc[idx[1], 1]\n",
    "print temp.iloc[idx[0], 1]\n",
    "print temp.shape\n",
    "# Drop extra 'Twentynine Palms' row\n",
    "temp = temp.drop(temp.index[idx[1]])\n",
    "print temp.shape\n",
    "# Reset index\n",
    "temp.reset_index(inplace = True)\n",
    "# Save \n",
    "temp.to_csv('./processed_data/solar.csv')"
   ]
  },
  {
   "cell_type": "markdown",
   "metadata": {},
   "source": [
    "**California City-County data**"
   ]
  },
  {
   "cell_type": "code",
   "execution_count": null,
   "metadata": {
    "collapsed": false,
    "scrolled": false
   },
   "outputs": [],
   "source": [
    "# Read data\n",
    "city_county = pd.read_csv('./raw_data/ca-city-county.csv')\n",
    "city_county.head(3)"
   ]
  },
  {
   "cell_type": "code",
   "execution_count": null,
   "metadata": {
    "collapsed": false
   },
   "outputs": [],
   "source": [
    "# Select relevant columns\n",
    "city_county =  city_county[['Name', 'County', 'Population (2010)', 'Land area']]\n",
    "print list(city_county.columns.values)\n",
    "# Change column names\n",
    "city_county.rename(columns={'Name': 'City', 'Population (2010)': 'Pop_2010'}, inplace = True)\n",
    "city_county.head(3)"
   ]
  },
  {
   "cell_type": "code",
   "execution_count": null,
   "metadata": {
    "collapsed": false
   },
   "outputs": [],
   "source": [
    "## Cleaning data\n",
    "# 1. Extract area in sq. mile from the string and save in a new column\n",
    "city_county['Area_SqMi'] = city_county['Land area'].str.extract('(\\d+\\.\\d+)')\n",
    "# 2. Replace \",\" with '' from Population 2010 column\n",
    "city_county['Pop_2010'] = city_county['Pop_2010'].str.replace(',', '')\n",
    "# Check data type\n",
    "print city_county.dtypes"
   ]
  },
  {
   "cell_type": "code",
   "execution_count": null,
   "metadata": {
    "collapsed": false
   },
   "outputs": [],
   "source": [
    "# Data type conversion\n",
    "# 1. Convert string (object) to integer for population\n",
    "city_county['Pop_2010'] = city_county['Pop_2010'].astype(int)\n",
    "# 2. Convert string (object) to float for area in sq. mile\n",
    "city_county['Area_SqMi'] = city_county['Area_SqMi'].astype(float)\n",
    "# Check updated data type\n",
    "print city_county.dtypes\n",
    "# Select relavent column\n",
    "city_county = city_county[['City', 'County', 'Pop_2010', 'Area_SqMi']]"
   ]
  },
  {
   "cell_type": "code",
   "execution_count": null,
   "metadata": {
    "collapsed": false
   },
   "outputs": [],
   "source": [
    "city_county.to_csv('./processed_data/ca_city_county.csv')"
   ]
  },
  {
   "cell_type": "markdown",
   "metadata": {},
   "source": [
    "**Merging with processed Solar data**"
   ]
  },
  {
   "cell_type": "code",
   "execution_count": null,
   "metadata": {
    "collapsed": true
   },
   "outputs": [],
   "source": [
    "temp_solar = list(pd.unique(solar['City'].ravel()))\n",
    "temp_city = list(pd.unique(city_county['City'].ravel()))"
   ]
  },
  {
   "cell_type": "code",
   "execution_count": null,
   "metadata": {
    "collapsed": false
   },
   "outputs": [],
   "source": [
    "# Comparing 2 lists: Common in two lists\n",
    "test = sorted(set(temp_solar).intersection(temp_city)) # set and intersection\n",
    "print 'Number of common cities: %d' % len(test)\n",
    "print 'Number of cities in Solar data: %d. Number of cities in City County data: %d' % (len(temp_solar), len(temp_city))"
   ]
  },
  {
   "cell_type": "code",
   "execution_count": null,
   "metadata": {
    "collapsed": false
   },
   "outputs": [],
   "source": [
    "# Not common\n",
    "a = [x for x in temp_solar if x not in temp_city]\n",
    "b = [x for x in temp_city if x not in temp_solar]\n",
    "print 'Number of cities in Solar data that do not match cities in City County data: %d' % len(a)\n",
    "print 'Number of cities in City County data that do not match cities in Solar data: %d' % len(b)"
   ]
  },
  {
   "cell_type": "code",
   "execution_count": null,
   "metadata": {
    "collapsed": false
   },
   "outputs": [],
   "source": [
    "print test"
   ]
  },
  {
   "cell_type": "code",
   "execution_count": null,
   "metadata": {
    "collapsed": false
   },
   "outputs": [],
   "source": [
    "print a"
   ]
  },
  {
   "cell_type": "code",
   "execution_count": null,
   "metadata": {
    "collapsed": false
   },
   "outputs": [],
   "source": [
    "print b"
   ]
  },
  {
   "cell_type": "code",
   "execution_count": null,
   "metadata": {
    "collapsed": false
   },
   "outputs": [],
   "source": [
    "# Merging temp (SolarUnitCount) data with city_county data: left table is temp\n",
    "solar_clean = pd.merge(temp, city_county, left_on = 'City', right_on = 'City', how = 'left')\n",
    "solar_clean.head(3)"
   ]
  },
  {
   "cell_type": "code",
   "execution_count": null,
   "metadata": {
    "collapsed": false
   },
   "outputs": [],
   "source": [
    "# Fill NaN with 0\n",
    "solar_clean['Pop_2010'] = solar_clean['Pop_2010'].fillna(0).astype(int)\n",
    "solar_clean['Area_SqMi'] = solar_clean['Area_SqMi'].fillna(0).astype(float)\n",
    "solar_clean.head(3)"
   ]
  },
  {
   "cell_type": "code",
   "execution_count": null,
   "metadata": {
    "collapsed": true
   },
   "outputs": [],
   "source": [
    "# Solar data by city\n",
    "solar_clean.to_csv('./processed_data/solar_clean_city.csv')"
   ]
  },
  {
   "cell_type": "code",
   "execution_count": null,
   "metadata": {
    "collapsed": false
   },
   "outputs": [],
   "source": [
    "# Solar data by county\n",
    "\n",
    "# 1. Group by County\n",
    "temp_county = solar.groupby(['County']).count()\n",
    "temp_county = temp_county.reset_index()\n",
    "\n",
    "# Rename column\n",
    "temp_county.rename(columns={'City': 'SolarUnitCount'}, inplace = True)\n",
    "\n",
    "# Read CA county Area data\n",
    "ca_county = pd.read_csv('./raw_data/ca-county-area.csv')\n",
    "ca_county.rename(columns = {'Value': 'Area_SqMi'}, inplace = True)\n",
    "\n",
    "# Replace ',' with ''\n",
    "ca_county['Area_SqMi'] = ca_county['Area_SqMi'].str.replace(',', '')\n",
    "\n",
    "# Change dtype object to float\n",
    "ca_county['Area_SqMi'] = ca_county['Area_SqMi'].astype(float)\n",
    "\n",
    "# 2. Merge data\n",
    "solar_county = pd.merge(temp_county, ca_county, left_on = 'County', right_on = 'County', how = 'left')\n",
    "\n",
    "# Solar data by city\n",
    "solar_county.to_csv('./processed_data/solar_clean_county.csv')\n",
    "\n",
    "print solar_county.dtypes\n",
    "\n",
    "solar_county.head(3)"
   ]
  },
  {
   "cell_type": "markdown",
   "metadata": {
    "collapsed": true
   },
   "source": [
    "## Residential Building Permit Data"
   ]
  },
  {
   "cell_type": "code",
   "execution_count": 184,
   "metadata": {
    "collapsed": false
   },
   "outputs": [
    {
     "name": "stdout",
     "output_type": "stream",
     "text": [
      "['./raw_data/permit/BuildingPermitsJuris_2007.csv', './raw_data/permit/BuildingPermitsJuris_2008.csv', './raw_data/permit/BuildingPermitsJuris_2009.csv', './raw_data/permit/BuildingPermitsJuris_2010.csv', './raw_data/permit/BuildingPermitsJuris_2011.csv', './raw_data/permit/BuildingPermitsJuris_2012.csv', './raw_data/permit/BuildingPermitsJuris_2013.csv']\n"
     ]
    }
   ],
   "source": [
    "data_path = './raw_data/permit/' # Path \n",
    "data_files = glob.glob(data_path + '*.csv') # List of all *.csv files\n",
    "print data_files\n",
    "\n",
    "# Empty list to store dataframe\n",
    "df_list = []\n",
    "# Iterative read *.csv files and append to list\n",
    "for file_ in data_files:\n",
    "    df = pd.read_csv(file_)\n",
    "    df_list.append(df)\n",
    "    \n",
    "# Concatenate dataframe list\n",
    "permits = pd.concat(df_list, ignore_index = True)\n",
    "\n",
    "# Replace 'NaN' with a string in a column where dtype is object\n",
    "permits['Location'].replace(np.nan,'xyz', regex = True, inplace = True)\n",
    "# Make string lower\n",
    "permits['Location'] = [location.lower() for location in permits['Location']]\n",
    "# Captalize first letter of string\n",
    "permits['Location'] = [string.capwords(location) for location in permits['Location']]\n",
    "\n",
    "# Find index of rows where Location value = 'Location'\n",
    "idx = permits[permits['Location'] == 'Location'].index.tolist()\n",
    "permits = permits.drop(permits.index[idx]) # Drop rows\n",
    "permits = permits.reset_index()\n",
    "del permits['index']\n",
    "\n",
    "permits = permits[['Location', 'Year', 'Series', 'Permits']]\n",
    "\n",
    "permits['Permits'].replace(np.nan,'0', regex = True, inplace = True)\n",
    "permits['Permits'] = permits['Permits'].astype(float)\n",
    "\n",
    "permits['Year'].replace(np.nan,'1000', regex = True, inplace = True)\n",
    "permits['Year'] = permits['Year'].astype(int)"
   ]
  },
  {
   "cell_type": "code",
   "execution_count": 185,
   "metadata": {
    "collapsed": false
   },
   "outputs": [
    {
     "data": {
      "text/html": [
       "<div style=\"max-height:1000px;max-width:1500px;overflow:auto;\">\n",
       "<table border=\"1\" class=\"dataframe\">\n",
       "  <thead>\n",
       "    <tr style=\"text-align: right;\">\n",
       "      <th></th>\n",
       "      <th>Location</th>\n",
       "      <th>Year</th>\n",
       "      <th>Series</th>\n",
       "      <th>Permits</th>\n",
       "    </tr>\n",
       "  </thead>\n",
       "  <tbody>\n",
       "    <tr>\n",
       "      <th>0</th>\n",
       "      <td> Adelanto</td>\n",
       "      <td> 2007</td>\n",
       "      <td>                          Total Units</td>\n",
       "      <td> 307</td>\n",
       "    </tr>\n",
       "    <tr>\n",
       "      <th>1</th>\n",
       "      <td> Adelanto</td>\n",
       "      <td> 2007</td>\n",
       "      <td>    Units in Single-Family Structures</td>\n",
       "      <td> 307</td>\n",
       "    </tr>\n",
       "    <tr>\n",
       "      <th>2</th>\n",
       "      <td> Adelanto</td>\n",
       "      <td> 2007</td>\n",
       "      <td> Units in All Multi-Family Structures</td>\n",
       "      <td>   0</td>\n",
       "    </tr>\n",
       "  </tbody>\n",
       "</table>\n",
       "</div>"
      ],
      "text/plain": [
       "   Location  Year                                Series  Permits\n",
       "0  Adelanto  2007                           Total Units      307\n",
       "1  Adelanto  2007     Units in Single-Family Structures      307\n",
       "2  Adelanto  2007  Units in All Multi-Family Structures        0"
      ]
     },
     "execution_count": 185,
     "metadata": {},
     "output_type": "execute_result"
    }
   ],
   "source": [
    "permits.head(3)"
   ]
  },
  {
   "cell_type": "code",
   "execution_count": 187,
   "metadata": {
    "collapsed": false
   },
   "outputs": [
    {
     "name": "stdout",
     "output_type": "stream",
     "text": [
      "Processed year: 2007, Number of rows: 535\n",
      "Processed year: 2008, Number of rows: 535\n",
      "Processed year: 2009, Number of rows: 535\n",
      "Processed year: 2010, Number of rows: 535\n",
      "Processed year: 2011, Number of rows: 535\n",
      "Processed year: 2012, Number of rows: 535\n",
      "Processed year: 2013, Number of rows: 535\n"
     ]
    },
    {
     "data": {
      "text/html": [
       "<div style=\"max-height:1000px;max-width:1500px;overflow:auto;\">\n",
       "<table border=\"1\" class=\"dataframe\">\n",
       "  <thead>\n",
       "    <tr style=\"text-align: right;\">\n",
       "      <th></th>\n",
       "      <th>Location</th>\n",
       "      <th>Total_2007</th>\n",
       "      <th>MultiFamily(2)_2007</th>\n",
       "      <th>MultiFamily(3to4)_2007</th>\n",
       "      <th>MultiFamily(5)_2007</th>\n",
       "      <th>MultiFamily(all)_2007</th>\n",
       "      <th>SingleFamily_2007</th>\n",
       "      <th>Total_2008</th>\n",
       "      <th>MultiFamily(2)_2008</th>\n",
       "      <th>MultiFamily(3to4)_2008</th>\n",
       "      <th>...</th>\n",
       "      <th>MultiFamily(3to4)_2012</th>\n",
       "      <th>MultiFamily(5)_2012</th>\n",
       "      <th>MultiFamily(all)_2012</th>\n",
       "      <th>SingleFamily_2012</th>\n",
       "      <th>Total_2013</th>\n",
       "      <th>MultiFamily(2)_2013</th>\n",
       "      <th>MultiFamily(3to4)_2013</th>\n",
       "      <th>MultiFamily(5)_2013</th>\n",
       "      <th>MultiFamily(all)_2013</th>\n",
       "      <th>SingleFamily_2013</th>\n",
       "    </tr>\n",
       "  </thead>\n",
       "  <tbody>\n",
       "    <tr>\n",
       "      <th>0</th>\n",
       "      <td>     Adelanto</td>\n",
       "      <td> 307</td>\n",
       "      <td> 0</td>\n",
       "      <td> 0</td>\n",
       "      <td> 0</td>\n",
       "      <td> 0</td>\n",
       "      <td> 307</td>\n",
       "      <td> 1</td>\n",
       "      <td> 0</td>\n",
       "      <td> 0</td>\n",
       "      <td>...</td>\n",
       "      <td> 0</td>\n",
       "      <td> 0</td>\n",
       "      <td> 0</td>\n",
       "      <td> 20</td>\n",
       "      <td> 58</td>\n",
       "      <td> 0</td>\n",
       "      <td> 0</td>\n",
       "      <td>  0</td>\n",
       "      <td>  0</td>\n",
       "      <td> 58</td>\n",
       "    </tr>\n",
       "    <tr>\n",
       "      <th>1</th>\n",
       "      <td> Agoura Hills</td>\n",
       "      <td>   7</td>\n",
       "      <td> 0</td>\n",
       "      <td> 0</td>\n",
       "      <td> 0</td>\n",
       "      <td> 0</td>\n",
       "      <td>   7</td>\n",
       "      <td> 2</td>\n",
       "      <td> 0</td>\n",
       "      <td> 0</td>\n",
       "      <td>...</td>\n",
       "      <td> 0</td>\n",
       "      <td> 0</td>\n",
       "      <td> 0</td>\n",
       "      <td>  0</td>\n",
       "      <td> 18</td>\n",
       "      <td> 0</td>\n",
       "      <td> 0</td>\n",
       "      <td>  5</td>\n",
       "      <td>  5</td>\n",
       "      <td> 13</td>\n",
       "    </tr>\n",
       "    <tr>\n",
       "      <th>2</th>\n",
       "      <td>      Alameda</td>\n",
       "      <td> 106</td>\n",
       "      <td> 2</td>\n",
       "      <td> 0</td>\n",
       "      <td> 0</td>\n",
       "      <td> 2</td>\n",
       "      <td> 104</td>\n",
       "      <td> 2</td>\n",
       "      <td> 0</td>\n",
       "      <td> 0</td>\n",
       "      <td>...</td>\n",
       "      <td> 0</td>\n",
       "      <td> 0</td>\n",
       "      <td> 0</td>\n",
       "      <td>  0</td>\n",
       "      <td> 37</td>\n",
       "      <td> 0</td>\n",
       "      <td> 0</td>\n",
       "      <td> 36</td>\n",
       "      <td> 36</td>\n",
       "      <td>  1</td>\n",
       "    </tr>\n",
       "  </tbody>\n",
       "</table>\n",
       "<p>3 rows × 43 columns</p>\n",
       "</div>"
      ],
      "text/plain": [
       "       Location  Total_2007  MultiFamily(2)_2007  MultiFamily(3to4)_2007  \\\n",
       "0      Adelanto         307                    0                       0   \n",
       "1  Agoura Hills           7                    0                       0   \n",
       "2       Alameda         106                    2                       0   \n",
       "\n",
       "   MultiFamily(5)_2007  MultiFamily(all)_2007  SingleFamily_2007  Total_2008  \\\n",
       "0                    0                      0                307           1   \n",
       "1                    0                      0                  7           2   \n",
       "2                    0                      2                104           2   \n",
       "\n",
       "   MultiFamily(2)_2008  MultiFamily(3to4)_2008           ...            \\\n",
       "0                    0                       0           ...             \n",
       "1                    0                       0           ...             \n",
       "2                    0                       0           ...             \n",
       "\n",
       "   MultiFamily(3to4)_2012  MultiFamily(5)_2012  MultiFamily(all)_2012  \\\n",
       "0                       0                    0                      0   \n",
       "1                       0                    0                      0   \n",
       "2                       0                    0                      0   \n",
       "\n",
       "   SingleFamily_2012  Total_2013  MultiFamily(2)_2013  MultiFamily(3to4)_2013  \\\n",
       "0                 20          58                    0                       0   \n",
       "1                  0          18                    0                       0   \n",
       "2                  0          37                    0                       0   \n",
       "\n",
       "   MultiFamily(5)_2013  MultiFamily(all)_2013  SingleFamily_2013  \n",
       "0                    0                      0                 58  \n",
       "1                    5                      5                 13  \n",
       "2                   36                     36                  1  \n",
       "\n",
       "[3 rows x 43 columns]"
      ]
     },
     "execution_count": 187,
     "metadata": {},
     "output_type": "execute_result"
    }
   ],
   "source": [
    "def clean_permits(df, year):\n",
    "    i = str(year)\n",
    "    temp = df[df['Year'] == year]\n",
    "    output = temp.pivot(index = 'Location', columns = 'Series', values = 'Permits').reset_index()\n",
    "    output.rename(columns = {'Units in Single-Family Structures': 'SingleFamily_' + i}, inplace = True)\n",
    "    output.rename(columns = {'Units in 2-unit Multi-Family Structures': 'MultiFamily(2)_' + i}, inplace = True)\n",
    "    output.rename(columns = {'Units in 3- and 4-unit Multi-Family Structures': 'MultiFamily(3to4)_' + i}, inplace = True)\n",
    "    output.rename(columns = {'Units in 5+ Unit Multi-Family Structures': 'MultiFamily(5)_' + i}, inplace = True)\n",
    "    output.rename(columns = {'Units in All Multi-Family Structures': 'MultiFamily(all)_' + i}, inplace = True)\n",
    "    output.rename(columns = {'Total Units': 'Total_' + i}, inplace = True)\n",
    "    output.to_csv('./processed_data/clean_permit_data_' + i + '.csv')\n",
    "    print 'Processed year: %d, Number of rows: %d' % (year, output.shape[0])\n",
    "    return output\n",
    "\n",
    "years = list(np.arange(2007, 2014, 1))\n",
    "\n",
    "# Get unique values of 2 columns\n",
    "col_unique = permits.drop_duplicates(['Location'])\n",
    "# Create a dataframe \n",
    "permit_temp = pd.DataFrame({'Location': col_unique['Location']})\n",
    "\n",
    "for year in years:\n",
    "    permit_temp = pd.merge(permit_temp, clean_permits(permits, year), left_on = 'Location', right_on = 'Location', how = 'left')\n",
    "\n",
    "permit_temp.to_csv('./processed_data/clean_residential_building_permit_2007_2013.csv')\n",
    "\n",
    "permit_temp.head(3)"
   ]
  },
  {
   "cell_type": "markdown",
   "metadata": {},
   "source": [
    "## Business Type By County Data"
   ]
  },
  {
   "cell_type": "code",
   "execution_count": 145,
   "metadata": {
    "collapsed": false
   },
   "outputs": [
    {
     "name": "stdout",
     "output_type": "stream",
     "text": [
      "['./raw_data/business/alameda.csv', './raw_data/business/amador.csv', './raw_data/business/butte.csv', './raw_data/business/calaveras.csv', './raw_data/business/colusa.csv', './raw_data/business/contracosta.csv', './raw_data/business/eldorado.csv', './raw_data/business/fresno.csv', './raw_data/business/humboldt.csv', './raw_data/business/imperial.csv', './raw_data/business/inyo.csv', './raw_data/business/kern.csv', './raw_data/business/lake.csv', './raw_data/business/lassen.csv', './raw_data/business/losangeles.csv', './raw_data/business/madera.csv', './raw_data/business/marin.csv', './raw_data/business/mariposa.csv', './raw_data/business/mendocino.csv', './raw_data/business/merced.csv', './raw_data/business/monterey.csv', './raw_data/business/nevada.csv', './raw_data/business/orange.csv', './raw_data/business/placer.csv', './raw_data/business/riverside.csv', './raw_data/business/sacramento.csv', './raw_data/business/sanbernardino.csv', './raw_data/business/sandiego.csv', './raw_data/business/sanfrancisco.csv', './raw_data/business/sanjoaquin.csv', './raw_data/business/sanluisobispo.csv', './raw_data/business/sanmateo.csv', './raw_data/business/santabarbara.csv', './raw_data/business/santaclara.csv', './raw_data/business/santacruz.csv', './raw_data/business/shasta.csv', './raw_data/business/siskiyou.csv', './raw_data/business/solano.csv', './raw_data/business/sonoma.csv', './raw_data/business/stanislaus.csv', './raw_data/business/sutter.csv', './raw_data/business/tehama.csv', './raw_data/business/tulare.csv', './raw_data/business/ventura.csv', './raw_data/business/yolo.csv', './raw_data/business/yuba.csv']\n"
     ]
    }
   ],
   "source": [
    "data_path = './raw_data/business/' # Path \n",
    "data_files = glob.glob(data_path + '*.csv') # List of all *.csv files\n",
    "print data_files"
   ]
  },
  {
   "cell_type": "code",
   "execution_count": 149,
   "metadata": {
    "collapsed": false
   },
   "outputs": [
    {
     "data": {
      "text/plain": [
       "'Riverside County'"
      ]
     },
     "execution_count": 149,
     "metadata": {},
     "output_type": "execute_result"
    }
   ],
   "source": [
    "name = pd.read_csv('./raw_data/business/alameda.csv', skiprows = 0, nrows = 1, header = True)\n",
    "name.columns.values[0]"
   ]
  },
  {
   "cell_type": "code",
   "execution_count": 151,
   "metadata": {
    "collapsed": false
   },
   "outputs": [
    {
     "data": {
      "text/html": [
       "<div style=\"max-height:1000px;max-width:1500px;overflow:auto;\">\n",
       "<table border=\"1\" class=\"dataframe\">\n",
       "  <thead>\n",
       "    <tr style=\"text-align: right;\">\n",
       "      <th></th>\n",
       "      <th>County</th>\n",
       "      <th>Sector</th>\n",
       "      <th>Businesses</th>\n",
       "    </tr>\n",
       "  </thead>\n",
       "  <tbody>\n",
       "    <tr>\n",
       "      <th>0</th>\n",
       "      <td> ------</td>\n",
       "      <td>                         Total for all sectors</td>\n",
       "      <td> 34773</td>\n",
       "    </tr>\n",
       "    <tr>\n",
       "      <th>1</th>\n",
       "      <td> 11----</td>\n",
       "      <td>    Agriculture, Forestry, Fishing and Hunting</td>\n",
       "      <td>    57</td>\n",
       "    </tr>\n",
       "    <tr>\n",
       "      <th>2</th>\n",
       "      <td> 21----</td>\n",
       "      <td> Mining, Quarrying, and Oil and Gas Extraction</td>\n",
       "      <td>    26</td>\n",
       "    </tr>\n",
       "  </tbody>\n",
       "</table>\n",
       "</div>"
      ],
      "text/plain": [
       "   County                                         Sector  Businesses\n",
       "0  ------                          Total for all sectors       34773\n",
       "1  11----     Agriculture, Forestry, Fishing and Hunting          57\n",
       "2  21----  Mining, Quarrying, and Oil and Gas Extraction          26"
      ]
     },
     "execution_count": 151,
     "metadata": {},
     "output_type": "execute_result"
    }
   ],
   "source": [
    "business = pd.read_csv('./raw_data/business/riverside.csv', skiprows = 29, nrows = 21)\n",
    "business = business[['NAICS code', 'NAICS code description']].reset_index()\n",
    "business.rename(columns={'index': 'County', 'NAICS code': 'Sector', 'NAICS code description': 'Businesses'}, inplace = True)\n",
    "# Remove white spaces\n",
    "business['Sector'] = business['Sector'].map(str.strip)\n",
    "business.head(3)"
   ]
  },
  {
   "cell_type": "code",
   "execution_count": 152,
   "metadata": {
    "collapsed": false
   },
   "outputs": [
    {
     "data": {
      "text/html": [
       "<div style=\"max-height:1000px;max-width:1500px;overflow:auto;\">\n",
       "<table border=\"1\" class=\"dataframe\">\n",
       "  <thead>\n",
       "    <tr style=\"text-align: right;\">\n",
       "      <th></th>\n",
       "      <th>County</th>\n",
       "      <th>Sector</th>\n",
       "      <th>Businesses</th>\n",
       "    </tr>\n",
       "  </thead>\n",
       "  <tbody>\n",
       "    <tr>\n",
       "      <th>0</th>\n",
       "      <td> Riverside County</td>\n",
       "      <td>                         Total for all sectors</td>\n",
       "      <td> 34773</td>\n",
       "    </tr>\n",
       "    <tr>\n",
       "      <th>1</th>\n",
       "      <td> Riverside County</td>\n",
       "      <td>    Agriculture, Forestry, Fishing and Hunting</td>\n",
       "      <td>    57</td>\n",
       "    </tr>\n",
       "    <tr>\n",
       "      <th>2</th>\n",
       "      <td> Riverside County</td>\n",
       "      <td> Mining, Quarrying, and Oil and Gas Extraction</td>\n",
       "      <td>    26</td>\n",
       "    </tr>\n",
       "  </tbody>\n",
       "</table>\n",
       "</div>"
      ],
      "text/plain": [
       "             County                                         Sector  Businesses\n",
       "0  Riverside County                          Total for all sectors       34773\n",
       "1  Riverside County     Agriculture, Forestry, Fishing and Hunting          57\n",
       "2  Riverside County  Mining, Quarrying, and Oil and Gas Extraction          26"
      ]
     },
     "execution_count": 152,
     "metadata": {},
     "output_type": "execute_result"
    }
   ],
   "source": [
    "for i, _ in enumerate(business['County']):\n",
    "    business['County'][i] = name.columns.values[0]\n",
    "\n",
    "business.head(3)"
   ]
  },
  {
   "cell_type": "code",
   "execution_count": 178,
   "metadata": {
    "collapsed": false
   },
   "outputs": [
    {
     "data": {
      "text/html": [
       "<div style=\"max-height:1000px;max-width:1500px;overflow:auto;\">\n",
       "<table border=\"1\" class=\"dataframe\">\n",
       "  <thead>\n",
       "    <tr style=\"text-align: right;\">\n",
       "      <th>Sector</th>\n",
       "      <th>County</th>\n",
       "      <th>Accommodation and Food Services</th>\n",
       "      <th>Administrative and Support and Waste Management and Remediation Services</th>\n",
       "      <th>Agriculture, Forestry, Fishing and Hunting</th>\n",
       "      <th>Arts, Entertainment, and Recreation</th>\n",
       "      <th>Construction</th>\n",
       "      <th>Educational Services</th>\n",
       "      <th>Finance and Insurance</th>\n",
       "      <th>Health Care and Social Assistance</th>\n",
       "      <th>Industries not classified</th>\n",
       "      <th>...</th>\n",
       "      <th>Manufacturing</th>\n",
       "      <th>Mining, Quarrying, and Oil and Gas Extraction</th>\n",
       "      <th>Other Services (except Public Administration)</th>\n",
       "      <th>Professional, Scientific, and Technical Services</th>\n",
       "      <th>Real Estate and Rental and Leasing</th>\n",
       "      <th>Retail Trade</th>\n",
       "      <th>Total for all sectors</th>\n",
       "      <th>Transportation and Warehousing</th>\n",
       "      <th>Utilities</th>\n",
       "      <th>Wholesale Trade</th>\n",
       "    </tr>\n",
       "  </thead>\n",
       "  <tbody>\n",
       "    <tr>\n",
       "      <th>0</th>\n",
       "      <td> Riverside County</td>\n",
       "      <td> 3467</td>\n",
       "      <td> 1980</td>\n",
       "      <td> 57</td>\n",
       "      <td> 522</td>\n",
       "      <td> 3915</td>\n",
       "      <td> 372</td>\n",
       "      <td> 1758</td>\n",
       "      <td> 4266</td>\n",
       "      <td> 46</td>\n",
       "      <td>...</td>\n",
       "      <td> 1477</td>\n",
       "      <td> 26</td>\n",
       "      <td> 2960</td>\n",
       "      <td> 3290</td>\n",
       "      <td> 2081</td>\n",
       "      <td> 5044</td>\n",
       "      <td> 34773</td>\n",
       "      <td> 1083</td>\n",
       "      <td> 65</td>\n",
       "      <td> 1783</td>\n",
       "    </tr>\n",
       "  </tbody>\n",
       "</table>\n",
       "<p>1 rows × 22 columns</p>\n",
       "</div>"
      ],
      "text/plain": [
       "Sector            County  Accommodation and Food Services  \\\n",
       "0       Riverside County                             3467   \n",
       "\n",
       "Sector  Administrative and Support and Waste Management and Remediation Services  \\\n",
       "0                                                    1980                          \n",
       "\n",
       "Sector  Agriculture, Forestry, Fishing and Hunting  \\\n",
       "0                                               57   \n",
       "\n",
       "Sector  Arts, Entertainment, and Recreation  Construction  \\\n",
       "0                                       522          3915   \n",
       "\n",
       "Sector  Educational Services  Finance and Insurance  \\\n",
       "0                        372                   1758   \n",
       "\n",
       "Sector  Health Care and Social Assistance  Industries not classified  \\\n",
       "0                                    4266                         46   \n",
       "\n",
       "Sector            ...              Manufacturing  \\\n",
       "0                 ...                       1477   \n",
       "\n",
       "Sector  Mining, Quarrying, and Oil and Gas Extraction  \\\n",
       "0                                                  26   \n",
       "\n",
       "Sector  Other Services (except Public Administration)  \\\n",
       "0                                                2960   \n",
       "\n",
       "Sector  Professional, Scientific, and Technical Services  \\\n",
       "0                                                   3290   \n",
       "\n",
       "Sector  Real Estate and Rental and Leasing  Retail Trade  \\\n",
       "0                                     2081          5044   \n",
       "\n",
       "Sector  Total for all sectors  Transportation and Warehousing  Utilities  \\\n",
       "0                       34773                            1083         65   \n",
       "\n",
       "Sector  Wholesale Trade  \n",
       "0                  1783  \n",
       "\n",
       "[1 rows x 22 columns]"
      ]
     },
     "execution_count": 178,
     "metadata": {},
     "output_type": "execute_result"
    }
   ],
   "source": [
    "temp = business.pivot(index = 'County', columns = 'Sector', values = 'Businesses').reset_index()\n",
    "temp.head()"
   ]
  },
  {
   "cell_type": "code",
   "execution_count": 179,
   "metadata": {
    "collapsed": false
   },
   "outputs": [
    {
     "name": "stdout",
     "output_type": "stream",
     "text": [
      "['County' 'Accommodation and Food Services'\n",
      " 'Administrative and Support and Waste Management and Remediation Services'\n",
      " 'Agriculture, Forestry, Fishing and Hunting'\n",
      " 'Arts, Entertainment, and Recreation' 'Construction'\n",
      " 'Educational Services' 'Finance and Insurance'\n",
      " 'Health Care and Social Assistance' 'Industries not classified'\n",
      " 'Information' 'Management of Companies and Enterprises' 'Manufacturing'\n",
      " 'Mining, Quarrying, and Oil and Gas Extraction'\n",
      " 'Other Services (except Public Administration)'\n",
      " 'Professional, Scientific, and Technical Services'\n",
      " 'Real Estate and Rental and Leasing' 'Retail Trade'\n",
      " 'Total for all sectors' 'Transportation and Warehousing' 'Utilities'\n",
      " 'Wholesale Trade']\n"
     ]
    }
   ],
   "source": [
    "print temp.columns.values"
   ]
  },
  {
   "cell_type": "code",
   "execution_count": 156,
   "metadata": {
    "collapsed": true
   },
   "outputs": [],
   "source": [
    "temp.rename(columns = {'Accommodation and Food Services': 'Sector_1'}, inplace = True)\n",
    "temp.rename(columns = {'Administrative and Support and Waste Management and Remediation Services': 'Sector_2'}, inplace = True)\n",
    "temp.rename(columns = {'Agriculture, Forestry, Fishing and Hunting': 'Sector_3'}, inplace = True)\n",
    "temp.rename(columns = {'Arts, Entertainment, and Recreation': 'Sector_4'}, inplace = True)\n",
    "temp.rename(columns = {'Construction': 'Sector_5', 'Educational Services': 'Sector_6', 'Finance and Insurance': 'Sector_7'}, inplace = True)\n",
    "temp.rename(columns = {'Health Care and Social Assistance': 'Sector_8', 'Industries not classified': 'Sector_9'}, inplace = True)\n",
    "temp.rename(columns = {'Information': 'Sector_10', 'Management of Companies and Enterprises': 'Sector_11', 'Manufacturing': 'Sector_12'}, inplace = True)\n",
    "temp.rename(columns = {'Mining, Quarrying, and Oil and Gas Extraction':'Sector_13'}, inplace = True)\n",
    "temp.rename(columns = {'Other Services (except Public Administration)':'Sector_14'}, inplace = True)\n",
    "temp.rename(columns = {'Professional, Scientific, and Technical Services': 'Sector_15'}, inplace = True)\n",
    "temp.rename(columns = {'Real Estate and Rental and Leasing': 'Sector_16', 'Retail Trade':'Sector_17'}, inplace = True)\n",
    "temp.rename(columns = {'Transportation and Warehousing': 'Sector_18'}, inplace = True)\n",
    "temp.rename(columns = {'Utilities': 'Sector_19', 'Wholesale Trade':'Sector_20', 'Total for all sectors': 'Sector_Total'}, inplace = True)"
   ]
  },
  {
   "cell_type": "code",
   "execution_count": 157,
   "metadata": {
    "collapsed": false
   },
   "outputs": [
    {
     "data": {
      "text/html": [
       "<div style=\"max-height:1000px;max-width:1500px;overflow:auto;\">\n",
       "<table border=\"1\" class=\"dataframe\">\n",
       "  <thead>\n",
       "    <tr style=\"text-align: right;\">\n",
       "      <th>Sector</th>\n",
       "      <th>County</th>\n",
       "      <th>Sector_1</th>\n",
       "      <th>Sector_2</th>\n",
       "      <th>Sector_3</th>\n",
       "      <th>Sector_4</th>\n",
       "      <th>Sector_5</th>\n",
       "      <th>Sector_6</th>\n",
       "      <th>Sector_7</th>\n",
       "      <th>Sector_8</th>\n",
       "      <th>Sector_9</th>\n",
       "      <th>...</th>\n",
       "      <th>Sector_12</th>\n",
       "      <th>Sector_13</th>\n",
       "      <th>Sector_14</th>\n",
       "      <th>Sector_15</th>\n",
       "      <th>Sector_16</th>\n",
       "      <th>Sector_17</th>\n",
       "      <th>Sector_Total</th>\n",
       "      <th>Sector_18</th>\n",
       "      <th>Sector_19</th>\n",
       "      <th>Sector_20</th>\n",
       "    </tr>\n",
       "  </thead>\n",
       "  <tbody>\n",
       "    <tr>\n",
       "      <th>0</th>\n",
       "      <td> Riverside County</td>\n",
       "      <td> 3467</td>\n",
       "      <td> 1980</td>\n",
       "      <td> 57</td>\n",
       "      <td> 522</td>\n",
       "      <td> 3915</td>\n",
       "      <td> 372</td>\n",
       "      <td> 1758</td>\n",
       "      <td> 4266</td>\n",
       "      <td> 46</td>\n",
       "      <td>...</td>\n",
       "      <td> 1477</td>\n",
       "      <td> 26</td>\n",
       "      <td> 2960</td>\n",
       "      <td> 3290</td>\n",
       "      <td> 2081</td>\n",
       "      <td> 5044</td>\n",
       "      <td> 34773</td>\n",
       "      <td> 1083</td>\n",
       "      <td> 65</td>\n",
       "      <td> 1783</td>\n",
       "    </tr>\n",
       "  </tbody>\n",
       "</table>\n",
       "<p>1 rows × 22 columns</p>\n",
       "</div>"
      ],
      "text/plain": [
       "Sector            County  Sector_1  Sector_2  Sector_3  Sector_4  Sector_5  \\\n",
       "0       Riverside County      3467      1980        57       522      3915   \n",
       "\n",
       "Sector  Sector_6  Sector_7  Sector_8  Sector_9    ...     Sector_12  \\\n",
       "0            372      1758      4266        46    ...          1477   \n",
       "\n",
       "Sector  Sector_13  Sector_14  Sector_15  Sector_16  Sector_17  Sector_Total  \\\n",
       "0              26       2960       3290       2081       5044         34773   \n",
       "\n",
       "Sector  Sector_18  Sector_19  Sector_20  \n",
       "0            1083         65       1783  \n",
       "\n",
       "[1 rows x 22 columns]"
      ]
     },
     "execution_count": 157,
     "metadata": {},
     "output_type": "execute_result"
    }
   ],
   "source": [
    "temp"
   ]
  },
  {
   "cell_type": "code",
   "execution_count": 159,
   "metadata": {
    "collapsed": true
   },
   "outputs": [],
   "source": [
    "# Code without error handling\n",
    "def process_business(data_file):\n",
    "    # Read *.csv by skipping rows and specifying no of rows to read\n",
    "    name = pd.read_csv(data_file, skiprows = 0, nrows = 1, header = True)\n",
    "    business = pd.read_csv(data_file, skiprows = 29, nrows = 21)\n",
    "    business = business[['NAICS code', 'NAICS code description']].reset_index()\n",
    "    business.rename(columns={'index': 'County', 'NAICS code': 'Sector', 'NAICS code description': 'Businesses'}, inplace = True)\n",
    "    # Remove white spaces\n",
    "    business['Sector'] = business['Sector'].map(str.strip)\n",
    "    # Enter County Name\n",
    "    for i, _ in enumerate(business['County']):\n",
    "        business['County'][i] = name.columns.values[0]\n",
    "    # Pivot the dataframe    \n",
    "    temp = business.pivot(index = 'County', columns = 'Sector', values = 'Businesses').reset_index()\n",
    "    # Rename columns\n",
    "    temp.rename(columns = {'Accommodation and Food Services': 'Sector_1'}, inplace = True)\n",
    "    temp.rename(columns = {'Administrative and Support and Waste Management and Remediation Services': 'Sector_2'}, inplace = True)\n",
    "    temp.rename(columns = {'Agriculture, Forestry, Fishing and Hunting': 'Sector_3'}, inplace = True)\n",
    "    temp.rename(columns = {'Arts, Entertainment, and Recreation': 'Sector_4'}, inplace = True)\n",
    "    temp.rename(columns = {'Construction': 'Sector_5', 'Educational Services': 'Sector_6', 'Finance and Insurance': 'Sector_7'}, inplace = True)\n",
    "    temp.rename(columns = {'Health Care and Social Assistance': 'Sector_8', 'Industries not classified': 'Sector_9'}, inplace = True)\n",
    "    temp.rename(columns = {'Information': 'Sector_10', 'Management of Companies and Enterprises': 'Sector_11', 'Manufacturing': 'Sector_12'}, inplace = True)\n",
    "    temp.rename(columns = {'Mining, Quarrying, and Oil and Gas Extraction':'Sector_13'}, inplace = True)\n",
    "    temp.rename(columns = {'Other Services (except Public Administration)':'Sector_14'}, inplace = True)\n",
    "    temp.rename(columns = {'Professional, Scientific, and Technical Services': 'Sector_15'}, inplace = True)\n",
    "    temp.rename(columns = {'Real Estate and Rental and Leasing': 'Sector_16', 'Retail Trade':'Sector_17'}, inplace = True)\n",
    "    temp.rename(columns = {'Transportation and Warehousing': 'Sector_18'}, inplace = True)\n",
    "    temp.rename(columns = {'Utilities': 'Sector_19', 'Wholesale Trade':'Sector_20', 'Total for all sectors': 'Sector_Total'}, inplace = True)\n",
    "    return temp"
   ]
  },
  {
   "cell_type": "code",
   "execution_count": 160,
   "metadata": {
    "collapsed": false
   },
   "outputs": [
    {
     "data": {
      "text/html": [
       "<div style=\"max-height:1000px;max-width:1500px;overflow:auto;\">\n",
       "<table border=\"1\" class=\"dataframe\">\n",
       "  <thead>\n",
       "    <tr style=\"text-align: right;\">\n",
       "      <th>Sector</th>\n",
       "      <th>County</th>\n",
       "      <th>Sector_1</th>\n",
       "      <th>Sector_2</th>\n",
       "      <th>Sector_3</th>\n",
       "      <th>Sector_4</th>\n",
       "      <th>Sector_5</th>\n",
       "      <th>Sector_6</th>\n",
       "      <th>Sector_7</th>\n",
       "      <th>Sector_8</th>\n",
       "      <th>Sector_9</th>\n",
       "      <th>...</th>\n",
       "      <th>Sector_12</th>\n",
       "      <th>Sector_13</th>\n",
       "      <th>Sector_14</th>\n",
       "      <th>Sector_15</th>\n",
       "      <th>Sector_16</th>\n",
       "      <th>Sector_17</th>\n",
       "      <th>Sector_Total</th>\n",
       "      <th>Sector_18</th>\n",
       "      <th>Sector_19</th>\n",
       "      <th>Sector_20</th>\n",
       "    </tr>\n",
       "  </thead>\n",
       "  <tbody>\n",
       "    <tr>\n",
       "      <th>0</th>\n",
       "      <td> Alameda County</td>\n",
       "      <td> 3721</td>\n",
       "      <td> 1674</td>\n",
       "      <td> 19</td>\n",
       "      <td> 473</td>\n",
       "      <td> 2667</td>\n",
       "      <td> 836</td>\n",
       "      <td> 1603</td>\n",
       "      <td> 4413</td>\n",
       "      <td> 81</td>\n",
       "      <td>...</td>\n",
       "      <td> 1800</td>\n",
       "      <td> 11</td>\n",
       "      <td> 3476</td>\n",
       "      <td> 5465</td>\n",
       "      <td> 1920</td>\n",
       "      <td> 4245</td>\n",
       "      <td> 37108</td>\n",
       "      <td> 953</td>\n",
       "      <td> 21</td>\n",
       "      <td> 2680</td>\n",
       "    </tr>\n",
       "  </tbody>\n",
       "</table>\n",
       "<p>1 rows × 22 columns</p>\n",
       "</div>"
      ],
      "text/plain": [
       "Sector          County  Sector_1  Sector_2  Sector_3  Sector_4  Sector_5  \\\n",
       "0       Alameda County      3721      1674        19       473      2667   \n",
       "\n",
       "Sector  Sector_6  Sector_7  Sector_8  Sector_9    ...     Sector_12  \\\n",
       "0            836      1603      4413        81    ...          1800   \n",
       "\n",
       "Sector  Sector_13  Sector_14  Sector_15  Sector_16  Sector_17  Sector_Total  \\\n",
       "0              11       3476       5465       1920       4245         37108   \n",
       "\n",
       "Sector  Sector_18  Sector_19  Sector_20  \n",
       "0             953         21       2680  \n",
       "\n",
       "[1 rows x 22 columns]"
      ]
     },
     "execution_count": 160,
     "metadata": {},
     "output_type": "execute_result"
    }
   ],
   "source": [
    "process_business('./raw_data/business/alameda.csv')"
   ]
  },
  {
   "cell_type": "code",
   "execution_count": 169,
   "metadata": {
    "collapsed": true
   },
   "outputs": [],
   "source": [
    "def process_business(data_file):\n",
    "    # Read *.csv by skipping rows and specifying no of rows to read\n",
    "    name = pd.read_csv(data_file, skiprows = 0, nrows = 1, header = True)\n",
    "    business = pd.read_csv(data_file, skiprows = 29, nrows = 21)\n",
    "    try:\n",
    "        business = business[['NAICS code', 'NAICS code description']].reset_index()\n",
    "        business.rename(columns={'index': 'County', 'NAICS code': 'Sector', 'NAICS code description': 'Businesses'}, inplace = True)\n",
    "        # Remove white spaces\n",
    "        business['Sector'] = business['Sector'].map(str.strip)\n",
    "        # Enter County Name\n",
    "        for i, _ in enumerate(business['County']):\n",
    "            business['County'][i] = name.columns.values[0]\n",
    "        business.reset_index(inplace = True)    \n",
    "        # Pivot the dataframe    \n",
    "        temp = business.pivot(index = 'County', columns = 'Sector', values = 'Businesses')\n",
    "        temp = temp.reset_index()\n",
    "        # Rename columns\n",
    "        temp.rename(columns = {'Accommodation and Food Services': 'Sector_1'}, inplace = True)\n",
    "        temp.rename(columns = {'Administrative and Support and Waste Management and Remediation Services': 'Sector_2'}, inplace = True)\n",
    "        temp.rename(columns = {'Agriculture, Forestry, Fishing and Hunting': 'Sector_3'}, inplace = True)\n",
    "        temp.rename(columns = {'Arts, Entertainment, and Recreation': 'Sector_4'}, inplace = True)\n",
    "        temp.rename(columns = {'Construction': 'Sector_5', 'Educational Services': 'Sector_6', 'Finance and Insurance': 'Sector_7'}, inplace = True)\n",
    "        temp.rename(columns = {'Health Care and Social Assistance': 'Sector_8', 'Industries not classified': 'Sector_9'}, inplace = True)\n",
    "        temp.rename(columns = {'Information': 'Sector_10', 'Management of Companies and Enterprises': 'Sector_11', 'Manufacturing': 'Sector_12'}, inplace = True)\n",
    "        temp.rename(columns = {'Mining, Quarrying, and Oil and Gas Extraction':'Sector_13'}, inplace = True)\n",
    "        temp.rename(columns = {'Other Services (except Public Administration)':'Sector_14'}, inplace = True)\n",
    "        temp.rename(columns = {'Professional, Scientific, and Technical Services': 'Sector_15'}, inplace = True)\n",
    "        temp.rename(columns = {'Real Estate and Rental and Leasing': 'Sector_16', 'Retail Trade':'Sector_17'}, inplace = True)\n",
    "        temp.rename(columns = {'Transportation and Warehousing': 'Sector_18'}, inplace = True)\n",
    "        temp.rename(columns = {'Utilities': 'Sector_19', 'Wholesale Trade':'Sector_20', 'Total for all sectors': 'Sector_Total'}, inplace = True)\n",
    "        return temp\n",
    "    #except KeyError or TypeError:\n",
    "    except TypeError:\n",
    "        print file_"
   ]
  },
  {
   "cell_type": "code",
   "execution_count": 172,
   "metadata": {
    "collapsed": false
   },
   "outputs": [
    {
     "data": {
      "text/html": [
       "<div style=\"max-height:1000px;max-width:1500px;overflow:auto;\">\n",
       "<table border=\"1\" class=\"dataframe\">\n",
       "  <thead>\n",
       "    <tr style=\"text-align: right;\">\n",
       "      <th>Sector</th>\n",
       "      <th>County</th>\n",
       "      <th>Sector_1</th>\n",
       "      <th>Sector_2</th>\n",
       "      <th>Sector_3</th>\n",
       "      <th>Sector_4</th>\n",
       "      <th>Sector_5</th>\n",
       "      <th>Sector_6</th>\n",
       "      <th>Sector_7</th>\n",
       "      <th>Sector_8</th>\n",
       "      <th>Sector_9</th>\n",
       "      <th>...</th>\n",
       "      <th>Sector_12</th>\n",
       "      <th>Sector_13</th>\n",
       "      <th>Sector_14</th>\n",
       "      <th>Sector_15</th>\n",
       "      <th>Sector_16</th>\n",
       "      <th>Sector_17</th>\n",
       "      <th>Sector_Total</th>\n",
       "      <th>Sector_18</th>\n",
       "      <th>Sector_19</th>\n",
       "      <th>Sector_20</th>\n",
       "    </tr>\n",
       "  </thead>\n",
       "  <tbody>\n",
       "    <tr>\n",
       "      <th>0</th>\n",
       "      <td>   Alameda County</td>\n",
       "      <td> 3721</td>\n",
       "      <td> 1674</td>\n",
       "      <td> 19</td>\n",
       "      <td> 473</td>\n",
       "      <td> 2667</td>\n",
       "      <td> 836</td>\n",
       "      <td> 1603</td>\n",
       "      <td> 4413</td>\n",
       "      <td> 81</td>\n",
       "      <td>...</td>\n",
       "      <td> 1800</td>\n",
       "      <td> 11</td>\n",
       "      <td> 3476</td>\n",
       "      <td> 5465</td>\n",
       "      <td> 1920</td>\n",
       "      <td> 4245</td>\n",
       "      <td> 37108</td>\n",
       "      <td> 953</td>\n",
       "      <td> 21</td>\n",
       "      <td> 2680</td>\n",
       "    </tr>\n",
       "    <tr>\n",
       "      <th>1</th>\n",
       "      <td>    Amador County</td>\n",
       "      <td>   93</td>\n",
       "      <td>   25</td>\n",
       "      <td>  7</td>\n",
       "      <td>  13</td>\n",
       "      <td>   76</td>\n",
       "      <td>   4</td>\n",
       "      <td>   46</td>\n",
       "      <td>  100</td>\n",
       "      <td>  1</td>\n",
       "      <td>...</td>\n",
       "      <td>   38</td>\n",
       "      <td>  4</td>\n",
       "      <td>   77</td>\n",
       "      <td>   79</td>\n",
       "      <td>   44</td>\n",
       "      <td>  121</td>\n",
       "      <td>   786</td>\n",
       "      <td>  16</td>\n",
       "      <td>  3</td>\n",
       "      <td>   25</td>\n",
       "    </tr>\n",
       "    <tr>\n",
       "      <th>2</th>\n",
       "      <td>     Butte County</td>\n",
       "      <td>  415</td>\n",
       "      <td>  232</td>\n",
       "      <td> 26</td>\n",
       "      <td>  59</td>\n",
       "      <td>  443</td>\n",
       "      <td>  49</td>\n",
       "      <td>  304</td>\n",
       "      <td>  717</td>\n",
       "      <td> 10</td>\n",
       "      <td>...</td>\n",
       "      <td>  176</td>\n",
       "      <td>  5</td>\n",
       "      <td>  436</td>\n",
       "      <td>  432</td>\n",
       "      <td>  226</td>\n",
       "      <td>  736</td>\n",
       "      <td>  4637</td>\n",
       "      <td> 102</td>\n",
       "      <td>  9</td>\n",
       "      <td>  167</td>\n",
       "    </tr>\n",
       "    <tr>\n",
       "      <th>3</th>\n",
       "      <td> Calaveras County</td>\n",
       "      <td>   98</td>\n",
       "      <td>   37</td>\n",
       "      <td> 11</td>\n",
       "      <td>  15</td>\n",
       "      <td>  167</td>\n",
       "      <td>   7</td>\n",
       "      <td>   39</td>\n",
       "      <td>   94</td>\n",
       "      <td>  2</td>\n",
       "      <td>...</td>\n",
       "      <td>   37</td>\n",
       "      <td>  4</td>\n",
       "      <td>   84</td>\n",
       "      <td>   63</td>\n",
       "      <td>   42</td>\n",
       "      <td>  135</td>\n",
       "      <td>   881</td>\n",
       "      <td>  12</td>\n",
       "      <td>  2</td>\n",
       "      <td>   21</td>\n",
       "    </tr>\n",
       "    <tr>\n",
       "      <th>4</th>\n",
       "      <td>    Colusa County</td>\n",
       "      <td>   39</td>\n",
       "      <td>    7</td>\n",
       "      <td> 18</td>\n",
       "      <td>   7</td>\n",
       "      <td>   28</td>\n",
       "      <td>   1</td>\n",
       "      <td>   20</td>\n",
       "      <td>   28</td>\n",
       "      <td>  2</td>\n",
       "      <td>...</td>\n",
       "      <td>   24</td>\n",
       "      <td>  2</td>\n",
       "      <td>   34</td>\n",
       "      <td>   18</td>\n",
       "      <td>   19</td>\n",
       "      <td>   59</td>\n",
       "      <td>   376</td>\n",
       "      <td>  30</td>\n",
       "      <td>  4</td>\n",
       "      <td>   30</td>\n",
       "    </tr>\n",
       "  </tbody>\n",
       "</table>\n",
       "<p>5 rows × 22 columns</p>\n",
       "</div>"
      ],
      "text/plain": [
       "Sector            County  Sector_1  Sector_2  Sector_3  Sector_4  Sector_5  \\\n",
       "0         Alameda County      3721      1674        19       473      2667   \n",
       "1          Amador County        93        25         7        13        76   \n",
       "2           Butte County       415       232        26        59       443   \n",
       "3       Calaveras County        98        37        11        15       167   \n",
       "4          Colusa County        39         7        18         7        28   \n",
       "\n",
       "Sector  Sector_6  Sector_7  Sector_8  Sector_9    ...     Sector_12  \\\n",
       "0            836      1603      4413        81    ...          1800   \n",
       "1              4        46       100         1    ...            38   \n",
       "2             49       304       717        10    ...           176   \n",
       "3              7        39        94         2    ...            37   \n",
       "4              1        20        28         2    ...            24   \n",
       "\n",
       "Sector  Sector_13  Sector_14  Sector_15  Sector_16  Sector_17  Sector_Total  \\\n",
       "0              11       3476       5465       1920       4245         37108   \n",
       "1               4         77         79         44        121           786   \n",
       "2               5        436        432        226        736          4637   \n",
       "3               4         84         63         42        135           881   \n",
       "4               2         34         18         19         59           376   \n",
       "\n",
       "Sector  Sector_18  Sector_19  Sector_20  \n",
       "0             953         21       2680  \n",
       "1              16          3         25  \n",
       "2             102          9        167  \n",
       "3              12          2         21  \n",
       "4              30          4         30  \n",
       "\n",
       "[5 rows x 22 columns]"
      ]
     },
     "execution_count": 172,
     "metadata": {},
     "output_type": "execute_result"
    }
   ],
   "source": [
    "data_list = []\n",
    "for file_ in data_files:\n",
    "    data_list.append(process_business(file_))\n",
    "    \n",
    "# Concatenate data\n",
    "business_data = pd.concat(data_list, ignore_index = True)\n",
    "business_data.head()"
   ]
  },
  {
   "cell_type": "markdown",
   "metadata": {},
   "source": [
    "**After cleaning the above files manually (inserting appropriate number of rows and sectors) and storing them in manual folder run both process_business codes**"
   ]
  },
  {
   "cell_type": "code",
   "execution_count": 177,
   "metadata": {
    "collapsed": false
   },
   "outputs": [
    {
     "name": "stdout",
     "output_type": "stream",
     "text": [
      "['./raw_data/business/alameda.csv', './raw_data/business/amador.csv', './raw_data/business/butte.csv', './raw_data/business/calaveras.csv', './raw_data/business/colusa.csv', './raw_data/business/contracosta.csv', './raw_data/business/eldorado.csv', './raw_data/business/fresno.csv', './raw_data/business/humboldt.csv', './raw_data/business/imperial.csv', './raw_data/business/inyo.csv', './raw_data/business/kern.csv', './raw_data/business/lake.csv', './raw_data/business/lassen.csv', './raw_data/business/losangeles.csv', './raw_data/business/madera.csv', './raw_data/business/marin.csv', './raw_data/business/mariposa.csv', './raw_data/business/mendocino.csv', './raw_data/business/merced.csv', './raw_data/business/monterey.csv', './raw_data/business/nevada.csv', './raw_data/business/orange.csv', './raw_data/business/placer.csv', './raw_data/business/riverside.csv', './raw_data/business/sacramento.csv', './raw_data/business/sanbernardino.csv', './raw_data/business/sandiego.csv', './raw_data/business/sanfrancisco.csv', './raw_data/business/sanjoaquin.csv', './raw_data/business/sanluisobispo.csv', './raw_data/business/sanmateo.csv', './raw_data/business/santabarbara.csv', './raw_data/business/santaclara.csv', './raw_data/business/santacruz.csv', './raw_data/business/shasta.csv', './raw_data/business/siskiyou.csv', './raw_data/business/solano.csv', './raw_data/business/sonoma.csv', './raw_data/business/stanislaus.csv', './raw_data/business/sutter.csv', './raw_data/business/tehama.csv', './raw_data/business/tulare.csv', './raw_data/business/ventura.csv', './raw_data/business/yolo.csv', './raw_data/business/yuba.csv']\n",
      "-------------------------------------------\n",
      "['./raw_data/business/manual/alpine.csv', './raw_data/business/manual/delnorte.csv', './raw_data/business/manual/glenn.csv', './raw_data/business/manual/kings.csv', './raw_data/business/manual/modoc.csv', './raw_data/business/manual/mono.csv', './raw_data/business/manual/napa.csv', './raw_data/business/manual/plumas.csv', './raw_data/business/manual/sanbenito.csv', './raw_data/business/manual/sierra.csv', './raw_data/business/manual/trinity.csv', './raw_data/business/manual/tuolumne.csv']\n"
     ]
    },
    {
     "data": {
      "text/html": [
       "<div style=\"max-height:1000px;max-width:1500px;overflow:auto;\">\n",
       "<table border=\"1\" class=\"dataframe\">\n",
       "  <thead>\n",
       "    <tr style=\"text-align: right;\">\n",
       "      <th>Sector</th>\n",
       "      <th>County</th>\n",
       "      <th>Sector_1</th>\n",
       "      <th>Sector_2</th>\n",
       "      <th>Sector_3</th>\n",
       "      <th>Sector_4</th>\n",
       "      <th>Sector_5</th>\n",
       "      <th>Sector_6</th>\n",
       "      <th>Sector_7</th>\n",
       "      <th>Sector_8</th>\n",
       "      <th>Sector_9</th>\n",
       "      <th>...</th>\n",
       "      <th>Sector_12</th>\n",
       "      <th>Sector_13</th>\n",
       "      <th>Sector_14</th>\n",
       "      <th>Sector_15</th>\n",
       "      <th>Sector_16</th>\n",
       "      <th>Sector_17</th>\n",
       "      <th>Sector_Total</th>\n",
       "      <th>Sector_18</th>\n",
       "      <th>Sector_19</th>\n",
       "      <th>Sector_20</th>\n",
       "    </tr>\n",
       "  </thead>\n",
       "  <tbody>\n",
       "    <tr>\n",
       "      <th>0</th>\n",
       "      <td>   Alameda County</td>\n",
       "      <td> 3721</td>\n",
       "      <td> 1674</td>\n",
       "      <td> 19</td>\n",
       "      <td> 473</td>\n",
       "      <td> 2667</td>\n",
       "      <td> 836</td>\n",
       "      <td> 1603</td>\n",
       "      <td> 4413</td>\n",
       "      <td> 81</td>\n",
       "      <td>...</td>\n",
       "      <td> 1800</td>\n",
       "      <td> 11</td>\n",
       "      <td> 3476</td>\n",
       "      <td> 5465</td>\n",
       "      <td> 1920</td>\n",
       "      <td> 4245</td>\n",
       "      <td> 37108</td>\n",
       "      <td> 953</td>\n",
       "      <td> 21</td>\n",
       "      <td> 2680</td>\n",
       "    </tr>\n",
       "    <tr>\n",
       "      <th>1</th>\n",
       "      <td>    Amador County</td>\n",
       "      <td>   93</td>\n",
       "      <td>   25</td>\n",
       "      <td>  7</td>\n",
       "      <td>  13</td>\n",
       "      <td>   76</td>\n",
       "      <td>   4</td>\n",
       "      <td>   46</td>\n",
       "      <td>  100</td>\n",
       "      <td>  1</td>\n",
       "      <td>...</td>\n",
       "      <td>   38</td>\n",
       "      <td>  4</td>\n",
       "      <td>   77</td>\n",
       "      <td>   79</td>\n",
       "      <td>   44</td>\n",
       "      <td>  121</td>\n",
       "      <td>   786</td>\n",
       "      <td>  16</td>\n",
       "      <td>  3</td>\n",
       "      <td>   25</td>\n",
       "    </tr>\n",
       "    <tr>\n",
       "      <th>2</th>\n",
       "      <td>     Butte County</td>\n",
       "      <td>  415</td>\n",
       "      <td>  232</td>\n",
       "      <td> 26</td>\n",
       "      <td>  59</td>\n",
       "      <td>  443</td>\n",
       "      <td>  49</td>\n",
       "      <td>  304</td>\n",
       "      <td>  717</td>\n",
       "      <td> 10</td>\n",
       "      <td>...</td>\n",
       "      <td>  176</td>\n",
       "      <td>  5</td>\n",
       "      <td>  436</td>\n",
       "      <td>  432</td>\n",
       "      <td>  226</td>\n",
       "      <td>  736</td>\n",
       "      <td>  4637</td>\n",
       "      <td> 102</td>\n",
       "      <td>  9</td>\n",
       "      <td>  167</td>\n",
       "    </tr>\n",
       "    <tr>\n",
       "      <th>3</th>\n",
       "      <td> Calaveras County</td>\n",
       "      <td>   98</td>\n",
       "      <td>   37</td>\n",
       "      <td> 11</td>\n",
       "      <td>  15</td>\n",
       "      <td>  167</td>\n",
       "      <td>   7</td>\n",
       "      <td>   39</td>\n",
       "      <td>   94</td>\n",
       "      <td>  2</td>\n",
       "      <td>...</td>\n",
       "      <td>   37</td>\n",
       "      <td>  4</td>\n",
       "      <td>   84</td>\n",
       "      <td>   63</td>\n",
       "      <td>   42</td>\n",
       "      <td>  135</td>\n",
       "      <td>   881</td>\n",
       "      <td>  12</td>\n",
       "      <td>  2</td>\n",
       "      <td>   21</td>\n",
       "    </tr>\n",
       "    <tr>\n",
       "      <th>4</th>\n",
       "      <td>    Colusa County</td>\n",
       "      <td>   39</td>\n",
       "      <td>    7</td>\n",
       "      <td> 18</td>\n",
       "      <td>   7</td>\n",
       "      <td>   28</td>\n",
       "      <td>   1</td>\n",
       "      <td>   20</td>\n",
       "      <td>   28</td>\n",
       "      <td>  2</td>\n",
       "      <td>...</td>\n",
       "      <td>   24</td>\n",
       "      <td>  2</td>\n",
       "      <td>   34</td>\n",
       "      <td>   18</td>\n",
       "      <td>   19</td>\n",
       "      <td>   59</td>\n",
       "      <td>   376</td>\n",
       "      <td>  30</td>\n",
       "      <td>  4</td>\n",
       "      <td>   30</td>\n",
       "    </tr>\n",
       "  </tbody>\n",
       "</table>\n",
       "<p>5 rows × 22 columns</p>\n",
       "</div>"
      ],
      "text/plain": [
       "Sector            County  Sector_1  Sector_2  Sector_3  Sector_4  Sector_5  \\\n",
       "0         Alameda County      3721      1674        19       473      2667   \n",
       "1          Amador County        93        25         7        13        76   \n",
       "2           Butte County       415       232        26        59       443   \n",
       "3       Calaveras County        98        37        11        15       167   \n",
       "4          Colusa County        39         7        18         7        28   \n",
       "\n",
       "Sector  Sector_6  Sector_7  Sector_8  Sector_9    ...     Sector_12  \\\n",
       "0            836      1603      4413        81    ...          1800   \n",
       "1              4        46       100         1    ...            38   \n",
       "2             49       304       717        10    ...           176   \n",
       "3              7        39        94         2    ...            37   \n",
       "4              1        20        28         2    ...            24   \n",
       "\n",
       "Sector  Sector_13  Sector_14  Sector_15  Sector_16  Sector_17  Sector_Total  \\\n",
       "0              11       3476       5465       1920       4245         37108   \n",
       "1               4         77         79         44        121           786   \n",
       "2               5        436        432        226        736          4637   \n",
       "3               4         84         63         42        135           881   \n",
       "4               2         34         18         19         59           376   \n",
       "\n",
       "Sector  Sector_18  Sector_19  Sector_20  \n",
       "0             953         21       2680  \n",
       "1              16          3         25  \n",
       "2             102          9        167  \n",
       "3              12          2         21  \n",
       "4              30          4         30  \n",
       "\n",
       "[5 rows x 22 columns]"
      ]
     },
     "execution_count": 177,
     "metadata": {},
     "output_type": "execute_result"
    }
   ],
   "source": [
    "data_path_1 = './raw_data/business/'\n",
    "data_files_1 = glob.glob(data_path_1 + '*.csv')\n",
    "data_path_2 = './raw_data/business/manual/'\n",
    "data_files_2 = glob.glob(data_path_2 + '*.csv')\n",
    "print data_files_1\n",
    "print '-------------------------------------------'\n",
    "print data_files_2\n",
    "\n",
    "\n",
    "def process_business_1(data_file):\n",
    "    # Read *.csv by skipping rows and specifying no of rows to read\n",
    "    name = pd.read_csv(data_file, skiprows = 0, nrows = 1, header = True)\n",
    "    business = pd.read_csv(data_file, skiprows = 29, nrows = 21)\n",
    "    try:\n",
    "        business = business[['NAICS code', 'NAICS code description']].reset_index()\n",
    "        business.rename(columns={'index': 'County', 'NAICS code': 'Sector', 'NAICS code description': 'Businesses'}, inplace = True)\n",
    "        # Remove white spaces\n",
    "        business['Sector'] = business['Sector'].map(str.strip)\n",
    "        # Enter County Name\n",
    "        for i, _ in enumerate(business['County']):\n",
    "            business['County'][i] = name.columns.values[0]\n",
    "        business.reset_index(inplace = True)    \n",
    "        # Pivot the dataframe    \n",
    "        temp = business.pivot(index = 'County', columns = 'Sector', values = 'Businesses')\n",
    "        temp = temp.reset_index()\n",
    "        # Rename columns\n",
    "        temp.rename(columns = {'Accommodation and Food Services': 'Sector_1'}, inplace = True)\n",
    "        temp.rename(columns = {'Administrative and Support and Waste Management and Remediation Services': 'Sector_2'}, inplace = True)\n",
    "        temp.rename(columns = {'Agriculture, Forestry, Fishing and Hunting': 'Sector_3'}, inplace = True)\n",
    "        temp.rename(columns = {'Arts, Entertainment, and Recreation': 'Sector_4'}, inplace = True)\n",
    "        temp.rename(columns = {'Construction': 'Sector_5', 'Educational Services': 'Sector_6', 'Finance and Insurance': 'Sector_7'}, inplace = True)\n",
    "        temp.rename(columns = {'Health Care and Social Assistance': 'Sector_8', 'Industries not classified': 'Sector_9'}, inplace = True)\n",
    "        temp.rename(columns = {'Information': 'Sector_10', 'Management of Companies and Enterprises': 'Sector_11', 'Manufacturing': 'Sector_12'}, inplace = True)\n",
    "        temp.rename(columns = {'Mining, Quarrying, and Oil and Gas Extraction':'Sector_13'}, inplace = True)\n",
    "        temp.rename(columns = {'Other Services (except Public Administration)':'Sector_14'}, inplace = True)\n",
    "        temp.rename(columns = {'Professional, Scientific, and Technical Services': 'Sector_15'}, inplace = True)\n",
    "        temp.rename(columns = {'Real Estate and Rental and Leasing': 'Sector_16', 'Retail Trade':'Sector_17'}, inplace = True)\n",
    "        temp.rename(columns = {'Transportation and Warehousing': 'Sector_18'}, inplace = True)\n",
    "        temp.rename(columns = {'Utilities': 'Sector_19', 'Wholesale Trade':'Sector_20', 'Total for all sectors': 'Sector_Total'}, inplace = True)\n",
    "        return temp\n",
    "    #except KeyError or TypeError:\n",
    "    except TypeError:\n",
    "        print file_\n",
    "\n",
    "\n",
    "def process_business_2(data_file):\n",
    "    # Read *.csv by skipping rows and specifying no of rows to read\n",
    "    name = pd.read_csv(data_file, skiprows = 0, nrows = 1, header = True)\n",
    "    business = pd.read_csv(data_file, skiprows = 29, nrows = 21)\n",
    "    try:\n",
    "        business = business[['NAICS code description', 'Total establishments']].reset_index()\n",
    "        business.rename(columns={'index': 'County', 'NAICS code description': 'Sector', 'Total establishments': 'Businesses'}, inplace = True)\n",
    "        # Remove white spaces\n",
    "        business['Sector'] = business['Sector'].map(str.strip)\n",
    "        # Enter County Name\n",
    "        for i, _ in enumerate(business['County']):\n",
    "            business['County'][i] = name.columns.values[0]\n",
    "        business.reset_index(inplace = True)    \n",
    "        # Pivot the dataframe    \n",
    "        temp = business.pivot(index = 'County', columns = 'Sector', values = 'Businesses')\n",
    "        temp = temp.reset_index()\n",
    "        # Rename columns\n",
    "        temp.rename(columns = {'Accommodation and Food Services': 'Sector_1'}, inplace = True)\n",
    "        temp.rename(columns = {'Administrative and Support and Waste Management and Remediation Services': 'Sector_2'}, inplace = True)\n",
    "        temp.rename(columns = {'Agriculture, Forestry, Fishing and Hunting': 'Sector_3'}, inplace = True)\n",
    "        temp.rename(columns = {'Arts, Entertainment, and Recreation': 'Sector_4'}, inplace = True)\n",
    "        temp.rename(columns = {'Construction': 'Sector_5', 'Educational Services': 'Sector_6', 'Finance and Insurance': 'Sector_7'}, inplace = True)\n",
    "        temp.rename(columns = {'Health Care and Social Assistance': 'Sector_8', 'Industries not classified': 'Sector_9'}, inplace = True)\n",
    "        temp.rename(columns = {'Information': 'Sector_10', 'Management of Companies and Enterprises': 'Sector_11', 'Manufacturing': 'Sector_12'}, inplace = True)\n",
    "        temp.rename(columns = {'Mining, Quarrying, and Oil and Gas Extraction':'Sector_13'}, inplace = True)\n",
    "        temp.rename(columns = {'Other Services (except Public Administration)':'Sector_14'}, inplace = True)\n",
    "        temp.rename(columns = {'Professional, Scientific, and Technical Services': 'Sector_15'}, inplace = True)\n",
    "        temp.rename(columns = {'Real Estate and Rental and Leasing': 'Sector_16', 'Retail Trade':'Sector_17'}, inplace = True)\n",
    "        temp.rename(columns = {'Transportation and Warehousing': 'Sector_18'}, inplace = True)\n",
    "        temp.rename(columns = {'Utilities': 'Sector_19', 'Wholesale Trade':'Sector_20', 'Total for all sectors': 'Sector_Total'}, inplace = True)\n",
    "        return temp\n",
    "    #except KeyError or TypeError:\n",
    "    except TypeError:\n",
    "        print file_\n",
    "        \n",
    "        \n",
    "data_list = []\n",
    "for file_ in data_files_1:\n",
    "    data_list.append(process_business_1(file_))\n",
    "    \n",
    "for file_ in data_files_2:\n",
    "    data_list.append(process_business_2(file_))\n",
    "    \n",
    "business_data = pd.concat(data_list, ignore_index = True)\n",
    "\n",
    "business_data.to_csv('./processed_data/clean_businesses_county.csv')\n",
    "\n",
    "business_data.head()"
   ]
  },
  {
   "cell_type": "markdown",
   "metadata": {},
   "source": [
    "## Voter Registration Data"
   ]
  },
  {
   "cell_type": "code",
   "execution_count": 180,
   "metadata": {
    "collapsed": false
   },
   "outputs": [
    {
     "name": "stdout",
     "output_type": "stream",
     "text": [
      "['./raw_data/voter_registration/voter_registration_2007.csv', './raw_data/voter_registration/voter_registration_2008.csv', './raw_data/voter_registration/voter_registration_2009.csv', './raw_data/voter_registration/voter_registration_2010.csv', './raw_data/voter_registration/voter_registration_2011.csv', './raw_data/voter_registration/voter_registration_2012.csv', './raw_data/voter_registration/voter_registration_2013.csv']\n"
     ]
    }
   ],
   "source": [
    "voter_path = './raw_data/voter_registration/' # Path \n",
    "voter_files = glob.glob(voter_path + '*.csv') # List of all *.csv files\n",
    "print voter_files"
   ]
  },
  {
   "cell_type": "code",
   "execution_count": 181,
   "metadata": {
    "collapsed": false
   },
   "outputs": [
    {
     "data": {
      "text/plain": [
       "City                    object\n",
       "Total Registration      object\n",
       "Democratic              object\n",
       "Republican              object\n",
       "American Independent    object\n",
       "Green                   object\n",
       "Libertarian             object\n",
       "Peace and Freedom       object\n",
       "Other                   object\n",
       "No Preference           object\n",
       "dtype: object"
      ]
     },
     "execution_count": 181,
     "metadata": {},
     "output_type": "execute_result"
    }
   ],
   "source": [
    "temp = pd.read_csv('./raw_data/voter_registration/voter_registration_2007.csv')\n",
    "temp.dtypes"
   ]
  },
  {
   "cell_type": "code",
   "execution_count": 182,
   "metadata": {
    "collapsed": false
   },
   "outputs": [
    {
     "name": "stdout",
     "output_type": "stream",
     "text": [
      "Year processed: 2007\n"
     ]
    },
    {
     "data": {
      "text/html": [
       "<div style=\"max-height:1000px;max-width:1500px;overflow:auto;\">\n",
       "<table border=\"1\" class=\"dataframe\">\n",
       "  <thead>\n",
       "    <tr style=\"text-align: right;\">\n",
       "      <th></th>\n",
       "      <th>City</th>\n",
       "      <th>Tot_Registered_2007</th>\n",
       "      <th>Democratic_2007</th>\n",
       "      <th>Republican_2007</th>\n",
       "      <th>American_Independent_2007</th>\n",
       "      <th>Green_2007</th>\n",
       "      <th>Libertarian_2007</th>\n",
       "      <th>Peace_Freedom_2007</th>\n",
       "      <th>Other_2007</th>\n",
       "      <th>No_Preference_2007</th>\n",
       "    </tr>\n",
       "  </thead>\n",
       "  <tbody>\n",
       "    <tr>\n",
       "      <th>0</th>\n",
       "      <td>  Alameda</td>\n",
       "      <td> 38006</td>\n",
       "      <td> 20002</td>\n",
       "      <td> 6924</td>\n",
       "      <td> 653</td>\n",
       "      <td>  646</td>\n",
       "      <td> 198</td>\n",
       "      <td> 133</td>\n",
       "      <td> 304</td>\n",
       "      <td>  9146</td>\n",
       "    </tr>\n",
       "    <tr>\n",
       "      <th>1</th>\n",
       "      <td>   Albany</td>\n",
       "      <td>  9282</td>\n",
       "      <td>  5812</td>\n",
       "      <td>  747</td>\n",
       "      <td>  97</td>\n",
       "      <td>  381</td>\n",
       "      <td>  38</td>\n",
       "      <td>  40</td>\n",
       "      <td>  62</td>\n",
       "      <td>  2105</td>\n",
       "    </tr>\n",
       "    <tr>\n",
       "      <th>2</th>\n",
       "      <td> Berkeley</td>\n",
       "      <td> 69548</td>\n",
       "      <td> 43540</td>\n",
       "      <td> 3529</td>\n",
       "      <td> 638</td>\n",
       "      <td> 3543</td>\n",
       "      <td> 354</td>\n",
       "      <td> 399</td>\n",
       "      <td> 512</td>\n",
       "      <td> 17033</td>\n",
       "    </tr>\n",
       "  </tbody>\n",
       "</table>\n",
       "</div>"
      ],
      "text/plain": [
       "       City  Tot_Registered_2007  Democratic_2007  Republican_2007  \\\n",
       "0   Alameda                38006            20002             6924   \n",
       "1    Albany                 9282             5812              747   \n",
       "2  Berkeley                69548            43540             3529   \n",
       "\n",
       "   American_Independent_2007  Green_2007  Libertarian_2007  \\\n",
       "0                        653         646               198   \n",
       "1                         97         381                38   \n",
       "2                        638        3543               354   \n",
       "\n",
       "   Peace_Freedom_2007  Other_2007  No_Preference_2007  \n",
       "0                 133         304                9146  \n",
       "1                  40          62                2105  \n",
       "2                 399         512               17033  "
      ]
     },
     "execution_count": 182,
     "metadata": {},
     "output_type": "execute_result"
    }
   ],
   "source": [
    "temp = process_voter_registration('./raw_data/voter_registration/voter_registration_2007.csv')\n",
    "temp.head(3)"
   ]
  },
  {
   "cell_type": "code",
   "execution_count": 183,
   "metadata": {
    "collapsed": false
   },
   "outputs": [
    {
     "name": "stdout",
     "output_type": "stream",
     "text": [
      "Year processed: 2007\n",
      "Year processed: 2008\n",
      "Year processed: 2009\n",
      "Year processed: 2010\n",
      "Year processed: 2011\n",
      "Year processed: 2012\n",
      "Year processed: 2013\n"
     ]
    },
    {
     "data": {
      "text/html": [
       "<div style=\"max-height:1000px;max-width:1500px;overflow:auto;\">\n",
       "<table border=\"1\" class=\"dataframe\">\n",
       "  <thead>\n",
       "    <tr style=\"text-align: right;\">\n",
       "      <th></th>\n",
       "      <th>City</th>\n",
       "      <th>Tot_Registered_2007</th>\n",
       "      <th>Democratic_2007</th>\n",
       "      <th>Republican_2007</th>\n",
       "      <th>American_Independent_2007</th>\n",
       "      <th>Green_2007</th>\n",
       "      <th>Libertarian_2007</th>\n",
       "      <th>Peace_Freedom_2007</th>\n",
       "      <th>Other_2007</th>\n",
       "      <th>No_Preference_2007</th>\n",
       "      <th>...</th>\n",
       "      <th>No_Preference_2012</th>\n",
       "      <th>Tot_Registered_2013</th>\n",
       "      <th>Democratic_2013</th>\n",
       "      <th>Republican_2013</th>\n",
       "      <th>American_Independent_2013</th>\n",
       "      <th>Green_2013</th>\n",
       "      <th>Libertarian_2013</th>\n",
       "      <th>Peace_Freedom_2013</th>\n",
       "      <th>Other_2013</th>\n",
       "      <th>No_Preference_2013</th>\n",
       "    </tr>\n",
       "  </thead>\n",
       "  <tbody>\n",
       "    <tr>\n",
       "      <th>0</th>\n",
       "      <td>  Alameda</td>\n",
       "      <td> 38006</td>\n",
       "      <td> 20002</td>\n",
       "      <td> 6924</td>\n",
       "      <td> 653</td>\n",
       "      <td>  646</td>\n",
       "      <td> 198</td>\n",
       "      <td> 133</td>\n",
       "      <td> 304</td>\n",
       "      <td>  9146</td>\n",
       "      <td>...</td>\n",
       "      <td>  9390</td>\n",
       "      <td> 43701</td>\n",
       "      <td> 24047</td>\n",
       "      <td> 6185</td>\n",
       "      <td>  963</td>\n",
       "      <td>  572</td>\n",
       "      <td> 248</td>\n",
       "      <td> 136</td>\n",
       "      <td> 2474</td>\n",
       "      <td>  9074</td>\n",
       "    </tr>\n",
       "    <tr>\n",
       "      <th>1</th>\n",
       "      <td>   Albany</td>\n",
       "      <td>  9282</td>\n",
       "      <td>  5812</td>\n",
       "      <td>  747</td>\n",
       "      <td>  97</td>\n",
       "      <td>  381</td>\n",
       "      <td>  38</td>\n",
       "      <td>  40</td>\n",
       "      <td>  62</td>\n",
       "      <td>  2105</td>\n",
       "      <td>...</td>\n",
       "      <td>  2062</td>\n",
       "      <td> 10416</td>\n",
       "      <td>  6653</td>\n",
       "      <td>  655</td>\n",
       "      <td>  140</td>\n",
       "      <td>  289</td>\n",
       "      <td>  45</td>\n",
       "      <td>  31</td>\n",
       "      <td>  626</td>\n",
       "      <td>  1977</td>\n",
       "    </tr>\n",
       "    <tr>\n",
       "      <th>2</th>\n",
       "      <td> Berkeley</td>\n",
       "      <td> 69548</td>\n",
       "      <td> 43540</td>\n",
       "      <td> 3529</td>\n",
       "      <td> 638</td>\n",
       "      <td> 3543</td>\n",
       "      <td> 354</td>\n",
       "      <td> 399</td>\n",
       "      <td> 512</td>\n",
       "      <td> 17033</td>\n",
       "      <td>...</td>\n",
       "      <td> 14615</td>\n",
       "      <td> 77526</td>\n",
       "      <td> 50059</td>\n",
       "      <td> 3305</td>\n",
       "      <td> 1063</td>\n",
       "      <td> 2400</td>\n",
       "      <td> 413</td>\n",
       "      <td> 399</td>\n",
       "      <td> 6732</td>\n",
       "      <td> 13150</td>\n",
       "    </tr>\n",
       "  </tbody>\n",
       "</table>\n",
       "<p>3 rows × 64 columns</p>\n",
       "</div>"
      ],
      "text/plain": [
       "       City  Tot_Registered_2007  Democratic_2007  Republican_2007  \\\n",
       "0   Alameda                38006            20002             6924   \n",
       "1    Albany                 9282             5812              747   \n",
       "2  Berkeley                69548            43540             3529   \n",
       "\n",
       "   American_Independent_2007  Green_2007  Libertarian_2007  \\\n",
       "0                        653         646               198   \n",
       "1                         97         381                38   \n",
       "2                        638        3543               354   \n",
       "\n",
       "   Peace_Freedom_2007  Other_2007  No_Preference_2007         ...          \\\n",
       "0                 133         304                9146         ...           \n",
       "1                  40          62                2105         ...           \n",
       "2                 399         512               17033         ...           \n",
       "\n",
       "   No_Preference_2012  Tot_Registered_2013  Democratic_2013  Republican_2013  \\\n",
       "0                9390                43701            24047             6185   \n",
       "1                2062                10416             6653              655   \n",
       "2               14615                77526            50059             3305   \n",
       "\n",
       "   American_Independent_2013  Green_2013  Libertarian_2013  \\\n",
       "0                        963         572               248   \n",
       "1                        140         289                45   \n",
       "2                       1063        2400               413   \n",
       "\n",
       "   Peace_Freedom_2013  Other_2013  No_Preference_2013  \n",
       "0                 136        2474                9074  \n",
       "1                  31         626                1977  \n",
       "2                 399        6732               13150  \n",
       "\n",
       "[3 rows x 64 columns]"
      ]
     },
     "execution_count": 183,
     "metadata": {},
     "output_type": "execute_result"
    }
   ],
   "source": [
    "voter_path = './raw_data/voter_registration/' # Path \n",
    "voter_files = glob.glob(voter_path + '*.csv') # List of all *.csv files\n",
    "\n",
    "def process_voter_registration(file_):\n",
    "    year = file_[-8:-4] # Extract year from file name\n",
    "    df = pd.read_csv(file_) # Read *.csv\n",
    "    # Rename columns by year\n",
    "    df.rename(columns = {'Total Registration': 'Tot_Registered_' + year, 'Democratic': 'Democratic_' + year}, inplace = True)\n",
    "    df.rename(columns = {'Republican': 'Republican_' + year, 'American Independent': 'American_Independent_' + year}, inplace = True)\n",
    "    df.rename(columns = {'Green': 'Green_' + year, 'Libertarian': 'Libertarian_' + year, 'Other': 'Other_' + year}, inplace = True)\n",
    "    df.rename(columns = {'Peace and Freedom': 'Peace_Freedom_' + year, 'No Preference':'No_Preference_' + year}, inplace = True)\n",
    "    for col in df.columns.values[1:]: # loop over all columns except the first or 0th\n",
    "        df[col] = df[col].str.replace(',', '') # Replaces ',' with ''\n",
    "        df[col] = df[col].fillna(0).astype(int) # Fill NaN as int 0\n",
    "        df[col] = df[col].astype(int) # Convert data from object to int\n",
    "    print 'Year processed: ' + year\n",
    "    return df\n",
    "\n",
    "# Read most recent data\n",
    "temp = pd.read_csv('./raw_data/voter_registration/voter_registration_2013.csv')\n",
    "voter_temp = pd.DataFrame({'City': temp['City']})\n",
    "\n",
    "for file_ in voter_files:\n",
    "    voter_temp = pd.merge(voter_temp, process_voter_registration(file_), left_on = 'City', right_on = 'City', how = 'left')\n",
    "    \n",
    "# Save clean data\n",
    "voter_temp.to_csv('./processed_data/clean_voter_city.csv')\n",
    "\n",
    "voter_temp.head(3)"
   ]
  },
  {
   "cell_type": "markdown",
   "metadata": {},
   "source": [
    "<div class='alert alert-warning'><h2>Exploratory Data Analysis</h2></div>\n",
    "\n",
    "<img src='images/eda-tips.png' style='width:800px;'>"
   ]
  },
  {
   "cell_type": "markdown",
   "metadata": {},
   "source": [
    "<div class='alert alert-info'> Alert: **Info**</div>\n",
    "<div class='alert alert-success'> Alert: **Success**</div>\n",
    "<div class='alert alert-warning'> Alert: **Warning**</div>\n",
    "<div class='alert alert-danger'> Alert: **Danger**</div>"
   ]
  },
  {
   "cell_type": "code",
   "execution_count": null,
   "metadata": {
    "collapsed": true
   },
   "outputs": [],
   "source": []
  }
 ],
 "metadata": {
  "celltoolbar": "Raw Cell Format",
  "kernelspec": {
   "display_name": "Python 2",
   "language": "python",
   "name": "python2"
  },
  "language_info": {
   "codemirror_mode": {
    "name": "ipython",
    "version": 2
   },
   "file_extension": ".py",
   "mimetype": "text/x-python",
   "name": "python",
   "nbconvert_exporter": "python",
   "pygments_lexer": "ipython2",
   "version": "2.7.10"
  }
 },
 "nbformat": 4,
 "nbformat_minor": 0
}
