{
 "cells": [
  {
   "cell_type": "code",
   "execution_count": 1,
   "metadata": {
    "collapsed": false
   },
   "outputs": [],
   "source": [
    "# Plotting\n",
    "%matplotlib inline\n",
    "import matplotlib.pyplot as plt\n",
    "import seaborn as sns\n",
    "\n",
    "import pandas as pd\n",
    "pd.set_option('display.max_columns', 100) # Set Number of Columns to view\n",
    "\n",
    "import numpy as np\n",
    "\n",
    "# String manipulation\n",
    "import string \n",
    "import re\n",
    "\n",
    "# Statsmodels\n",
    "import statsmodels.api as sm"
   ]
  },
  {
   "cell_type": "code",
   "execution_count": 2,
   "metadata": {
    "collapsed": false
   },
   "outputs": [
    {
     "name": "stdout",
     "output_type": "stream",
     "text": [
      "# Rows: 378, and # Columns, 380\n"
     ]
    }
   ],
   "source": [
    "# Load data\n",
    "data = pd.read_csv('new_final_merged_data.csv')\n",
    "\n",
    "## Clean dataframe\n",
    "del data['SolarUnitCount']\n",
    "del data['Pop_2010']\n",
    "\n",
    "# Delete data columns from 2007 to 2012\n",
    "years = list(np.arange(2007, 2013, 1))\n",
    "\n",
    "# Function to delete columns\n",
    "def del_cols(df, year):\n",
    "    #del df['Num_RecyclingProg_' + str(year)]\n",
    "    del df['Target_ResPPD_' + str(year)]\n",
    "    del df['Annual_ResPPD_' + str(year)]\n",
    "    del df['Target_EmpPPD_' + str(year)]\n",
    "    del df['Annual_EmpPPD_' + str(year)]\n",
    "    del df['Violent_' + str(year)]\n",
    "    del df['Homicide_' + str(year)]\n",
    "    del df['Rape_' + str(year)]\n",
    "    del df['Robbery_' + str(year)]\n",
    "    del df['Assault_' + str(year)]\n",
    "    del df['Property_' + str(year)]\n",
    "    del df['Burglary_' + str(year)]\n",
    "    del df['VehicleTheft_' + str(year)]\n",
    "    del df['Larceny_' + str(year)]\n",
    "    del df['Arson_' + str(year)]\n",
    "    del df['TotCrimes_' + str(year)]\n",
    "    del df['Total_' + str(year)]\n",
    "    del df['MultiFamily(2)_' + str(year)]\n",
    "    del df['MultiFamily(3to4)_' + str(year)]\n",
    "    del df['MultiFamily(5)_' + str(year)]\n",
    "    del df['MultiFamily(all)_' + str(year)]\n",
    "    del df['SingleFamily_' + str(year)]\n",
    "    del df['Tot_Registered_' + str(year)]\n",
    "    del df['Democratic_' + str(year)]\n",
    "    del df['Republican_' + str(year)]\n",
    "    del df['American_Independent_' + str(year)]\n",
    "    del df['Green_' + str(year)]\n",
    "    del df['Libertarian_' + str(year)]\n",
    "    del df['Peace_Freedom_' + str(year)]\n",
    "    del df['Other_' + str(year)]\n",
    "    del df['No_Preference_' + str(year)]\n",
    "    del df['Num_RecyclingProg_' + str(year)]\n",
    "\n",
    "\n",
    "\n",
    "# Iterate and delete\n",
    "for i in years:\n",
    "    del_cols(data, i)\n",
    "    \n",
    "# Delete Program columns from 2007 to 2012   \n",
    "pgm = list(np.arange(1, 63, 1))\n",
    "\n",
    "def del_col_prgm(df, year, program):\n",
    "    del df[str(year) + '_Prgm_' + str(program)]\n",
    "\n",
    "for i in years:\n",
    "    for j in pgm:\n",
    "        del_col_prgm(data, i, j)\n",
    "\n",
    "def del_count(df, year):\n",
    "    del df['Count_' + str(year)]\n",
    "\n",
    "for i in years:\n",
    "    del_count(data, i)\n",
    "    \n",
    "# Response variables, i.e. y\n",
    "response = ['Annual_ResPPD_2013', 'Annual_EmpPPD_2013']\n",
    "\n",
    "# Predictor variables or Features, i.e. x's\n",
    "features = data.columns.tolist()#[7:]\n",
    "\n",
    "# Response-Predictor pairs\n",
    "pairs = [(r, f) for r in response for f in features]\n",
    "print '# Rows: {}, and # Columns, {}'.format(data.shape[0], data.shape[1])"
   ]
  },
  {
   "cell_type": "code",
   "execution_count": 3,
   "metadata": {
    "collapsed": false
   },
   "outputs": [
    {
     "name": "stdout",
     "output_type": "stream",
     "text": [
      "Number of columns with error: 29\n"
     ]
    },
    {
     "data": {
      "text/plain": [
       "{'County',\n",
       " 'Estimate; COMMUTING TO WORK - Mean travel time to work (minutes)',\n",
       " 'Estimate; INCOME AND BENEFITS (IN 2013 INFLATION-ADJUSTED DOLLARS) - Families - Mean family income (dollars)',\n",
       " 'Estimate; INCOME AND BENEFITS (IN 2013 INFLATION-ADJUSTED DOLLARS) - Families - Median family income (dollars)',\n",
       " 'Estimate; INCOME AND BENEFITS (IN 2013 INFLATION-ADJUSTED DOLLARS) - Median earnings for female full-time, year-round workers (dollars)',\n",
       " 'Estimate; INCOME AND BENEFITS (IN 2013 INFLATION-ADJUSTED DOLLARS) - Median earnings for male full-time, year-round workers (dollars)',\n",
       " 'Estimate; INCOME AND BENEFITS (IN 2013 INFLATION-ADJUSTED DOLLARS) - Nonfamily households - Mean nonfamily income (dollars)',\n",
       " 'Estimate; INCOME AND BENEFITS (IN 2013 INFLATION-ADJUSTED DOLLARS) - Nonfamily households - Median nonfamily income (dollars)',\n",
       " 'Estimate; INCOME AND BENEFITS (IN 2013 INFLATION-ADJUSTED DOLLARS) - With Supplemental Security Income - Mean Supplemental Security Income (dollars)',\n",
       " 'Estimate; INCOME AND BENEFITS (IN 2013 INFLATION-ADJUSTED DOLLARS) - With cash public assistance income - Mean cash public assistance income (dollars)',\n",
       " 'Estimate; INCOME AND BENEFITS (IN 2013 INFLATION-ADJUSTED DOLLARS) - With retirement income - Mean retirement income (dollars)',\n",
       " 'Jurisdiction',\n",
       " 'MedianAgeYears',\n",
       " \"Total; Estimate; Bachelor's degree or higher\",\n",
       " 'Total; Estimate; High school graduate (includes equivalency)',\n",
       " 'Total; Estimate; Less than high school graduate',\n",
       " 'Total; Estimate; MEANS OF TRANSPORTATION TO WORK - Car, truck, or van - Workers per car, truck, or van',\n",
       " \"Total; Estimate; MEDIAN EARNINGS IN THE PAST 12 MONTHS (IN 2013 INFLATION-ADJUSTED DOLLARS) - Population 25 years and over with earnings - Bachelor's degree\",\n",
       " 'Total; Estimate; MEDIAN EARNINGS IN THE PAST 12 MONTHS (IN 2013 INFLATION-ADJUSTED DOLLARS) - Population 25 years and over with earnings - Graduate or professional degree',\n",
       " 'Total; Estimate; MEDIAN EARNINGS IN THE PAST 12 MONTHS (IN 2013 INFLATION-ADJUSTED DOLLARS) - Population 25 years and over with earnings - High school graduate (includes equivalency)',\n",
       " 'Total; Estimate; MEDIAN EARNINGS IN THE PAST 12 MONTHS (IN 2013 INFLATION-ADJUSTED DOLLARS) - Population 25 years and over with earnings - Less than high school graduate',\n",
       " \"Total; Estimate; MEDIAN EARNINGS IN THE PAST 12 MONTHS (IN 2013 INFLATION-ADJUSTED DOLLARS) - Population 25 years and over with earnings - Some college or associate's degree\",\n",
       " 'Total; Estimate; POVERTY RATE FOR THE POPULATION 25 YEARS AND OVER FOR WHOM POVERTY STATUS IS DETERMINED BY EDUCATIONAL ATTAINMENT LEVEL - Less than high school graduate',\n",
       " \"Total; Estimate; Population 25 to 34 years - Bachelor's degree or higher\",\n",
       " 'Total; Estimate; Population 25 to 34 years - High school graduate or higher',\n",
       " \"Total; Estimate; Population 45 to 64 years - Bachelor's degree or higher\",\n",
       " 'Total; Estimate; Population 45 to 64 years - High school graduate or higher',\n",
       " \"Total; Estimate; Some college or associate's degree\",\n",
       " 'Total; Estimate; TRAVEL TIME TO WORK - Mean travel time to work (minutes)'}"
      ]
     },
     "execution_count": 3,
     "metadata": {},
     "output_type": "execute_result"
    }
   ],
   "source": [
    "# Response variables, i.e. y\n",
    "response = ['Annual_ResPPD_2013', 'Annual_EmpPPD_2013']\n",
    "\n",
    "# Predictor variables or Features, i.e. x's\n",
    "features = data.columns.tolist()\n",
    "\n",
    "# Response-Predictor pairs\n",
    "pairs = [(r, f) for r in response for f in features]\n",
    "\n",
    "# Find Columns that are giving error\n",
    "error_cols = []\n",
    "count = 0\n",
    "for (r, f) in pairs:\n",
    "    try:\n",
    "        corr = data[r].corr(data[f])\n",
    "    except TypeError as e:\n",
    "        count += 1\n",
    "        error_cols.append(f)\n",
    "        \n",
    "print 'Number of columns with error: {}'.format(len(set(error_cols)))\n",
    "set(error_cols)"
   ]
  },
  {
   "cell_type": "code",
   "execution_count": 4,
   "metadata": {
    "collapsed": false
   },
   "outputs": [],
   "source": [
    "error_cols = list(set(error_cols))\n",
    "temp = data[error_cols]"
   ]
  },
  {
   "cell_type": "code",
   "execution_count": 5,
   "metadata": {
    "collapsed": false,
    "scrolled": false
   },
   "outputs": [
    {
     "name": "stderr",
     "output_type": "stream",
     "text": [
      "/Applications/anaconda/lib/python2.7/site-packages/ipykernel/__main__.py:5: SettingWithCopyWarning: A value is trying to be set on a copy of a slice from a DataFrame\n",
      "/Applications/anaconda/lib/python2.7/site-packages/ipykernel/__main__.py:7: SettingWithCopyWarning: A value is trying to be set on a copy of a slice from a DataFrame.\n",
      "Try using .loc[row_index,col_indexer] = value instead\n"
     ]
    },
    {
     "name": "stdout",
     "output_type": "stream",
     "text": [
      "[210, 321]\n"
     ]
    }
   ],
   "source": [
    "# 0. Find index of rows where value is a particular string ('N')\n",
    "idx = temp[temp[error_cols[0]] == 'N'].index.tolist()\n",
    "print idx\n",
    "for i in idx:\n",
    "    temp.ix[i, error_cols[0]] = np.nan\n",
    "\n",
    "temp[error_cols[0]] = temp[error_cols[0]].astype(float)        "
   ]
  },
  {
   "cell_type": "code",
   "execution_count": 6,
   "metadata": {
    "collapsed": false
   },
   "outputs": [
    {
     "name": "stderr",
     "output_type": "stream",
     "text": [
      "/Applications/anaconda/lib/python2.7/site-packages/pandas/core/indexing.py:389: SettingWithCopyWarning: A value is trying to be set on a copy of a slice from a DataFrame.\n",
      "Try using .loc[row_index,col_indexer] = value instead\n",
      "  self.obj[item] = s\n",
      "/Applications/anaconda/lib/python2.7/site-packages/ipykernel/__main__.py:7: SettingWithCopyWarning: A value is trying to be set on a copy of a slice from a DataFrame.\n",
      "Try using .loc[row_index,col_indexer] = value instead\n"
     ]
    },
    {
     "name": "stdout",
     "output_type": "stream",
     "text": [
      "[210, 257]\n"
     ]
    }
   ],
   "source": [
    "# 1. Find index of rows where value is a particular string ('-')\n",
    "idx = temp[temp[error_cols[1]] == '-'].index.tolist()\n",
    "print idx\n",
    "for i in idx:\n",
    "    temp.ix[i, error_cols[1]] = np.nan\n",
    "\n",
    "temp[error_cols[1]] = temp[error_cols[1]].astype(float)        "
   ]
  },
  {
   "cell_type": "code",
   "execution_count": 7,
   "metadata": {
    "collapsed": false
   },
   "outputs": [
    {
     "name": "stdout",
     "output_type": "stream",
     "text": [
      "[7, 8, 35, 67, 87, 145, 147, 149, 188, 202, 210, 213, 226, 257, 321, 339, 344, 345, 347, 374]\n"
     ]
    },
    {
     "name": "stderr",
     "output_type": "stream",
     "text": [
      "/Applications/anaconda/lib/python2.7/site-packages/ipykernel/__main__.py:7: SettingWithCopyWarning: A value is trying to be set on a copy of a slice from a DataFrame.\n",
      "Try using .loc[row_index,col_indexer] = value instead\n"
     ]
    }
   ],
   "source": [
    "# 2. Find index of rows where value is a particular string ('-' or '2,500-')\n",
    "idx = temp[(temp[error_cols[2]] == '-') | (temp[error_cols[2]] == '2,500-')].index.tolist()\n",
    "print idx\n",
    "for i in idx:\n",
    "    temp.ix[i, error_cols[2]] = np.nan\n",
    "    \n",
    "temp[error_cols[2]] = temp[error_cols[2]].astype(float)        "
   ]
  },
  {
   "cell_type": "code",
   "execution_count": 8,
   "metadata": {
    "collapsed": false
   },
   "outputs": [
    {
     "name": "stdout",
     "output_type": "stream",
     "text": [
      "[210, 257, 355]\n"
     ]
    },
    {
     "name": "stderr",
     "output_type": "stream",
     "text": [
      "/Applications/anaconda/lib/python2.7/site-packages/ipykernel/__main__.py:7: SettingWithCopyWarning: A value is trying to be set on a copy of a slice from a DataFrame.\n",
      "Try using .loc[row_index,col_indexer] = value instead\n"
     ]
    }
   ],
   "source": [
    "# 3. Find index of rows where value is a particular string ('-' or '2,500-')\n",
    "idx = temp[(temp[error_cols[3]] == '-') | (temp[error_cols[3]] == '2,500-')].index.tolist()\n",
    "print idx\n",
    "for i in idx:\n",
    "    temp.ix[i, error_cols[3]] = np.nan\n",
    "\n",
    "temp[error_cols[3]] = temp[error_cols[3]].astype(float)        "
   ]
  },
  {
   "cell_type": "code",
   "execution_count": 9,
   "metadata": {
    "collapsed": false
   },
   "outputs": [
    {
     "name": "stdout",
     "output_type": "stream",
     "text": [
      "[210, 345]\n"
     ]
    },
    {
     "name": "stderr",
     "output_type": "stream",
     "text": [
      "/Applications/anaconda/lib/python2.7/site-packages/ipykernel/__main__.py:7: SettingWithCopyWarning: A value is trying to be set on a copy of a slice from a DataFrame.\n",
      "Try using .loc[row_index,col_indexer] = value instead\n"
     ]
    }
   ],
   "source": [
    "# 4. Find index of rows where value is a particular string ('N')\n",
    "idx = temp[temp[error_cols[4]] == 'N'].index.tolist()\n",
    "print idx\n",
    "for i in idx:\n",
    "    temp.ix[i, error_cols[4]] = np.nan\n",
    "\n",
    "temp[error_cols[4]] = temp[error_cols[4]].astype(float)"
   ]
  },
  {
   "cell_type": "code",
   "execution_count": 10,
   "metadata": {
    "collapsed": false
   },
   "outputs": [
    {
     "name": "stdout",
     "output_type": "stream",
     "text": [
      "[16, 138, 210]\n"
     ]
    },
    {
     "name": "stderr",
     "output_type": "stream",
     "text": [
      "/Applications/anaconda/lib/python2.7/site-packages/ipykernel/__main__.py:7: SettingWithCopyWarning: A value is trying to be set on a copy of a slice from a DataFrame.\n",
      "Try using .loc[row_index,col_indexer] = value instead\n"
     ]
    }
   ],
   "source": [
    "# 5. Find index of rows where value is a particular string ('-' or '250,000+')\n",
    "idx = temp[(temp[error_cols[5]] == '-') | (temp[error_cols[5]] == '250,000+')].index.tolist()\n",
    "print idx\n",
    "for i in idx:\n",
    "    temp.ix[i, error_cols[5]] = np.nan\n",
    "\n",
    "temp[error_cols[5]] = temp[error_cols[5]].astype(float)"
   ]
  },
  {
   "cell_type": "code",
   "execution_count": 11,
   "metadata": {
    "collapsed": false
   },
   "outputs": [
    {
     "name": "stdout",
     "output_type": "stream",
     "text": [
      "[149, 257, 321, 345]\n"
     ]
    },
    {
     "name": "stderr",
     "output_type": "stream",
     "text": [
      "/Applications/anaconda/lib/python2.7/site-packages/ipykernel/__main__.py:7: SettingWithCopyWarning: A value is trying to be set on a copy of a slice from a DataFrame.\n",
      "Try using .loc[row_index,col_indexer] = value instead\n"
     ]
    }
   ],
   "source": [
    "# 6. Find index of rows where value is a particular string ('-')\n",
    "idx = temp[temp[error_cols[6]] == '-'].index.tolist()\n",
    "print idx\n",
    "for i in idx:\n",
    "    temp.ix[i, error_cols[6]] = np.nan\n",
    "\n",
    "temp[error_cols[6]] = temp[error_cols[6]].astype(float) "
   ]
  },
  {
   "cell_type": "code",
   "execution_count": 12,
   "metadata": {
    "collapsed": false
   },
   "outputs": [
    {
     "name": "stdout",
     "output_type": "stream",
     "text": [
      "[210, 345]\n"
     ]
    },
    {
     "name": "stderr",
     "output_type": "stream",
     "text": [
      "/Applications/anaconda/lib/python2.7/site-packages/ipykernel/__main__.py:7: SettingWithCopyWarning: A value is trying to be set on a copy of a slice from a DataFrame.\n",
      "Try using .loc[row_index,col_indexer] = value instead\n"
     ]
    }
   ],
   "source": [
    "# 7. Find index of rows where value is a particular string ('-')\n",
    "idx = temp[temp[error_cols[7]] == '-'].index.tolist()\n",
    "print idx\n",
    "for i in idx:\n",
    "    temp.ix[i, error_cols[7]] = np.nan\n",
    "\n",
    "temp[error_cols[7]] = temp[error_cols[7]].astype(float) "
   ]
  },
  {
   "cell_type": "code",
   "execution_count": 13,
   "metadata": {
    "collapsed": false
   },
   "outputs": [
    {
     "name": "stderr",
     "output_type": "stream",
     "text": [
      "/Applications/anaconda/lib/python2.7/site-packages/ipykernel/__main__.py:5: SettingWithCopyWarning: A value is trying to be set on a copy of a slice from a DataFrame.\n",
      "Try using .loc[row_index,col_indexer] = value instead\n"
     ]
    }
   ],
   "source": [
    "# 8. Find index of rows where value is a particular string ('')\n",
    "idx = 179\n",
    "temp.ix[idx, error_cols[8]] = np.nan\n",
    "    \n",
    "temp[error_cols[8]] = temp[error_cols[8]].astype(float) "
   ]
  },
  {
   "cell_type": "code",
   "execution_count": 14,
   "metadata": {
    "collapsed": false
   },
   "outputs": [
    {
     "name": "stdout",
     "output_type": "stream",
     "text": [
      "[210]\n"
     ]
    },
    {
     "name": "stderr",
     "output_type": "stream",
     "text": [
      "/Applications/anaconda/lib/python2.7/site-packages/ipykernel/__main__.py:7: SettingWithCopyWarning: A value is trying to be set on a copy of a slice from a DataFrame.\n",
      "Try using .loc[row_index,col_indexer] = value instead\n"
     ]
    }
   ],
   "source": [
    "# 9. Find index of rows where value is a particular string ('N')\n",
    "idx = temp[temp[error_cols[9]] == 'N'].index.tolist()\n",
    "print idx\n",
    "for i in idx:\n",
    "    temp.ix[i, error_cols[9]] = np.nan\n",
    "\n",
    "temp[error_cols[9]] = temp[error_cols[9]].astype(float)"
   ]
  },
  {
   "cell_type": "code",
   "execution_count": 15,
   "metadata": {
    "collapsed": false
   },
   "outputs": [
    {
     "name": "stdout",
     "output_type": "stream",
     "text": [
      "[210, 257, 345, 374]\n"
     ]
    },
    {
     "name": "stderr",
     "output_type": "stream",
     "text": [
      "/Applications/anaconda/lib/python2.7/site-packages/ipykernel/__main__.py:8: SettingWithCopyWarning: A value is trying to be set on a copy of a slice from a DataFrame.\n",
      "Try using .loc[row_index,col_indexer] = value instead\n"
     ]
    }
   ],
   "source": [
    "# 10. County column - No change\n",
    "# 11. Find index of rows where value is a particular string ('-')\n",
    "idx = temp[temp[error_cols[11]] == '-'].index.tolist()\n",
    "print idx\n",
    "for i in idx:\n",
    "    temp.ix[i, error_cols[11]] = np.nan\n",
    "\n",
    "temp[error_cols[11]] = temp[error_cols[11]].astype(float) "
   ]
  },
  {
   "cell_type": "code",
   "execution_count": 16,
   "metadata": {
    "collapsed": false
   },
   "outputs": [
    {
     "name": "stdout",
     "output_type": "stream",
     "text": [
      "[142, 195, 210, 347, 374]\n"
     ]
    },
    {
     "name": "stderr",
     "output_type": "stream",
     "text": [
      "/Applications/anaconda/lib/python2.7/site-packages/ipykernel/__main__.py:7: SettingWithCopyWarning: A value is trying to be set on a copy of a slice from a DataFrame.\n",
      "Try using .loc[row_index,col_indexer] = value instead\n"
     ]
    }
   ],
   "source": [
    "# 12. Find index of rows where value is a particular string ('-')\n",
    "idx = temp[temp[error_cols[12]] == '-'].index.tolist()\n",
    "print idx\n",
    "for i in idx:\n",
    "    temp.ix[i, error_cols[12]] = np.nan\n",
    "\n",
    "temp[error_cols[12]] = temp[error_cols[12]].astype(float)"
   ]
  },
  {
   "cell_type": "code",
   "execution_count": 17,
   "metadata": {
    "collapsed": false
   },
   "outputs": [
    {
     "name": "stdout",
     "output_type": "stream",
     "text": [
      "[210, 257, 345, 374]\n"
     ]
    },
    {
     "name": "stderr",
     "output_type": "stream",
     "text": [
      "/Applications/anaconda/lib/python2.7/site-packages/ipykernel/__main__.py:7: SettingWithCopyWarning: A value is trying to be set on a copy of a slice from a DataFrame.\n",
      "Try using .loc[row_index,col_indexer] = value instead\n"
     ]
    }
   ],
   "source": [
    "# 13. Find index of rows where value is a particular string ('-')\n",
    "idx = temp[temp[error_cols[13]] == '-'].index.tolist()\n",
    "print idx\n",
    "for i in idx:\n",
    "    temp.ix[i, error_cols[13]] = np.nan\n",
    "\n",
    "temp[error_cols[13]] = temp[error_cols[13]].astype(float)"
   ]
  },
  {
   "cell_type": "code",
   "execution_count": 18,
   "metadata": {
    "collapsed": false
   },
   "outputs": [
    {
     "name": "stdout",
     "output_type": "stream",
     "text": [
      "[202, 210, 321, 345, 355]\n"
     ]
    },
    {
     "name": "stderr",
     "output_type": "stream",
     "text": [
      "/Applications/anaconda/lib/python2.7/site-packages/ipykernel/__main__.py:7: SettingWithCopyWarning: A value is trying to be set on a copy of a slice from a DataFrame.\n",
      "Try using .loc[row_index,col_indexer] = value instead\n"
     ]
    }
   ],
   "source": [
    "# 14. Find index of rows where value is a particular string ('N')\n",
    "idx = temp[temp[error_cols[14]] == 'N'].index.tolist()\n",
    "print idx\n",
    "for i in idx:\n",
    "    temp.ix[i, error_cols[14]] = np.nan\n",
    "\n",
    "temp[error_cols[14]] = temp[error_cols[14]].astype(float)"
   ]
  },
  {
   "cell_type": "code",
   "execution_count": 19,
   "metadata": {
    "collapsed": false
   },
   "outputs": [
    {
     "name": "stdout",
     "output_type": "stream",
     "text": [
      "[147, 202, 210, 251, 257, 261, 355, 374]\n"
     ]
    },
    {
     "name": "stderr",
     "output_type": "stream",
     "text": [
      "/Applications/anaconda/lib/python2.7/site-packages/ipykernel/__main__.py:7: SettingWithCopyWarning: A value is trying to be set on a copy of a slice from a DataFrame.\n",
      "Try using .loc[row_index,col_indexer] = value instead\n"
     ]
    }
   ],
   "source": [
    "# 15. Find index of rows where value is a particular string ('-')\n",
    "idx = temp[temp[error_cols[15]] == '-'].index.tolist()\n",
    "print idx\n",
    "for i in idx:\n",
    "    temp.ix[i, error_cols[15]] = np.nan\n",
    "\n",
    "temp[error_cols[15]] = temp[error_cols[15]].astype(float)"
   ]
  },
  {
   "cell_type": "code",
   "execution_count": 20,
   "metadata": {
    "collapsed": false
   },
   "outputs": [
    {
     "name": "stdout",
     "output_type": "stream",
     "text": [
      "[210, 345]\n"
     ]
    },
    {
     "name": "stderr",
     "output_type": "stream",
     "text": [
      "/Applications/anaconda/lib/python2.7/site-packages/ipykernel/__main__.py:7: SettingWithCopyWarning: A value is trying to be set on a copy of a slice from a DataFrame.\n",
      "Try using .loc[row_index,col_indexer] = value instead\n"
     ]
    }
   ],
   "source": [
    "# 16. Find index of rows where value is a particular string ('N')\n",
    "idx = temp[temp[error_cols[16]] == 'N'].index.tolist()\n",
    "print idx\n",
    "for i in idx:\n",
    "    temp.ix[i, error_cols[16]] = np.nan\n",
    "\n",
    "temp[error_cols[16]] = temp[error_cols[16]].astype(float)"
   ]
  },
  {
   "cell_type": "code",
   "execution_count": 21,
   "metadata": {
    "collapsed": false
   },
   "outputs": [
    {
     "name": "stdout",
     "output_type": "stream",
     "text": [
      "[210, 257, 345, 374]\n"
     ]
    },
    {
     "name": "stderr",
     "output_type": "stream",
     "text": [
      "/Applications/anaconda/lib/python2.7/site-packages/ipykernel/__main__.py:7: SettingWithCopyWarning: A value is trying to be set on a copy of a slice from a DataFrame.\n",
      "Try using .loc[row_index,col_indexer] = value instead\n"
     ]
    }
   ],
   "source": [
    "# 17. Find index of rows where value is a particular string ('-')\n",
    "idx = temp[temp[error_cols[17]] == '-'].index.tolist()\n",
    "print idx\n",
    "for i in idx:\n",
    "    temp.ix[i, error_cols[17]] = np.nan\n",
    "\n",
    "temp[error_cols[17]] = temp[error_cols[17]].astype(float)"
   ]
  },
  {
   "cell_type": "code",
   "execution_count": 22,
   "metadata": {
    "collapsed": false
   },
   "outputs": [
    {
     "name": "stdout",
     "output_type": "stream",
     "text": [
      "[7, 19, 109, 126, 142, 147, 149, 151, 152, 198, 203, 210, 236, 293, 321, 339, 345, 347, 355, 374]\n"
     ]
    },
    {
     "name": "stderr",
     "output_type": "stream",
     "text": [
      "/Applications/anaconda/lib/python2.7/site-packages/ipykernel/__main__.py:7: SettingWithCopyWarning: A value is trying to be set on a copy of a slice from a DataFrame.\n",
      "Try using .loc[row_index,col_indexer] = value instead\n"
     ]
    }
   ],
   "source": [
    "# 18. Find index of rows where value is a particular string ('-' or '2,500-')\n",
    "idx = temp[(temp[error_cols[18]] == '-') | (temp[error_cols[18]] == '2,500-')].index.tolist()\n",
    "print idx\n",
    "for i in idx:\n",
    "    temp.ix[i, error_cols[18]] = np.nan\n",
    "\n",
    "temp[error_cols[18]] = temp[error_cols[18]].astype(float) "
   ]
  },
  {
   "cell_type": "code",
   "execution_count": 23,
   "metadata": {
    "collapsed": false
   },
   "outputs": [
    {
     "name": "stdout",
     "output_type": "stream",
     "text": [
      "[210, 257, 321, 345]\n"
     ]
    },
    {
     "name": "stderr",
     "output_type": "stream",
     "text": [
      "/Applications/anaconda/lib/python2.7/site-packages/ipykernel/__main__.py:7: SettingWithCopyWarning: A value is trying to be set on a copy of a slice from a DataFrame.\n",
      "Try using .loc[row_index,col_indexer] = value instead\n"
     ]
    }
   ],
   "source": [
    "# 19. Find index of rows where value is a particular string ('-')\n",
    "idx = temp[temp[error_cols[19]] == '-'].index.tolist()\n",
    "print idx\n",
    "for i in idx:\n",
    "    temp.ix[i, error_cols[19]] = np.nan\n",
    "\n",
    "temp[error_cols[19]] = temp[error_cols[19]].astype(float)"
   ]
  },
  {
   "cell_type": "code",
   "execution_count": 24,
   "metadata": {
    "collapsed": false
   },
   "outputs": [
    {
     "name": "stdout",
     "output_type": "stream",
     "text": [
      "[210]\n"
     ]
    },
    {
     "name": "stderr",
     "output_type": "stream",
     "text": [
      "/Applications/anaconda/lib/python2.7/site-packages/ipykernel/__main__.py:7: SettingWithCopyWarning: A value is trying to be set on a copy of a slice from a DataFrame.\n",
      "Try using .loc[row_index,col_indexer] = value instead\n"
     ]
    }
   ],
   "source": [
    "# 20. Find index of rows where value is a particular string ('-')\n",
    "idx = temp[temp[error_cols[20]] == '-'].index.tolist()\n",
    "print idx\n",
    "for i in idx:\n",
    "    temp.ix[i, error_cols[20]] = np.nan\n",
    "\n",
    "temp[error_cols[20]] = temp[error_cols[20]].astype(float)"
   ]
  },
  {
   "cell_type": "code",
   "execution_count": 25,
   "metadata": {
    "collapsed": false
   },
   "outputs": [
    {
     "name": "stdout",
     "output_type": "stream",
     "text": [
      "[149, 202, 210, 261, 321, 344, 345, 355]\n"
     ]
    },
    {
     "name": "stderr",
     "output_type": "stream",
     "text": [
      "/Applications/anaconda/lib/python2.7/site-packages/ipykernel/__main__.py:7: SettingWithCopyWarning: A value is trying to be set on a copy of a slice from a DataFrame.\n",
      "Try using .loc[row_index,col_indexer] = value instead\n"
     ]
    }
   ],
   "source": [
    "# 21. Find index of rows where value is a particular string ('-')\n",
    "idx = temp[temp[error_cols[21]] == '-'].index.tolist()\n",
    "print idx\n",
    "for i in idx:\n",
    "    temp.ix[i, error_cols[21]] = np.nan\n",
    "\n",
    "temp[error_cols[21]] = temp[error_cols[21]].astype(float)"
   ]
  },
  {
   "cell_type": "code",
   "execution_count": 26,
   "metadata": {
    "collapsed": false
   },
   "outputs": [
    {
     "name": "stdout",
     "output_type": "stream",
     "text": [
      "[210, 321]\n"
     ]
    },
    {
     "name": "stderr",
     "output_type": "stream",
     "text": [
      "/Applications/anaconda/lib/python2.7/site-packages/ipykernel/__main__.py:7: SettingWithCopyWarning: A value is trying to be set on a copy of a slice from a DataFrame.\n",
      "Try using .loc[row_index,col_indexer] = value instead\n"
     ]
    }
   ],
   "source": [
    "# 22. Find index of rows where value is a particular string ('-')\n",
    "idx = temp[temp[error_cols[22]] == '-'].index.tolist()\n",
    "print idx\n",
    "for i in idx:\n",
    "    temp.ix[i, error_cols[22]] = np.nan\n",
    "\n",
    "temp[error_cols[22]] = temp[error_cols[22]].astype(float)"
   ]
  },
  {
   "cell_type": "code",
   "execution_count": 27,
   "metadata": {
    "collapsed": false
   },
   "outputs": [
    {
     "name": "stdout",
     "output_type": "stream",
     "text": [
      "[210]\n"
     ]
    },
    {
     "name": "stderr",
     "output_type": "stream",
     "text": [
      "/Applications/anaconda/lib/python2.7/site-packages/ipykernel/__main__.py:7: SettingWithCopyWarning: A value is trying to be set on a copy of a slice from a DataFrame.\n",
      "Try using .loc[row_index,col_indexer] = value instead\n"
     ]
    }
   ],
   "source": [
    "# 23. Find index of rows where value is a particular string ('-')\n",
    "idx = temp[temp[error_cols[23]] == '-'].index.tolist()\n",
    "print idx\n",
    "for i in idx:\n",
    "    temp.ix[i, error_cols[23]] = np.nan\n",
    "\n",
    "temp[error_cols[23]] = temp[error_cols[23]].astype(float)"
   ]
  },
  {
   "cell_type": "code",
   "execution_count": 28,
   "metadata": {
    "collapsed": false
   },
   "outputs": [
    {
     "name": "stdout",
     "output_type": "stream",
     "text": [
      "[210]\n"
     ]
    },
    {
     "name": "stderr",
     "output_type": "stream",
     "text": [
      "/Applications/anaconda/lib/python2.7/site-packages/ipykernel/__main__.py:8: SettingWithCopyWarning: A value is trying to be set on a copy of a slice from a DataFrame.\n",
      "Try using .loc[row_index,col_indexer] = value instead\n"
     ]
    }
   ],
   "source": [
    "# 24. Jurisdiction column - No change\n",
    "# 25. Find index of rows where value is a particular string ('-')\n",
    "idx = temp[temp[error_cols[25]] == '-'].index.tolist()\n",
    "print idx\n",
    "for i in idx:\n",
    "    temp.ix[i, error_cols[25]] = np.nan\n",
    "\n",
    "temp[error_cols[25]] = temp[error_cols[25]].astype(float)"
   ]
  },
  {
   "cell_type": "code",
   "execution_count": 29,
   "metadata": {
    "collapsed": false
   },
   "outputs": [
    {
     "name": "stdout",
     "output_type": "stream",
     "text": [
      "[8, 51, 87, 147, 149, 193, 202, 210, 213, 251, 257, 321, 345, 355, 374]\n"
     ]
    },
    {
     "name": "stderr",
     "output_type": "stream",
     "text": [
      "/Applications/anaconda/lib/python2.7/site-packages/ipykernel/__main__.py:7: SettingWithCopyWarning: A value is trying to be set on a copy of a slice from a DataFrame.\n",
      "Try using .loc[row_index,col_indexer] = value instead\n"
     ]
    }
   ],
   "source": [
    "# 26. Find index of rows where value is a particular string ('-')\n",
    "idx = temp[temp[error_cols[26]] == '-'].index.tolist()\n",
    "print idx\n",
    "for i in idx:\n",
    "    temp.ix[i, error_cols[26]] = np.nan\n",
    "\n",
    "temp[error_cols[26]] = temp[error_cols[26]].astype(float)"
   ]
  },
  {
   "cell_type": "code",
   "execution_count": 30,
   "metadata": {
    "collapsed": false
   },
   "outputs": [
    {
     "name": "stdout",
     "output_type": "stream",
     "text": [
      "[149, 257, 321, 345]\n"
     ]
    },
    {
     "name": "stderr",
     "output_type": "stream",
     "text": [
      "/Applications/anaconda/lib/python2.7/site-packages/ipykernel/__main__.py:7: SettingWithCopyWarning: A value is trying to be set on a copy of a slice from a DataFrame.\n",
      "Try using .loc[row_index,col_indexer] = value instead\n"
     ]
    }
   ],
   "source": [
    "# 27. Find index of rows where value is a particular string ('-')\n",
    "idx = temp[temp[error_cols[27]] == '-'].index.tolist()\n",
    "print idx\n",
    "for i in idx:\n",
    "    temp.ix[i, error_cols[27]] = np.nan\n",
    "\n",
    "temp[error_cols[27]] = temp[error_cols[27]].astype(float)"
   ]
  },
  {
   "cell_type": "code",
   "execution_count": 31,
   "metadata": {
    "collapsed": false
   },
   "outputs": [
    {
     "name": "stdout",
     "output_type": "stream",
     "text": [
      "[210, 257, 345, 374]\n"
     ]
    },
    {
     "name": "stderr",
     "output_type": "stream",
     "text": [
      "/Applications/anaconda/lib/python2.7/site-packages/ipykernel/__main__.py:7: SettingWithCopyWarning: A value is trying to be set on a copy of a slice from a DataFrame.\n",
      "Try using .loc[row_index,col_indexer] = value instead\n"
     ]
    }
   ],
   "source": [
    "# 28. Find index of rows where value is a particular string ('-')\n",
    "idx = temp[temp[error_cols[28]] == '-'].index.tolist()\n",
    "print idx\n",
    "for i in idx:\n",
    "    temp.ix[i, error_cols[28]] = np.nan\n",
    "\n",
    "temp[error_cols[28]] = temp[error_cols[28]].astype(float)"
   ]
  },
  {
   "cell_type": "code",
   "execution_count": 32,
   "metadata": {
    "collapsed": true
   },
   "outputs": [],
   "source": [
    "# Save clean error column data\n",
    "temp.to_csv('clean_data_to_merge.csv', index = False)"
   ]
  },
  {
   "cell_type": "code",
   "execution_count": 33,
   "metadata": {
    "collapsed": false
   },
   "outputs": [
    {
     "data": {
      "text/plain": [
       "'County'"
      ]
     },
     "execution_count": 33,
     "metadata": {},
     "output_type": "execute_result"
    }
   ],
   "source": [
    "# Remove County and Jurisdiction from error columns\n",
    "error_cols.pop(24)\n",
    "error_cols.pop(10)"
   ]
  },
  {
   "cell_type": "code",
   "execution_count": 34,
   "metadata": {
    "collapsed": false
   },
   "outputs": [],
   "source": [
    "# Delete error columns from data\n",
    "for col in error_cols:\n",
    "    del data[col]"
   ]
  },
  {
   "cell_type": "code",
   "execution_count": 35,
   "metadata": {
    "collapsed": true
   },
   "outputs": [],
   "source": [
    "# Bad Columns that have all values either 0 or 100 from data\n",
    "bad_cols = ['Total; Estimate; Living in a place', 'Total; Estimate; Not living in a place', 'Total; Estimate; Living in 12 selected states', 'Total; Estimate; Living in 12 selected states - Worked in minor civil division of residence', 'Total; Estimate; Living in 12 selected states - Worked outside minor civil division of residence', 'Total; Estimate; Not living in 12 selected states']"
   ]
  },
  {
   "cell_type": "code",
   "execution_count": 36,
   "metadata": {
    "collapsed": true
   },
   "outputs": [],
   "source": [
    "# Delete bad columns from data\n",
    "for col in bad_cols:\n",
    "    del data[col]"
   ]
  },
  {
   "cell_type": "code",
   "execution_count": 37,
   "metadata": {
    "collapsed": false
   },
   "outputs": [
    {
     "name": "stdout",
     "output_type": "stream",
     "text": [
      "(378, 347)\n",
      "(378, 29)\n"
     ]
    }
   ],
   "source": [
    "# Print # of rows and cols\n",
    "print data.shape\n",
    "print temp.shape"
   ]
  },
  {
   "cell_type": "code",
   "execution_count": 38,
   "metadata": {
    "collapsed": false
   },
   "outputs": [
    {
     "name": "stdout",
     "output_type": "stream",
     "text": [
      "(378, 374)\n"
     ]
    }
   ],
   "source": [
    "# Merge clean error column dataframe and data dataframe\n",
    "df = pd.merge(data, temp, left_on = ['Jurisdiction', 'County'], right_on = ['Jurisdiction', 'County'], how = 'inner')\n",
    "print df.shape"
   ]
  },
  {
   "cell_type": "code",
   "execution_count": 39,
   "metadata": {
    "collapsed": true
   },
   "outputs": [],
   "source": [
    "# Save clean data - Use this for model building, remember to take care of NaNs\n",
    "df.to_csv('clean_data.csv', index = False)"
   ]
  },
  {
   "cell_type": "code",
   "execution_count": 40,
   "metadata": {
    "collapsed": false
   },
   "outputs": [
    {
     "name": "stdout",
     "output_type": "stream",
     "text": [
      "0 float64\n",
      "1 float64\n",
      "2 float64\n",
      "3 float64\n",
      "4 float64\n",
      "5 float64\n",
      "6 float64\n",
      "7 float64\n",
      "8 float64\n",
      "9 float64\n",
      "10 float64\n",
      "11 float64\n",
      "12 float64\n",
      "13 float64\n",
      "14 float64\n",
      "15 float64\n",
      "16 float64\n",
      "17 float64\n",
      "18 float64\n",
      "19 float64\n",
      "20 float64\n",
      "21 float64\n",
      "22 float64\n",
      "23 float64\n",
      "24 float64\n",
      "25 float64\n",
      "26 float64\n"
     ]
    }
   ],
   "source": [
    "for i, col in enumerate(error_cols):\n",
    "    print i, temp[col].dtypes"
   ]
  }
 ],
 "metadata": {
  "kernelspec": {
   "display_name": "Python 2",
   "language": "python",
   "name": "python2"
  },
  "language_info": {
   "codemirror_mode": {
    "name": "ipython",
    "version": 2
   },
   "file_extension": ".py",
   "mimetype": "text/x-python",
   "name": "python",
   "nbconvert_exporter": "python",
   "pygments_lexer": "ipython2",
   "version": "2.7.10"
  }
 },
 "nbformat": 4,
 "nbformat_minor": 0
}
